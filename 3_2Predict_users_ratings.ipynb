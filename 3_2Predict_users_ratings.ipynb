{
  "cells": [
    {
      "cell_type": "markdown",
      "id": "7168a042",
      "metadata": {
        "papermill": {
          "duration": 0.039198,
          "end_time": "2021-11-18T11:26:01.347801",
          "exception": false,
          "start_time": "2021-11-18T11:26:01.308603",
          "status": "completed"
        },
        "tags": [],
        "id": "7168a042"
      },
      "source": [
        "# 1_Instalation de Pyspark"
      ]
    },
    {
      "cell_type": "code",
      "execution_count": 162,
      "id": "87e84ccb",
      "metadata": {
        "execution": {
          "iopub.execute_input": "2021-11-18T11:26:01.433595Z",
          "iopub.status.busy": "2021-11-18T11:26:01.431951Z",
          "iopub.status.idle": "2021-11-18T11:26:54.303354Z",
          "shell.execute_reply": "2021-11-18T11:26:54.302600Z",
          "shell.execute_reply.started": "2021-08-07T21:24:01.191294Z"
        },
        "papermill": {
          "duration": 52.915545,
          "end_time": "2021-11-18T11:26:54.303523",
          "exception": false,
          "start_time": "2021-11-18T11:26:01.387978",
          "status": "completed"
        },
        "tags": [],
        "colab": {
          "base_uri": "https://localhost:8080/"
        },
        "id": "87e84ccb",
        "outputId": "9f895e82-1cdb-4996-af7a-096c62ff5f11"
      },
      "outputs": [
        {
          "output_type": "stream",
          "name": "stdout",
          "text": [
            "Looking in indexes: https://pypi.org/simple, https://us-python.pkg.dev/colab-wheels/public/simple/\n",
            "Requirement already satisfied: pyspark in /usr/local/lib/python3.8/dist-packages (3.3.1)\n",
            "Requirement already satisfied: py4j==0.10.9.5 in /usr/local/lib/python3.8/dist-packages (from pyspark) (0.10.9.5)\n",
            "Looking in indexes: https://pypi.org/simple, https://us-python.pkg.dev/colab-wheels/public/simple/\n",
            "Requirement already satisfied: findspark in /usr/local/lib/python3.8/dist-packages (2.0.1)\n"
          ]
        }
      ],
      "source": [
        "#Install Pyspark\n",
        "!pip install pyspark\n",
        "!pip install findspark"
      ]
    },
    {
      "cell_type": "markdown",
      "id": "39c1b5bb",
      "metadata": {
        "papermill": {
          "duration": 0.160837,
          "end_time": "2021-11-18T11:26:54.626079",
          "exception": false,
          "start_time": "2021-11-18T11:26:54.465242",
          "status": "completed"
        },
        "tags": [],
        "id": "39c1b5bb"
      },
      "source": [
        "# 2_Import des librairies"
      ]
    },
    {
      "cell_type": "code",
      "execution_count": 163,
      "id": "905a9666",
      "metadata": {
        "execution": {
          "iopub.execute_input": "2021-11-18T11:26:55.080096Z",
          "iopub.status.busy": "2021-11-18T11:26:54.976307Z",
          "iopub.status.idle": "2021-11-18T11:26:57.089446Z",
          "shell.execute_reply": "2021-11-18T11:26:57.088841Z",
          "shell.execute_reply.started": "2021-08-07T21:25:07.115523Z"
        },
        "papermill": {
          "duration": 2.304635,
          "end_time": "2021-11-18T11:26:57.089579",
          "exception": false,
          "start_time": "2021-11-18T11:26:54.784944",
          "status": "completed"
        },
        "tags": [],
        "id": "905a9666"
      },
      "outputs": [],
      "source": [
        "import findspark\n",
        "findspark.init\n",
        "from pyspark.sql import SparkSession\n",
        "import pyspark.sql.functions as f\n",
        "from pyspark.sql.types import StructType,StringType,IntegerType,MapType,ArrayType,StructField\n",
        "from pyspark.sql.functions import count,when,col,isnan,from_json,explode,map_keys,udf,coalesce,lit,to_date,year,split,get_json_object,array,collect_list,concat_ws,regexp_replace,regexp_extract\n",
        "from pyspark.sql.functions import row_number,lit\n",
        "from pyspark.sql.window import Window\n",
        "import matplotlib.pyplot as plt\n",
        "import numpy as np\n",
        "import pandas as pd\n",
        "import seaborn as sns\n",
        "from matplotlib.ticker import FuncFormatter\n",
        "import plotly.graph_objects as go\n",
        "import plotly.express as px\n",
        "from wordcloud import WordCloud\n",
        "import os\n",
        "\n"
      ]
    },
    {
      "cell_type": "markdown",
      "id": "2d0a2eed",
      "metadata": {
        "papermill": {
          "duration": 0.15887,
          "end_time": "2021-11-18T11:26:57.407901",
          "exception": false,
          "start_time": "2021-11-18T11:26:57.249031",
          "status": "completed"
        },
        "tags": [],
        "id": "2d0a2eed"
      },
      "source": [
        "# 3_Spark session"
      ]
    },
    {
      "cell_type": "code",
      "execution_count": 164,
      "id": "043f49ef",
      "metadata": {
        "execution": {
          "iopub.execute_input": "2021-11-18T11:26:57.730158Z",
          "iopub.status.busy": "2021-11-18T11:26:57.729569Z",
          "iopub.status.idle": "2021-11-18T11:27:03.343350Z",
          "shell.execute_reply": "2021-11-18T11:27:03.342201Z",
          "shell.execute_reply.started": "2021-08-07T21:25:15.517602Z"
        },
        "papermill": {
          "duration": 5.775743,
          "end_time": "2021-11-18T11:27:03.343557",
          "exception": false,
          "start_time": "2021-11-18T11:26:57.567814",
          "status": "completed"
        },
        "tags": [],
        "id": "043f49ef"
      },
      "outputs": [],
      "source": [
        "#Start Spark session\n",
        "spark = SparkSession.builder.master(\"local[*]\").getOrCreate()"
      ]
    },
    {
      "cell_type": "markdown",
      "id": "e6e70cf0",
      "metadata": {
        "papermill": {
          "duration": 0.15843,
          "end_time": "2021-11-18T11:27:03.667618",
          "exception": false,
          "start_time": "2021-11-18T11:27:03.509188",
          "status": "completed"
        },
        "tags": [],
        "id": "e6e70cf0"
      },
      "source": [
        "# 4_Import dataset"
      ]
    },
    {
      "cell_type": "code",
      "execution_count": 165,
      "id": "2f52cef8",
      "metadata": {
        "execution": {
          "iopub.execute_input": "2021-11-18T11:27:04.310907Z",
          "iopub.status.busy": "2021-11-18T11:27:04.310231Z",
          "iopub.status.idle": "2021-11-18T11:27:04.337233Z",
          "shell.execute_reply": "2021-11-18T11:27:04.336427Z",
          "shell.execute_reply.started": "2021-08-07T21:46:37.418057Z"
        },
        "papermill": {
          "duration": 0.190719,
          "end_time": "2021-11-18T11:27:04.337464",
          "exception": false,
          "start_time": "2021-11-18T11:27:04.146745",
          "status": "completed"
        },
        "tags": [],
        "colab": {
          "base_uri": "https://localhost:8080/"
        },
        "id": "2f52cef8",
        "outputId": "c781a515-64b1-4c66-d981-cf1d9f11276d"
      },
      "outputs": [
        {
          "output_type": "stream",
          "name": "stdout",
          "text": [
            "Drive already mounted at /content/drive; to attempt to forcibly remount, call drive.mount(\"/content/drive\", force_remount=True).\n"
          ]
        }
      ],
      "source": [
        "#connexion to my drive\n",
        "from google.colab import drive\n",
        "drive.mount('/content/drive')\n"
      ]
    },
    {
      "cell_type": "code",
      "execution_count": 166,
      "id": "3e7e8e0d",
      "metadata": {
        "execution": {
          "iopub.execute_input": "2021-11-18T11:27:04.659467Z",
          "iopub.status.busy": "2021-11-18T11:27:04.658906Z",
          "iopub.status.idle": "2021-11-18T11:27:43.027776Z",
          "shell.execute_reply": "2021-11-18T11:27:43.027253Z",
          "shell.execute_reply.started": "2021-08-07T21:25:29.594332Z"
        },
        "papermill": {
          "duration": 38.531051,
          "end_time": "2021-11-18T11:27:43.027922",
          "exception": false,
          "start_time": "2021-11-18T11:27:04.496871",
          "status": "completed"
        },
        "tags": [],
        "id": "3e7e8e0d"
      },
      "outputs": [],
      "source": [
        "#import datasets\n",
        "ratings=spark.read\\\n",
        ".format(\"com.databricks.spark.csv\")\\\n",
        ".option(\"multiline\",True)\\\n",
        ".option(\"header\",True)\\\n",
        ".option(\"escape\", \"\\\"\")\\\n",
        ".option(\"inferschema\",True)\\\n",
        ".csv(\"/content/drive/MyDrive/archive/ratings.csv\")"
      ]
    },
    {
      "cell_type": "markdown",
      "id": "1215a3ac",
      "metadata": {
        "papermill": {
          "duration": 0.185258,
          "end_time": "2021-11-18T11:30:05.623386",
          "exception": false,
          "start_time": "2021-11-18T11:30:05.438128",
          "status": "completed"
        },
        "tags": [],
        "id": "1215a3ac"
      },
      "source": [
        "# 5_Systeme de recommandation en utilisant ALS "
      ]
    },
    {
      "cell_type": "markdown",
      "source": [
        "**Intêret d'utiliser le modele ALS :**\n",
        "\n",
        "Nous avons choisi d'utiuliser le modele ALS pour les raiusons suivantes :      \n",
        "\n",
        "Le modèle ALS (Alternating Least Squares) est utilisé pour résoudre des problèmes de factorisation de matrices, comme la recommandation de films ou de produits. Il fonctionne en décomposant une matrice en deux matrices plus petites, appelées matrices de facteurs, qui contiennent des informations sur les utilisateurs et les articles. Ces matrices de facteurs sont ensuite utilisées pour prédire les notes ou les évaluations manquantes dans la matrice d'origine.\n",
        "\n",
        "En utilisant PySpark, nous pouvons paralléliser le calcul du modèle ALS sur plusieurs machines, ce qui permet de traiter des ensembles de données plus volumineux et de réduire les temps de calcul. Cela rend le modèle ALS plus efficace pour les grandes entreprises qui ont des besoins de traitement de données massives."
      ],
      "metadata": {
        "id": "ARmsGyy0Eai5"
      },
      "id": "ARmsGyy0Eai5"
    },
    {
      "cell_type": "code",
      "execution_count": 167,
      "id": "7b2dcb02",
      "metadata": {
        "execution": {
          "iopub.execute_input": "2021-11-18T11:30:14.726463Z",
          "iopub.status.busy": "2021-11-18T11:30:14.725834Z",
          "iopub.status.idle": "2021-11-18T11:30:31.799495Z",
          "shell.execute_reply": "2021-11-18T11:30:31.799036Z",
          "shell.execute_reply.started": "2021-08-07T21:29:28.728869Z"
        },
        "papermill": {
          "duration": 17.264091,
          "end_time": "2021-11-18T11:30:31.799635",
          "exception": false,
          "start_time": "2021-11-18T11:30:14.535544",
          "status": "completed"
        },
        "tags": [],
        "id": "7b2dcb02",
        "colab": {
          "base_uri": "https://localhost:8080/"
        },
        "outputId": "bfa7be13-411d-4c4c-c7fb-82f2839ca2b8"
      },
      "outputs": [
        {
          "output_type": "stream",
          "name": "stdout",
          "text": [
            "Un aperçu du dataframe ratings : \n",
            "+------+-------+------+----------+\n",
            "|userId|movieId|rating| timestamp|\n",
            "+------+-------+------+----------+\n",
            "|     1|    110|   1.0|1425941529|\n",
            "|     1|    147|   4.5|1425942435|\n",
            "|     1|    858|   5.0|1425941523|\n",
            "|     1|   1221|   5.0|1425941546|\n",
            "|     1|   1246|   5.0|1425941556|\n",
            "+------+-------+------+----------+\n",
            "only showing top 5 rows\n",
            "\n",
            "Root-mean-square error = 0.8427603174530015\n"
          ]
        }
      ],
      "source": [
        "from pyspark.ml.evaluation import RegressionEvaluator\n",
        "from pyspark.ml.recommendation import ALS\n",
        "from pyspark.sql import Row\n",
        "\n",
        "print(\"Un aperçu du dataframe ratings : \")\n",
        "ratings.select('userId','movieId','rating','timestamp').show(5)\n",
        "\n",
        "#Creation du train et du test avec respectivement 80% et 20% du df original ratings\n",
        "(training, test) = ratings.randomSplit([0.8, 0.2])\n",
        "\n",
        "\n",
        "als = ALS(maxIter=5, regParam=0.01, userCol=\"userId\", itemCol=\"movieId\", ratingCol=\"rating\",\n",
        "          coldStartStrategy=\"drop\")\n",
        "\n",
        "model = als.fit(training)\n",
        "\n",
        "# Evaluatation du modele en utilsiant la RMSE sur les données test\n",
        "predictions = model.transform(test)\n",
        "evaluator = RegressionEvaluator(metricName=\"rmse\", labelCol=\"rating\",predictionCol=\"prediction\")\n",
        "rmse = evaluator.evaluate(predictions)\n",
        "print(\"Root-mean-square error = \" + str(rmse))"
      ]
    },
    {
      "cell_type": "code",
      "execution_count": 168,
      "id": "38f2af80",
      "metadata": {
        "execution": {
          "iopub.execute_input": "2021-11-18T11:30:32.175038Z",
          "iopub.status.busy": "2021-11-18T11:30:32.174472Z",
          "iopub.status.idle": "2021-11-18T11:30:32.561607Z",
          "shell.execute_reply": "2021-11-18T11:30:32.560706Z",
          "shell.execute_reply.started": "2021-08-07T21:36:17.139769Z"
        },
        "papermill": {
          "duration": 0.575329,
          "end_time": "2021-11-18T11:30:32.561833",
          "exception": false,
          "start_time": "2021-11-18T11:30:31.986504",
          "status": "completed"
        },
        "tags": [],
        "id": "38f2af80"
      },
      "outputs": [],
      "source": [
        "# Top 10 des films recommandés pour chaque utilisateur\n",
        "userRecs = model.recommendForAllUsers(10)\n",
        "\n",
        "# Top 10 des utilisateurs suceptibes d'appréciés chaque films\n",
        "movieRecs = model.recommendForAllItems(10)\n"
      ]
    },
    {
      "cell_type": "code",
      "execution_count": 160,
      "id": "9e41e81e",
      "metadata": {
        "execution": {
          "iopub.execute_input": "2021-11-18T11:30:32.968551Z",
          "iopub.status.busy": "2021-11-18T11:30:32.967955Z",
          "iopub.status.idle": "2021-11-18T11:30:56.160901Z",
          "shell.execute_reply": "2021-11-18T11:30:56.160419Z",
          "shell.execute_reply.started": "2021-08-07T21:38:20.443515Z"
        },
        "papermill": {
          "duration": 23.38179,
          "end_time": "2021-11-18T11:30:56.161043",
          "exception": false,
          "start_time": "2021-11-18T11:30:32.779253",
          "status": "completed"
        },
        "tags": [],
        "id": "9e41e81e"
      },
      "outputs": [],
      "source": [
        "# On concertit le dataframe spark en dataframe pandas pour requeter les utilisateurs\n",
        "userRecs_df = userRecs.toPandas()\n",
        "movieRecs_df = movieRecs.toPandas()"
      ]
    },
    {
      "cell_type": "code",
      "source": [
        "def get_recommended_film_for_given_user(user_id,n):\n",
        "    line = userRecs_df[userRecs_df['userId'] == user_id]['recommendations']\n",
        "    df = pd.DataFrame(line.tolist(), columns=[\"1\", \"2\",\"3\",\"4\",\"5\",\"6\",\"7\",\"8\",\"9\",\"10\"])\n",
        "    df = df.T\n",
        "    df = df.rename(columns={0: \"Predictions\"})\n",
        "    print(f\"Pour l'utilisateur {user_id}, le top {n} des films à voir par ordre de priorité sont les suivants (chaque film a    une note associée :\")\n",
        "    return df.head(n)"
      ],
      "metadata": {
        "id": "mv4vuoZT2XsI"
      },
      "id": "mv4vuoZT2XsI",
      "execution_count": 161,
      "outputs": []
    },
    {
      "cell_type": "code",
      "source": [
        "get_recommended_film_for_given_user(65,10)"
      ],
      "metadata": {
        "colab": {
          "base_uri": "https://localhost:8080/",
          "height": 381
        },
        "id": "NPlMLYJF_qY8",
        "outputId": "6bc755b6-5335-4323-ba66-48022f6d5019"
      },
      "id": "NPlMLYJF_qY8",
      "execution_count": 169,
      "outputs": [
        {
          "output_type": "stream",
          "name": "stdout",
          "text": [
            "Pour l'utilisateur 65, le top 10 des films à voir par ordre de priorité sont les suivants (chaque film a    une note associée :\n"
          ]
        },
        {
          "output_type": "execute_result",
          "data": {
            "text/plain": [
              "                     Predictions\n",
              "1   (174817, 12.147197723388672)\n",
              "2   (150667, 11.896146774291992)\n",
              "3      (153022, 9.8738374710083)\n",
              "4    (137112, 9.612909317016602)\n",
              "5    (170731, 9.289995193481445)\n",
              "6     (174799, 9.24531078338623)\n",
              "7     (116387, 9.17775821685791)\n",
              "8     (78329, 9.131409645080566)\n",
              "9     (173283, 8.82858943939209)\n",
              "10   (154882, 8.776744842529297)"
            ],
            "text/html": [
              "\n",
              "  <div id=\"df-ff58f0b6-09a5-4726-824f-2f86e8e63237\">\n",
              "    <div class=\"colab-df-container\">\n",
              "      <div>\n",
              "<style scoped>\n",
              "    .dataframe tbody tr th:only-of-type {\n",
              "        vertical-align: middle;\n",
              "    }\n",
              "\n",
              "    .dataframe tbody tr th {\n",
              "        vertical-align: top;\n",
              "    }\n",
              "\n",
              "    .dataframe thead th {\n",
              "        text-align: right;\n",
              "    }\n",
              "</style>\n",
              "<table border=\"1\" class=\"dataframe\">\n",
              "  <thead>\n",
              "    <tr style=\"text-align: right;\">\n",
              "      <th></th>\n",
              "      <th>Predictions</th>\n",
              "    </tr>\n",
              "  </thead>\n",
              "  <tbody>\n",
              "    <tr>\n",
              "      <th>1</th>\n",
              "      <td>(174817, 12.147197723388672)</td>\n",
              "    </tr>\n",
              "    <tr>\n",
              "      <th>2</th>\n",
              "      <td>(150667, 11.896146774291992)</td>\n",
              "    </tr>\n",
              "    <tr>\n",
              "      <th>3</th>\n",
              "      <td>(153022, 9.8738374710083)</td>\n",
              "    </tr>\n",
              "    <tr>\n",
              "      <th>4</th>\n",
              "      <td>(137112, 9.612909317016602)</td>\n",
              "    </tr>\n",
              "    <tr>\n",
              "      <th>5</th>\n",
              "      <td>(170731, 9.289995193481445)</td>\n",
              "    </tr>\n",
              "    <tr>\n",
              "      <th>6</th>\n",
              "      <td>(174799, 9.24531078338623)</td>\n",
              "    </tr>\n",
              "    <tr>\n",
              "      <th>7</th>\n",
              "      <td>(116387, 9.17775821685791)</td>\n",
              "    </tr>\n",
              "    <tr>\n",
              "      <th>8</th>\n",
              "      <td>(78329, 9.131409645080566)</td>\n",
              "    </tr>\n",
              "    <tr>\n",
              "      <th>9</th>\n",
              "      <td>(173283, 8.82858943939209)</td>\n",
              "    </tr>\n",
              "    <tr>\n",
              "      <th>10</th>\n",
              "      <td>(154882, 8.776744842529297)</td>\n",
              "    </tr>\n",
              "  </tbody>\n",
              "</table>\n",
              "</div>\n",
              "      <button class=\"colab-df-convert\" onclick=\"convertToInteractive('df-ff58f0b6-09a5-4726-824f-2f86e8e63237')\"\n",
              "              title=\"Convert this dataframe to an interactive table.\"\n",
              "              style=\"display:none;\">\n",
              "        \n",
              "  <svg xmlns=\"http://www.w3.org/2000/svg\" height=\"24px\"viewBox=\"0 0 24 24\"\n",
              "       width=\"24px\">\n",
              "    <path d=\"M0 0h24v24H0V0z\" fill=\"none\"/>\n",
              "    <path d=\"M18.56 5.44l.94 2.06.94-2.06 2.06-.94-2.06-.94-.94-2.06-.94 2.06-2.06.94zm-11 1L8.5 8.5l.94-2.06 2.06-.94-2.06-.94L8.5 2.5l-.94 2.06-2.06.94zm10 10l.94 2.06.94-2.06 2.06-.94-2.06-.94-.94-2.06-.94 2.06-2.06.94z\"/><path d=\"M17.41 7.96l-1.37-1.37c-.4-.4-.92-.59-1.43-.59-.52 0-1.04.2-1.43.59L10.3 9.45l-7.72 7.72c-.78.78-.78 2.05 0 2.83L4 21.41c.39.39.9.59 1.41.59.51 0 1.02-.2 1.41-.59l7.78-7.78 2.81-2.81c.8-.78.8-2.07 0-2.86zM5.41 20L4 18.59l7.72-7.72 1.47 1.35L5.41 20z\"/>\n",
              "  </svg>\n",
              "      </button>\n",
              "      \n",
              "  <style>\n",
              "    .colab-df-container {\n",
              "      display:flex;\n",
              "      flex-wrap:wrap;\n",
              "      gap: 12px;\n",
              "    }\n",
              "\n",
              "    .colab-df-convert {\n",
              "      background-color: #E8F0FE;\n",
              "      border: none;\n",
              "      border-radius: 50%;\n",
              "      cursor: pointer;\n",
              "      display: none;\n",
              "      fill: #1967D2;\n",
              "      height: 32px;\n",
              "      padding: 0 0 0 0;\n",
              "      width: 32px;\n",
              "    }\n",
              "\n",
              "    .colab-df-convert:hover {\n",
              "      background-color: #E2EBFA;\n",
              "      box-shadow: 0px 1px 2px rgba(60, 64, 67, 0.3), 0px 1px 3px 1px rgba(60, 64, 67, 0.15);\n",
              "      fill: #174EA6;\n",
              "    }\n",
              "\n",
              "    [theme=dark] .colab-df-convert {\n",
              "      background-color: #3B4455;\n",
              "      fill: #D2E3FC;\n",
              "    }\n",
              "\n",
              "    [theme=dark] .colab-df-convert:hover {\n",
              "      background-color: #434B5C;\n",
              "      box-shadow: 0px 1px 3px 1px rgba(0, 0, 0, 0.15);\n",
              "      filter: drop-shadow(0px 1px 2px rgba(0, 0, 0, 0.3));\n",
              "      fill: #FFFFFF;\n",
              "    }\n",
              "  </style>\n",
              "\n",
              "      <script>\n",
              "        const buttonEl =\n",
              "          document.querySelector('#df-ff58f0b6-09a5-4726-824f-2f86e8e63237 button.colab-df-convert');\n",
              "        buttonEl.style.display =\n",
              "          google.colab.kernel.accessAllowed ? 'block' : 'none';\n",
              "\n",
              "        async function convertToInteractive(key) {\n",
              "          const element = document.querySelector('#df-ff58f0b6-09a5-4726-824f-2f86e8e63237');\n",
              "          const dataTable =\n",
              "            await google.colab.kernel.invokeFunction('convertToInteractive',\n",
              "                                                     [key], {});\n",
              "          if (!dataTable) return;\n",
              "\n",
              "          const docLinkHtml = 'Like what you see? Visit the ' +\n",
              "            '<a target=\"_blank\" href=https://colab.research.google.com/notebooks/data_table.ipynb>data table notebook</a>'\n",
              "            + ' to learn more about interactive tables.';\n",
              "          element.innerHTML = '';\n",
              "          dataTable['output_type'] = 'display_data';\n",
              "          await google.colab.output.renderOutput(dataTable, element);\n",
              "          const docLink = document.createElement('div');\n",
              "          docLink.innerHTML = docLinkHtml;\n",
              "          element.appendChild(docLink);\n",
              "        }\n",
              "      </script>\n",
              "    </div>\n",
              "  </div>\n",
              "  "
            ]
          },
          "metadata": {},
          "execution_count": 169
        }
      ]
    },
    {
      "cell_type": "code",
      "source": [
        "get_recommended_film_for_given_user(5678,10)"
      ],
      "metadata": {
        "colab": {
          "base_uri": "https://localhost:8080/",
          "height": 381
        },
        "id": "k1yhPUXuCHl8",
        "outputId": "5543ec96-5668-434a-e572-b01db17296c2"
      },
      "id": "k1yhPUXuCHl8",
      "execution_count": 170,
      "outputs": [
        {
          "output_type": "stream",
          "name": "stdout",
          "text": [
            "Pour l'utilisateur 5678, le top 10 des films à voir par ordre de priorité sont les suivants (chaque film a    une note associée :\n"
          ]
        },
        {
          "output_type": "execute_result",
          "data": {
            "text/plain": [
              "                     Predictions\n",
              "1    (150667, 17.45391273498535)\n",
              "2   (170731, 15.960968017578125)\n",
              "3     (152711, 15.3615083694458)\n",
              "4   (170477, 12.068924903869629)\n",
              "5   (127126, 11.878308296203613)\n",
              "6    (96255, 11.138431549072266)\n",
              "7   (161292, 10.771849632263184)\n",
              "8   (142092, 10.658073425292969)\n",
              "9   (100902, 10.491951942443848)\n",
              "10    (118286, 10.3538818359375)"
            ],
            "text/html": [
              "\n",
              "  <div id=\"df-8e4341f5-6e92-4b2e-acbe-9849970d7e28\">\n",
              "    <div class=\"colab-df-container\">\n",
              "      <div>\n",
              "<style scoped>\n",
              "    .dataframe tbody tr th:only-of-type {\n",
              "        vertical-align: middle;\n",
              "    }\n",
              "\n",
              "    .dataframe tbody tr th {\n",
              "        vertical-align: top;\n",
              "    }\n",
              "\n",
              "    .dataframe thead th {\n",
              "        text-align: right;\n",
              "    }\n",
              "</style>\n",
              "<table border=\"1\" class=\"dataframe\">\n",
              "  <thead>\n",
              "    <tr style=\"text-align: right;\">\n",
              "      <th></th>\n",
              "      <th>Predictions</th>\n",
              "    </tr>\n",
              "  </thead>\n",
              "  <tbody>\n",
              "    <tr>\n",
              "      <th>1</th>\n",
              "      <td>(150667, 17.45391273498535)</td>\n",
              "    </tr>\n",
              "    <tr>\n",
              "      <th>2</th>\n",
              "      <td>(170731, 15.960968017578125)</td>\n",
              "    </tr>\n",
              "    <tr>\n",
              "      <th>3</th>\n",
              "      <td>(152711, 15.3615083694458)</td>\n",
              "    </tr>\n",
              "    <tr>\n",
              "      <th>4</th>\n",
              "      <td>(170477, 12.068924903869629)</td>\n",
              "    </tr>\n",
              "    <tr>\n",
              "      <th>5</th>\n",
              "      <td>(127126, 11.878308296203613)</td>\n",
              "    </tr>\n",
              "    <tr>\n",
              "      <th>6</th>\n",
              "      <td>(96255, 11.138431549072266)</td>\n",
              "    </tr>\n",
              "    <tr>\n",
              "      <th>7</th>\n",
              "      <td>(161292, 10.771849632263184)</td>\n",
              "    </tr>\n",
              "    <tr>\n",
              "      <th>8</th>\n",
              "      <td>(142092, 10.658073425292969)</td>\n",
              "    </tr>\n",
              "    <tr>\n",
              "      <th>9</th>\n",
              "      <td>(100902, 10.491951942443848)</td>\n",
              "    </tr>\n",
              "    <tr>\n",
              "      <th>10</th>\n",
              "      <td>(118286, 10.3538818359375)</td>\n",
              "    </tr>\n",
              "  </tbody>\n",
              "</table>\n",
              "</div>\n",
              "      <button class=\"colab-df-convert\" onclick=\"convertToInteractive('df-8e4341f5-6e92-4b2e-acbe-9849970d7e28')\"\n",
              "              title=\"Convert this dataframe to an interactive table.\"\n",
              "              style=\"display:none;\">\n",
              "        \n",
              "  <svg xmlns=\"http://www.w3.org/2000/svg\" height=\"24px\"viewBox=\"0 0 24 24\"\n",
              "       width=\"24px\">\n",
              "    <path d=\"M0 0h24v24H0V0z\" fill=\"none\"/>\n",
              "    <path d=\"M18.56 5.44l.94 2.06.94-2.06 2.06-.94-2.06-.94-.94-2.06-.94 2.06-2.06.94zm-11 1L8.5 8.5l.94-2.06 2.06-.94-2.06-.94L8.5 2.5l-.94 2.06-2.06.94zm10 10l.94 2.06.94-2.06 2.06-.94-2.06-.94-.94-2.06-.94 2.06-2.06.94z\"/><path d=\"M17.41 7.96l-1.37-1.37c-.4-.4-.92-.59-1.43-.59-.52 0-1.04.2-1.43.59L10.3 9.45l-7.72 7.72c-.78.78-.78 2.05 0 2.83L4 21.41c.39.39.9.59 1.41.59.51 0 1.02-.2 1.41-.59l7.78-7.78 2.81-2.81c.8-.78.8-2.07 0-2.86zM5.41 20L4 18.59l7.72-7.72 1.47 1.35L5.41 20z\"/>\n",
              "  </svg>\n",
              "      </button>\n",
              "      \n",
              "  <style>\n",
              "    .colab-df-container {\n",
              "      display:flex;\n",
              "      flex-wrap:wrap;\n",
              "      gap: 12px;\n",
              "    }\n",
              "\n",
              "    .colab-df-convert {\n",
              "      background-color: #E8F0FE;\n",
              "      border: none;\n",
              "      border-radius: 50%;\n",
              "      cursor: pointer;\n",
              "      display: none;\n",
              "      fill: #1967D2;\n",
              "      height: 32px;\n",
              "      padding: 0 0 0 0;\n",
              "      width: 32px;\n",
              "    }\n",
              "\n",
              "    .colab-df-convert:hover {\n",
              "      background-color: #E2EBFA;\n",
              "      box-shadow: 0px 1px 2px rgba(60, 64, 67, 0.3), 0px 1px 3px 1px rgba(60, 64, 67, 0.15);\n",
              "      fill: #174EA6;\n",
              "    }\n",
              "\n",
              "    [theme=dark] .colab-df-convert {\n",
              "      background-color: #3B4455;\n",
              "      fill: #D2E3FC;\n",
              "    }\n",
              "\n",
              "    [theme=dark] .colab-df-convert:hover {\n",
              "      background-color: #434B5C;\n",
              "      box-shadow: 0px 1px 3px 1px rgba(0, 0, 0, 0.15);\n",
              "      filter: drop-shadow(0px 1px 2px rgba(0, 0, 0, 0.3));\n",
              "      fill: #FFFFFF;\n",
              "    }\n",
              "  </style>\n",
              "\n",
              "      <script>\n",
              "        const buttonEl =\n",
              "          document.querySelector('#df-8e4341f5-6e92-4b2e-acbe-9849970d7e28 button.colab-df-convert');\n",
              "        buttonEl.style.display =\n",
              "          google.colab.kernel.accessAllowed ? 'block' : 'none';\n",
              "\n",
              "        async function convertToInteractive(key) {\n",
              "          const element = document.querySelector('#df-8e4341f5-6e92-4b2e-acbe-9849970d7e28');\n",
              "          const dataTable =\n",
              "            await google.colab.kernel.invokeFunction('convertToInteractive',\n",
              "                                                     [key], {});\n",
              "          if (!dataTable) return;\n",
              "\n",
              "          const docLinkHtml = 'Like what you see? Visit the ' +\n",
              "            '<a target=\"_blank\" href=https://colab.research.google.com/notebooks/data_table.ipynb>data table notebook</a>'\n",
              "            + ' to learn more about interactive tables.';\n",
              "          element.innerHTML = '';\n",
              "          dataTable['output_type'] = 'display_data';\n",
              "          await google.colab.output.renderOutput(dataTable, element);\n",
              "          const docLink = document.createElement('div');\n",
              "          docLink.innerHTML = docLinkHtml;\n",
              "          element.appendChild(docLink);\n",
              "        }\n",
              "      </script>\n",
              "    </div>\n",
              "  </div>\n",
              "  "
            ]
          },
          "metadata": {},
          "execution_count": 170
        }
      ]
    },
    {
      "cell_type": "code",
      "source": [
        "get_recommended_film_for_given_user(5,5)"
      ],
      "metadata": {
        "colab": {
          "base_uri": "https://localhost:8080/",
          "height": 224
        },
        "id": "wnXQ7p3tCKK5",
        "outputId": "7aafecc2-d1ff-4c0d-b058-830cb633c43d"
      },
      "id": "wnXQ7p3tCKK5",
      "execution_count": 171,
      "outputs": [
        {
          "output_type": "stream",
          "name": "stdout",
          "text": [
            "Pour l'utilisateur 5, le top 5 des films à voir par ordre de priorité sont les suivants (chaque film a    une note associée :\n"
          ]
        },
        {
          "output_type": "execute_result",
          "data": {
            "text/plain": [
              "                    Predictions\n",
              "1  (174817, 13.085582733154297)\n",
              "2  (137112, 12.931806564331055)\n",
              "3  (165367, 12.351509094238281)\n",
              "4   (74406, 12.324579238891602)\n",
              "5  (150667, 12.089497566223145)"
            ],
            "text/html": [
              "\n",
              "  <div id=\"df-34024173-2778-4fa9-a8f7-48ea7ec32b7b\">\n",
              "    <div class=\"colab-df-container\">\n",
              "      <div>\n",
              "<style scoped>\n",
              "    .dataframe tbody tr th:only-of-type {\n",
              "        vertical-align: middle;\n",
              "    }\n",
              "\n",
              "    .dataframe tbody tr th {\n",
              "        vertical-align: top;\n",
              "    }\n",
              "\n",
              "    .dataframe thead th {\n",
              "        text-align: right;\n",
              "    }\n",
              "</style>\n",
              "<table border=\"1\" class=\"dataframe\">\n",
              "  <thead>\n",
              "    <tr style=\"text-align: right;\">\n",
              "      <th></th>\n",
              "      <th>Predictions</th>\n",
              "    </tr>\n",
              "  </thead>\n",
              "  <tbody>\n",
              "    <tr>\n",
              "      <th>1</th>\n",
              "      <td>(174817, 13.085582733154297)</td>\n",
              "    </tr>\n",
              "    <tr>\n",
              "      <th>2</th>\n",
              "      <td>(137112, 12.931806564331055)</td>\n",
              "    </tr>\n",
              "    <tr>\n",
              "      <th>3</th>\n",
              "      <td>(165367, 12.351509094238281)</td>\n",
              "    </tr>\n",
              "    <tr>\n",
              "      <th>4</th>\n",
              "      <td>(74406, 12.324579238891602)</td>\n",
              "    </tr>\n",
              "    <tr>\n",
              "      <th>5</th>\n",
              "      <td>(150667, 12.089497566223145)</td>\n",
              "    </tr>\n",
              "  </tbody>\n",
              "</table>\n",
              "</div>\n",
              "      <button class=\"colab-df-convert\" onclick=\"convertToInteractive('df-34024173-2778-4fa9-a8f7-48ea7ec32b7b')\"\n",
              "              title=\"Convert this dataframe to an interactive table.\"\n",
              "              style=\"display:none;\">\n",
              "        \n",
              "  <svg xmlns=\"http://www.w3.org/2000/svg\" height=\"24px\"viewBox=\"0 0 24 24\"\n",
              "       width=\"24px\">\n",
              "    <path d=\"M0 0h24v24H0V0z\" fill=\"none\"/>\n",
              "    <path d=\"M18.56 5.44l.94 2.06.94-2.06 2.06-.94-2.06-.94-.94-2.06-.94 2.06-2.06.94zm-11 1L8.5 8.5l.94-2.06 2.06-.94-2.06-.94L8.5 2.5l-.94 2.06-2.06.94zm10 10l.94 2.06.94-2.06 2.06-.94-2.06-.94-.94-2.06-.94 2.06-2.06.94z\"/><path d=\"M17.41 7.96l-1.37-1.37c-.4-.4-.92-.59-1.43-.59-.52 0-1.04.2-1.43.59L10.3 9.45l-7.72 7.72c-.78.78-.78 2.05 0 2.83L4 21.41c.39.39.9.59 1.41.59.51 0 1.02-.2 1.41-.59l7.78-7.78 2.81-2.81c.8-.78.8-2.07 0-2.86zM5.41 20L4 18.59l7.72-7.72 1.47 1.35L5.41 20z\"/>\n",
              "  </svg>\n",
              "      </button>\n",
              "      \n",
              "  <style>\n",
              "    .colab-df-container {\n",
              "      display:flex;\n",
              "      flex-wrap:wrap;\n",
              "      gap: 12px;\n",
              "    }\n",
              "\n",
              "    .colab-df-convert {\n",
              "      background-color: #E8F0FE;\n",
              "      border: none;\n",
              "      border-radius: 50%;\n",
              "      cursor: pointer;\n",
              "      display: none;\n",
              "      fill: #1967D2;\n",
              "      height: 32px;\n",
              "      padding: 0 0 0 0;\n",
              "      width: 32px;\n",
              "    }\n",
              "\n",
              "    .colab-df-convert:hover {\n",
              "      background-color: #E2EBFA;\n",
              "      box-shadow: 0px 1px 2px rgba(60, 64, 67, 0.3), 0px 1px 3px 1px rgba(60, 64, 67, 0.15);\n",
              "      fill: #174EA6;\n",
              "    }\n",
              "\n",
              "    [theme=dark] .colab-df-convert {\n",
              "      background-color: #3B4455;\n",
              "      fill: #D2E3FC;\n",
              "    }\n",
              "\n",
              "    [theme=dark] .colab-df-convert:hover {\n",
              "      background-color: #434B5C;\n",
              "      box-shadow: 0px 1px 3px 1px rgba(0, 0, 0, 0.15);\n",
              "      filter: drop-shadow(0px 1px 2px rgba(0, 0, 0, 0.3));\n",
              "      fill: #FFFFFF;\n",
              "    }\n",
              "  </style>\n",
              "\n",
              "      <script>\n",
              "        const buttonEl =\n",
              "          document.querySelector('#df-34024173-2778-4fa9-a8f7-48ea7ec32b7b button.colab-df-convert');\n",
              "        buttonEl.style.display =\n",
              "          google.colab.kernel.accessAllowed ? 'block' : 'none';\n",
              "\n",
              "        async function convertToInteractive(key) {\n",
              "          const element = document.querySelector('#df-34024173-2778-4fa9-a8f7-48ea7ec32b7b');\n",
              "          const dataTable =\n",
              "            await google.colab.kernel.invokeFunction('convertToInteractive',\n",
              "                                                     [key], {});\n",
              "          if (!dataTable) return;\n",
              "\n",
              "          const docLinkHtml = 'Like what you see? Visit the ' +\n",
              "            '<a target=\"_blank\" href=https://colab.research.google.com/notebooks/data_table.ipynb>data table notebook</a>'\n",
              "            + ' to learn more about interactive tables.';\n",
              "          element.innerHTML = '';\n",
              "          dataTable['output_type'] = 'display_data';\n",
              "          await google.colab.output.renderOutput(dataTable, element);\n",
              "          const docLink = document.createElement('div');\n",
              "          docLink.innerHTML = docLinkHtml;\n",
              "          element.appendChild(docLink);\n",
              "        }\n",
              "      </script>\n",
              "    </div>\n",
              "  </div>\n",
              "  "
            ]
          },
          "metadata": {},
          "execution_count": 171
        }
      ]
    },
    {
      "cell_type": "markdown",
      "source": [
        "Bonus : Suggestion des utilisateurs suceptibles d'apprecier un film"
      ],
      "metadata": {
        "id": "IAXHs69aF6sz"
      },
      "id": "IAXHs69aF6sz"
    },
    {
      "cell_type": "code",
      "source": [
        "def get_recommended_user_for_a_given_film(movieId,n):\n",
        "    line = movieRecs_df[movieRecs_df['movieId'] == movieId]['recommendations']\n",
        "    df = pd.DataFrame(line.tolist(), columns=[\"1\", \"2\",\"3\",\"4\",\"5\",\"6\",\"7\",\"8\",\"9\",\"10\"])\n",
        "    df = df.T\n",
        "    df = df.rename(columns={0: \"Predictions\"})\n",
        "    print(f\"Pour le film {movieId}, le top {n} des utilisateurs qui seraient suceptibles d'aimer le film par ordre de priorité sont les suivants :\")\n",
        "    return df.head(n)"
      ],
      "metadata": {
        "id": "5TC-1BtEC65q"
      },
      "id": "5TC-1BtEC65q",
      "execution_count": 172,
      "outputs": []
    },
    {
      "cell_type": "code",
      "source": [
        "get_recommended_user_for_a_given_film(678,10)"
      ],
      "metadata": {
        "colab": {
          "base_uri": "https://localhost:8080/",
          "height": 381
        },
        "id": "l6p-ySfsFJAd",
        "outputId": "5d9c3d82-39b6-44d5-ee31-d3cd1af03352"
      },
      "id": "l6p-ySfsFJAd",
      "execution_count": 173,
      "outputs": [
        {
          "output_type": "stream",
          "name": "stdout",
          "text": [
            "Pour le film 678, le top 10 des utilisateurs qui seraient suceptibles d'aimer le film par ordre de priorité sont les suivants :\n"
          ]
        },
        {
          "output_type": "execute_result",
          "data": {
            "text/plain": [
              "                     Predictions\n",
              "1    (232405, 6.303138256072998)\n",
              "2    (31289, 6.2949934005737305)\n",
              "3      (9364, 6.224935531616211)\n",
              "4    (140403, 6.156093120574951)\n",
              "5     (219866, 6.14460563659668)\n",
              "6    (119679, 6.112834453582764)\n",
              "7   (229270, 6.1019487380981445)\n",
              "8    (236676, 6.086291313171387)\n",
              "9     (44195, 6.061352729797363)\n",
              "10  (145743, 6.0503129959106445)"
            ],
            "text/html": [
              "\n",
              "  <div id=\"df-e5aa8d9c-4bf4-48c3-aa30-40e4ba063b7b\">\n",
              "    <div class=\"colab-df-container\">\n",
              "      <div>\n",
              "<style scoped>\n",
              "    .dataframe tbody tr th:only-of-type {\n",
              "        vertical-align: middle;\n",
              "    }\n",
              "\n",
              "    .dataframe tbody tr th {\n",
              "        vertical-align: top;\n",
              "    }\n",
              "\n",
              "    .dataframe thead th {\n",
              "        text-align: right;\n",
              "    }\n",
              "</style>\n",
              "<table border=\"1\" class=\"dataframe\">\n",
              "  <thead>\n",
              "    <tr style=\"text-align: right;\">\n",
              "      <th></th>\n",
              "      <th>Predictions</th>\n",
              "    </tr>\n",
              "  </thead>\n",
              "  <tbody>\n",
              "    <tr>\n",
              "      <th>1</th>\n",
              "      <td>(232405, 6.303138256072998)</td>\n",
              "    </tr>\n",
              "    <tr>\n",
              "      <th>2</th>\n",
              "      <td>(31289, 6.2949934005737305)</td>\n",
              "    </tr>\n",
              "    <tr>\n",
              "      <th>3</th>\n",
              "      <td>(9364, 6.224935531616211)</td>\n",
              "    </tr>\n",
              "    <tr>\n",
              "      <th>4</th>\n",
              "      <td>(140403, 6.156093120574951)</td>\n",
              "    </tr>\n",
              "    <tr>\n",
              "      <th>5</th>\n",
              "      <td>(219866, 6.14460563659668)</td>\n",
              "    </tr>\n",
              "    <tr>\n",
              "      <th>6</th>\n",
              "      <td>(119679, 6.112834453582764)</td>\n",
              "    </tr>\n",
              "    <tr>\n",
              "      <th>7</th>\n",
              "      <td>(229270, 6.1019487380981445)</td>\n",
              "    </tr>\n",
              "    <tr>\n",
              "      <th>8</th>\n",
              "      <td>(236676, 6.086291313171387)</td>\n",
              "    </tr>\n",
              "    <tr>\n",
              "      <th>9</th>\n",
              "      <td>(44195, 6.061352729797363)</td>\n",
              "    </tr>\n",
              "    <tr>\n",
              "      <th>10</th>\n",
              "      <td>(145743, 6.0503129959106445)</td>\n",
              "    </tr>\n",
              "  </tbody>\n",
              "</table>\n",
              "</div>\n",
              "      <button class=\"colab-df-convert\" onclick=\"convertToInteractive('df-e5aa8d9c-4bf4-48c3-aa30-40e4ba063b7b')\"\n",
              "              title=\"Convert this dataframe to an interactive table.\"\n",
              "              style=\"display:none;\">\n",
              "        \n",
              "  <svg xmlns=\"http://www.w3.org/2000/svg\" height=\"24px\"viewBox=\"0 0 24 24\"\n",
              "       width=\"24px\">\n",
              "    <path d=\"M0 0h24v24H0V0z\" fill=\"none\"/>\n",
              "    <path d=\"M18.56 5.44l.94 2.06.94-2.06 2.06-.94-2.06-.94-.94-2.06-.94 2.06-2.06.94zm-11 1L8.5 8.5l.94-2.06 2.06-.94-2.06-.94L8.5 2.5l-.94 2.06-2.06.94zm10 10l.94 2.06.94-2.06 2.06-.94-2.06-.94-.94-2.06-.94 2.06-2.06.94z\"/><path d=\"M17.41 7.96l-1.37-1.37c-.4-.4-.92-.59-1.43-.59-.52 0-1.04.2-1.43.59L10.3 9.45l-7.72 7.72c-.78.78-.78 2.05 0 2.83L4 21.41c.39.39.9.59 1.41.59.51 0 1.02-.2 1.41-.59l7.78-7.78 2.81-2.81c.8-.78.8-2.07 0-2.86zM5.41 20L4 18.59l7.72-7.72 1.47 1.35L5.41 20z\"/>\n",
              "  </svg>\n",
              "      </button>\n",
              "      \n",
              "  <style>\n",
              "    .colab-df-container {\n",
              "      display:flex;\n",
              "      flex-wrap:wrap;\n",
              "      gap: 12px;\n",
              "    }\n",
              "\n",
              "    .colab-df-convert {\n",
              "      background-color: #E8F0FE;\n",
              "      border: none;\n",
              "      border-radius: 50%;\n",
              "      cursor: pointer;\n",
              "      display: none;\n",
              "      fill: #1967D2;\n",
              "      height: 32px;\n",
              "      padding: 0 0 0 0;\n",
              "      width: 32px;\n",
              "    }\n",
              "\n",
              "    .colab-df-convert:hover {\n",
              "      background-color: #E2EBFA;\n",
              "      box-shadow: 0px 1px 2px rgba(60, 64, 67, 0.3), 0px 1px 3px 1px rgba(60, 64, 67, 0.15);\n",
              "      fill: #174EA6;\n",
              "    }\n",
              "\n",
              "    [theme=dark] .colab-df-convert {\n",
              "      background-color: #3B4455;\n",
              "      fill: #D2E3FC;\n",
              "    }\n",
              "\n",
              "    [theme=dark] .colab-df-convert:hover {\n",
              "      background-color: #434B5C;\n",
              "      box-shadow: 0px 1px 3px 1px rgba(0, 0, 0, 0.15);\n",
              "      filter: drop-shadow(0px 1px 2px rgba(0, 0, 0, 0.3));\n",
              "      fill: #FFFFFF;\n",
              "    }\n",
              "  </style>\n",
              "\n",
              "      <script>\n",
              "        const buttonEl =\n",
              "          document.querySelector('#df-e5aa8d9c-4bf4-48c3-aa30-40e4ba063b7b button.colab-df-convert');\n",
              "        buttonEl.style.display =\n",
              "          google.colab.kernel.accessAllowed ? 'block' : 'none';\n",
              "\n",
              "        async function convertToInteractive(key) {\n",
              "          const element = document.querySelector('#df-e5aa8d9c-4bf4-48c3-aa30-40e4ba063b7b');\n",
              "          const dataTable =\n",
              "            await google.colab.kernel.invokeFunction('convertToInteractive',\n",
              "                                                     [key], {});\n",
              "          if (!dataTable) return;\n",
              "\n",
              "          const docLinkHtml = 'Like what you see? Visit the ' +\n",
              "            '<a target=\"_blank\" href=https://colab.research.google.com/notebooks/data_table.ipynb>data table notebook</a>'\n",
              "            + ' to learn more about interactive tables.';\n",
              "          element.innerHTML = '';\n",
              "          dataTable['output_type'] = 'display_data';\n",
              "          await google.colab.output.renderOutput(dataTable, element);\n",
              "          const docLink = document.createElement('div');\n",
              "          docLink.innerHTML = docLinkHtml;\n",
              "          element.appendChild(docLink);\n",
              "        }\n",
              "      </script>\n",
              "    </div>\n",
              "  </div>\n",
              "  "
            ]
          },
          "metadata": {},
          "execution_count": 173
        }
      ]
    }
  ],
  "metadata": {
    "kernelspec": {
      "display_name": "Python 3",
      "language": "python",
      "name": "python3"
    },
    "language_info": {
      "codemirror_mode": {
        "name": "ipython",
        "version": 3
      },
      "file_extension": ".py",
      "mimetype": "text/x-python",
      "name": "python",
      "nbconvert_exporter": "python",
      "pygments_lexer": "ipython3",
      "version": "3.7.10"
    },
    "papermill": {
      "default_parameters": {},
      "duration": 305.035492,
      "end_time": "2021-11-18T11:30:59.289957",
      "environment_variables": {},
      "exception": null,
      "input_path": "__notebook__.ipynb",
      "output_path": "__notebook__.ipynb",
      "parameters": {},
      "start_time": "2021-11-18T11:25:54.254465",
      "version": "2.3.3"
    },
    "colab": {
      "provenance": []
    }
  },
  "nbformat": 4,
  "nbformat_minor": 5
}