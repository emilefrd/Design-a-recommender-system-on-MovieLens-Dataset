{
  "cells": [
    {
      "cell_type": "markdown",
      "metadata": {
        "id": "7168a042"
      },
      "source": [
        "# 1 Instalation de Pyspark"
      ],
      "id": "7168a042"
    },
    {
      "cell_type": "code",
      "execution_count": 371,
      "metadata": {
        "colab": {
          "base_uri": "https://localhost:8080/"
        },
        "id": "87e84ccb",
        "outputId": "5398deac-9ee3-482f-e2e1-fe1d1f98b2a8"
      },
      "outputs": [
        {
          "output_type": "stream",
          "name": "stdout",
          "text": [
            "Looking in indexes: https://pypi.org/simple, https://us-python.pkg.dev/colab-wheels/public/simple/\n",
            "Requirement already satisfied: pyspark in /usr/local/lib/python3.8/dist-packages (3.3.1)\n",
            "Requirement already satisfied: py4j==0.10.9.5 in /usr/local/lib/python3.8/dist-packages (from pyspark) (0.10.9.5)\n",
            "Looking in indexes: https://pypi.org/simple, https://us-python.pkg.dev/colab-wheels/public/simple/\n",
            "Requirement already satisfied: findspark in /usr/local/lib/python3.8/dist-packages (2.0.1)\n",
            "Looking in indexes: https://pypi.org/simple, https://us-python.pkg.dev/colab-wheels/public/simple/\n",
            "Requirement already satisfied: koalas in /usr/local/lib/python3.8/dist-packages (1.8.2)\n",
            "Requirement already satisfied: pandas>=0.23.2 in /usr/local/lib/python3.8/dist-packages (from koalas) (1.3.5)\n",
            "Requirement already satisfied: numpy>=1.14 in /usr/local/lib/python3.8/dist-packages (from koalas) (1.21.6)\n",
            "Requirement already satisfied: pyarrow>=0.10 in /usr/local/lib/python3.8/dist-packages (from koalas) (9.0.0)\n",
            "Requirement already satisfied: python-dateutil>=2.7.3 in /usr/local/lib/python3.8/dist-packages (from pandas>=0.23.2->koalas) (2.8.2)\n",
            "Requirement already satisfied: pytz>=2017.3 in /usr/local/lib/python3.8/dist-packages (from pandas>=0.23.2->koalas) (2022.7)\n",
            "Requirement already satisfied: six>=1.5 in /usr/local/lib/python3.8/dist-packages (from python-dateutil>=2.7.3->pandas>=0.23.2->koalas) (1.15.0)\n"
          ]
        }
      ],
      "source": [
        "#Install Pyspark\n",
        "!pip install pyspark\n",
        "!pip install findspark\n",
        "!pip install koalas"
      ],
      "id": "87e84ccb"
    },
    {
      "cell_type": "markdown",
      "metadata": {
        "id": "39c1b5bb"
      },
      "source": [
        "# 2 Import des librairies"
      ],
      "id": "39c1b5bb"
    },
    {
      "cell_type": "markdown",
      "metadata": {
        "id": "4g6Y9BEqTfui"
      },
      "source": [
        "Avant toutes choses, nous installons différentes librairies :\n",
        "\n",
        "* findspark --> permet d'initialiser Spark\n",
        "* pyspark.sql --> est utilisé pour créer une session Spark et travailler avec des DataFrames \n",
        "* pyspark.sql.functions --> contient des fonctions utilitaires pour manipuler les données\n",
        "* pyspark.sql.types --> permet de définir des types de données personnalisé\n",
        "* matplotlib et \"seaborn\" --> utilisés pour créer des graphiques\n",
        "* plotly --> utilisé pour créer des visualisations interactives\n",
        "* numpy --> utilisé pour effectuer des calculs mathématiques\n",
        "* pandas --> utilisé pour travailler avec des données en tant que DataFrames \n",
        "* wordcloud --> utilisé pour créer des nuages de mots\n"
      ],
      "id": "4g6Y9BEqTfui"
    },
    {
      "cell_type": "code",
      "execution_count": 372,
      "metadata": {
        "id": "905a9666"
      },
      "outputs": [],
      "source": [
        "import findspark\n",
        "findspark.init\n",
        "from pyspark.sql import SparkSession\n",
        "import pyspark.sql.functions as f\n",
        "from pyspark.sql.types import StructType,StringType,IntegerType,MapType,ArrayType,StructField\n",
        "from pyspark.sql.functions import count,when,col,isnan,from_json,explode,map_keys,udf,coalesce,lit,to_date,year,split,get_json_object,array,collect_list,concat_ws,regexp_replace,regexp_extract\n",
        "from pyspark.sql.functions import row_number,lit\n",
        "from pyspark.sql.window import Window\n",
        "import matplotlib.pyplot as plt\n",
        "import numpy as np\n",
        "import pandas as pd\n",
        "import seaborn as sns\n",
        "from matplotlib.ticker import FuncFormatter\n",
        "from matplotlib import cycler\n",
        "import plotly.graph_objects as go\n",
        "import plotly.express as px\n",
        "from wordcloud import WordCloud\n",
        "import os\n",
        "\n",
        "\n"
      ],
      "id": "905a9666"
    },
    {
      "cell_type": "markdown",
      "metadata": {
        "id": "2d0a2eed"
      },
      "source": [
        "# 3 Initialisation de la session"
      ],
      "id": "2d0a2eed"
    },
    {
      "cell_type": "code",
      "execution_count": 373,
      "metadata": {
        "id": "043f49ef"
      },
      "outputs": [],
      "source": [
        "#Start Spark session\n",
        "spark = SparkSession.builder.master(\"local[*]\").getOrCreate()"
      ],
      "id": "043f49ef"
    },
    {
      "cell_type": "markdown",
      "metadata": {
        "id": "cae695b6"
      },
      "source": [
        "#4 Import des datasets"
      ],
      "id": "cae695b6"
    },
    {
      "cell_type": "code",
      "execution_count": 374,
      "metadata": {
        "colab": {
          "base_uri": "https://localhost:8080/"
        },
        "id": "2f52cef8",
        "outputId": "9b30e1a3-b895-492e-f235-be93e3b65724"
      },
      "outputs": [
        {
          "output_type": "stream",
          "name": "stdout",
          "text": [
            "Drive already mounted at /content/drive; to attempt to forcibly remount, call drive.mount(\"/content/drive\", force_remount=True).\n"
          ]
        }
      ],
      "source": [
        "#Connection to my drive\n",
        "from google.colab import drive\n",
        "drive.mount('/content/drive')"
      ],
      "id": "2f52cef8"
    },
    {
      "cell_type": "code",
      "execution_count": 375,
      "metadata": {
        "id": "3e7e8e0d"
      },
      "outputs": [],
      "source": [
        "#Import datasets using the Databricks CSV library\n",
        "\n",
        "ratings=spark.read\\\n",
        ".format(\"com.databricks.spark.csv\")\\\n",
        ".option(\"multiline\",True)\\\n",
        ".option(\"header\",True)\\\n",
        ".option(\"escape\", \"\\\"\")\\\n",
        ".option(\"inferschema\",True)\\\n",
        ".csv(\"/content/drive/MyDrive/archive/ratings.csv\")\n",
        "\n",
        "\n",
        "movies_metadata=spark.read\\\n",
        ".format(\"com.databricks.spark.csv\")\\\n",
        ".option(\"multiline\",True)\\\n",
        ".option(\"header\",True)\\\n",
        ".option(\"escape\", \"\\\"\")\\\n",
        ".option(\"inferschema\",True)\\\n",
        ".csv(\"/content/drive/MyDrive/archive/movies_metadata.csv\")\n",
        "\n",
        "keywords=spark.read\\\n",
        ".format(\"com.databricks.spark.csv\")\\\n",
        ".option(\"multiline\",True)\\\n",
        ".option(\"header\",True)\\\n",
        ".option(\"escape\", \"\\\"\")\\\n",
        ".option(\"inferschema\",True)\\\n",
        ".csv(\"/content/drive/MyDrive/archive/keywords.csv\")\n",
        "\n",
        "credits=spark.read\\\n",
        ".format(\"com.databricks.spark.csv\")\\\n",
        ".option(\"multiline\",True)\\\n",
        ".option(\"header\",True)\\\n",
        ".option(\"escape\", \"\\\"\")\\\n",
        ".option(\"inferschema\",True)\\\n",
        ".csv(\"/content/drive/MyDrive/archive/credits.csv\")\n",
        "\n",
        "\n",
        "links=spark.read\\\n",
        ".format(\"com.databricks.spark.csv\")\\\n",
        ".option(\"multiline\",True)\\\n",
        ".option(\"header\",True)\\\n",
        ".option(\"escape\", \"\\\"\")\\\n",
        ".option(\"inferschema\",True)\\\n",
        ".csv(\"/content/drive/MyDrive/archive/links.csv\")\n",
        "\n",
        "\n",
        "ratings_sample=spark.read\\\n",
        ".format(\"com.databricks.spark.csv\")\\\n",
        ".option(\"multiline\",True)\\\n",
        ".option(\"header\",True)\\\n",
        ".option(\"escape\", \"\\\"\")\\\n",
        ".option(\"inferschema\",True)\\\n",
        ".csv(\"/content/drive/MyDrive/archive/ratings_small.csv\")\n"
      ],
      "id": "3e7e8e0d"
    },
    {
      "cell_type": "markdown",
      "source": [
        "# 5 Analyse Rapide"
      ],
      "metadata": {
        "id": "MYurTReFx3L4"
      },
      "id": "MYurTReFx3L4"
    },
    {
      "cell_type": "markdown",
      "metadata": {
        "id": "d70e0630"
      },
      "source": [
        "Schema, Description and Null values of datasets"
      ],
      "id": "d70e0630"
    },
    {
      "cell_type": "code",
      "source": [
        "dfs = [ratings,movies_metadata,keywords,credits,links,ratings_sample]"
      ],
      "metadata": {
        "id": "XczRgqLwvXgg"
      },
      "id": "XczRgqLwvXgg",
      "execution_count": 376,
      "outputs": []
    },
    {
      "cell_type": "code",
      "source": [
        "from pyspark.sql.functions import isnull, count\n",
        "\n",
        "def dataframe_info(df_list):\n",
        "    \"\"\"\n",
        "    Cette fonction prend en entrée une liste de dataframe et renvoie les informations suivantes pour chaque dataframe:\n",
        "    - Schéma\n",
        "    - Nombre de valeurs nulles\n",
        "    - Description\n",
        "    - Nombre de colonnes et de lignes pour chaque dataframe\n",
        "    \"\"\"\n",
        "    for i, df in enumerate(df_list):\n",
        "        print(f\"Dataframe {i+1}\")\n",
        "        # Afficher le schéma\n",
        "        print(\"Schema:\")\n",
        "        df.printSchema()\n",
        "        print(\"\\n\")\n",
        "        \n",
        "        # Compter le nombre de valeurs nulles\n",
        "        print(\"Nombre de valeurs nulles:\")\n",
        "        df.select([count(when(isnull(c), c)).alias(c) for c in df.columns]).show()\n",
        "        print(\"\\n\")\n",
        "        \n",
        "        # Afficher la description\n",
        "        print(\"Description:\")\n",
        "        df.describe().show()\n",
        "        print(\"\\n\")\n",
        "        \n",
        "        # Autres informations utiles\n",
        "        print(\"Autres informations utiles:\")\n",
        "        print(f\"Nombre de lignes: {df.count()}\")\n",
        "        print(f\"Nombre de colonnes: {len(df.columns)}\")\n",
        "        print(\"\\n\")"
      ],
      "metadata": {
        "id": "SGEUOskuyv6a"
      },
      "id": "SGEUOskuyv6a",
      "execution_count": 377,
      "outputs": []
    },
    {
      "cell_type": "code",
      "source": [
        "dataframe_info(dfs)"
      ],
      "metadata": {
        "colab": {
          "base_uri": "https://localhost:8080/"
        },
        "id": "AG6sNAlxyxrX",
        "outputId": "41442a40-23ef-40bf-fe97-135ff8e4ba19"
      },
      "id": "AG6sNAlxyxrX",
      "execution_count": 378,
      "outputs": [
        {
          "output_type": "stream",
          "name": "stdout",
          "text": [
            "Dataframe 1\n",
            "Schema:\n",
            "root\n",
            " |-- userId: integer (nullable = true)\n",
            " |-- movieId: integer (nullable = true)\n",
            " |-- rating: double (nullable = true)\n",
            " |-- timestamp: integer (nullable = true)\n",
            "\n",
            "\n",
            "\n",
            "Nombre de valeurs nulles:\n",
            "+------+-------+------+---------+\n",
            "|userId|movieId|rating|timestamp|\n",
            "+------+-------+------+---------+\n",
            "|     0|      0|     0|        0|\n",
            "+------+-------+------+---------+\n",
            "\n",
            "\n",
            "\n",
            "Description:\n",
            "+-------+-----------------+------------------+------------------+--------------------+\n",
            "|summary|           userId|           movieId|            rating|           timestamp|\n",
            "+-------+-----------------+------------------+------------------+--------------------+\n",
            "|  count|         26024289|          26024289|          26024289|            26024289|\n",
            "|   mean| 135037.090248114|15849.109677040553|3.5280903543608817|1.1712584326915193E9|\n",
            "| stddev|78176.19722171719|31085.257531390587|1.0654427636662558|2.0528887028185534E8|\n",
            "|    min|                1|                 1|               0.5|           789652004|\n",
            "|    max|           270896|            176275|               5.0|          1501829870|\n",
            "+-------+-----------------+------------------+------------------+--------------------+\n",
            "\n",
            "\n",
            "\n",
            "Autres informations utiles:\n",
            "Nombre de lignes: 26024289\n",
            "Nombre de colonnes: 4\n",
            "\n",
            "\n",
            "Dataframe 2\n",
            "Schema:\n",
            "root\n",
            " |-- adult: string (nullable = true)\n",
            " |-- belongs_to_collection: string (nullable = true)\n",
            " |-- budget: string (nullable = true)\n",
            " |-- genres: string (nullable = true)\n",
            " |-- homepage: string (nullable = true)\n",
            " |-- id: string (nullable = true)\n",
            " |-- imdb_id: string (nullable = true)\n",
            " |-- original_language: string (nullable = true)\n",
            " |-- original_title: string (nullable = true)\n",
            " |-- overview: string (nullable = true)\n",
            " |-- popularity: string (nullable = true)\n",
            " |-- poster_path: string (nullable = true)\n",
            " |-- production_companies: string (nullable = true)\n",
            " |-- production_countries: string (nullable = true)\n",
            " |-- release_date: string (nullable = true)\n",
            " |-- revenue: long (nullable = true)\n",
            " |-- runtime: double (nullable = true)\n",
            " |-- spoken_languages: string (nullable = true)\n",
            " |-- status: string (nullable = true)\n",
            " |-- tagline: string (nullable = true)\n",
            " |-- title: string (nullable = true)\n",
            " |-- video: boolean (nullable = true)\n",
            " |-- vote_average: double (nullable = true)\n",
            " |-- vote_count: integer (nullable = true)\n",
            "\n",
            "\n",
            "\n",
            "Nombre de valeurs nulles:\n",
            "+-----+---------------------+------+------+--------+---+-------+-----------------+--------------+--------+----------+-----------+--------------------+--------------------+------------+-------+-------+----------------+------+-------+-----+-----+------------+----------+\n",
            "|adult|belongs_to_collection|budget|genres|homepage| id|imdb_id|original_language|original_title|overview|popularity|poster_path|production_companies|production_countries|release_date|revenue|runtime|spoken_languages|status|tagline|title|video|vote_average|vote_count|\n",
            "+-----+---------------------+------+------+--------+---+-------+-----------------+--------------+--------+----------+-----------+--------------------+--------------------+------------+-------+-------+----------------+------+-------+-----+-----+------------+----------+\n",
            "|    0|                40972|     0|     0|   37684|  0|     17|               11|             0|     954|         5|        386|                   3|                   3|          87|      6|    263|               6|    87|  25054|    6|    6|           6|         6|\n",
            "+-----+---------------------+------+------+--------+---+-------+-----------------+--------------+--------+----------+-----------+--------------------+--------------------+------------+-------+-------+----------------+------+-------+-----+-----+------------+----------+\n",
            "\n",
            "\n",
            "\n",
            "Description:\n",
            "+-------+-------------------+---------------------+--------------------+--------------------+--------------------+------------------+---------+-----------------+-----------------------------------+--------------------+--------------------+--------------------+------------------------+--------------------+------------------+--------------------+------------------+--------------------+--------+----------------+--------------------+------------------+------------------+\n",
            "|summary|              adult|belongs_to_collection|              budget|              genres|            homepage|                id|  imdb_id|original_language|                     original_title|            overview|          popularity|         poster_path|    production_companies|production_countries|      release_date|             revenue|           runtime|    spoken_languages|  status|         tagline|               title|      vote_average|        vote_count|\n",
            "+-------+-------------------+---------------------+--------------------+--------------------+--------------------+------------------+---------+-----------------+-----------------------------------+--------------------+--------------------+--------------------+------------------------+--------------------+------------------+--------------------+------------------+--------------------+--------+----------------+--------------------+------------------+------------------+\n",
            "|  count|              45466|                 4494|               45466|               45466|                7782|             45466|    45449|            45455|                              45466|               44512|               45461|               45080|                   45463|               45463|             45379|               45460|             45203|               45460|   45379|           20412|               45460|             45460|             45460|\n",
            "|   mean|               null|   1.3942933333333334|   4224578.813474693|                null|                null|108359.91881310077|      0.0|84.66666666666667|                           Infinity|                null|  2.9214783449186243|                null|                    null|   5.766666666666667|11.666666666666666|1.1209348539265288E7| 94.12819945578833|                null|    null|          1942.0|            Infinity| 5.618207215133889|109.89733831940167|\n",
            "| stddev|               null|    1.157542807214633|1.7424132634341173E7|                null|                null| 112460.7492781324|      0.0|18.14754345175493|                                NaN|                null|   6.005414309041766|                null|                    null|  1.3650396819628847|10.503967504392486| 6.433224674065125E7|38.407810485508506|                null|    null|            null|                 NaN|1.9242159915230133|491.31037393965795|\n",
            "|    min| - Written by Ørnås|             0.065736|/ff9qCepilowshEtG...|                  []|[{'iso_3166_1': '...|               100|        0|            104.0|               !Women Art Revolu...|                    |                 0.0|/107LxWmMYCh01Y7d...|                   False|                 4.3|                 1|                   0|               0.0|                  []|Canceled|                |!Women Art Revolu...|               0.0|                 0|\n",
            "|    max|               True| {'id': 99727, 'na...|              998000|[{'name': 'Odysse...|https://zeitgeist...|              9999|tt7158814|               zu|ＳＭガールズ セイバーマリオネットＲ|…ere erera baleib...|Beware Of Frost B...|        Midnight Man|[{'name': '프로덕션M'...|[{'iso_3166_1': '...|                22|          2787965087|            1256.0|[{'iso_639_1': 'z...| Rumored|李麗珍蜜桃成熟時|    ファンタスティポ|              10.0|             14075|\n",
            "+-------+-------------------+---------------------+--------------------+--------------------+--------------------+------------------+---------+-----------------+-----------------------------------+--------------------+--------------------+--------------------+------------------------+--------------------+------------------+--------------------+------------------+--------------------+--------+----------------+--------------------+------------------+------------------+\n",
            "\n",
            "\n",
            "\n",
            "Autres informations utiles:\n",
            "Nombre de lignes: 45466\n",
            "Nombre de colonnes: 24\n",
            "\n",
            "\n",
            "Dataframe 3\n",
            "Schema:\n",
            "root\n",
            " |-- id: integer (nullable = true)\n",
            " |-- keywords: string (nullable = true)\n",
            "\n",
            "\n",
            "\n",
            "Nombre de valeurs nulles:\n",
            "+---+--------+\n",
            "| id|keywords|\n",
            "+---+--------+\n",
            "|  0|       0|\n",
            "+---+--------+\n",
            "\n",
            "\n",
            "\n",
            "Description:\n",
            "+-------+------------------+--------------------+\n",
            "|summary|                id|            keywords|\n",
            "+-------+------------------+--------------------+\n",
            "|  count|             46419|               46419|\n",
            "|   mean|109769.95187315538|                null|\n",
            "| stddev|113045.78025568505|                null|\n",
            "|    min|                 2|                  []|\n",
            "|    max|            469172|[{'id': 9991, 'na...|\n",
            "+-------+------------------+--------------------+\n",
            "\n",
            "\n",
            "\n",
            "Autres informations utiles:\n",
            "Nombre de lignes: 46419\n",
            "Nombre de colonnes: 2\n",
            "\n",
            "\n",
            "Dataframe 4\n",
            "Schema:\n",
            "root\n",
            " |-- cast: string (nullable = true)\n",
            " |-- crew: string (nullable = true)\n",
            " |-- id: integer (nullable = true)\n",
            "\n",
            "\n",
            "\n",
            "Nombre de valeurs nulles:\n",
            "+----+----+---+\n",
            "|cast|crew| id|\n",
            "+----+----+---+\n",
            "|   0|   0|  0|\n",
            "+----+----+---+\n",
            "\n",
            "\n",
            "\n",
            "Description:\n",
            "+-------+--------------------+--------------------+------------------+\n",
            "|summary|                cast|                crew|                id|\n",
            "+-------+--------------------+--------------------+------------------+\n",
            "|  count|               45476|               45476|             45476|\n",
            "|   mean|                null|                null|108345.99753716246|\n",
            "| stddev|                null|                null|112443.79653647364|\n",
            "|    min|                  []|                  []|                 2|\n",
            "|    max|[{'cast_id': 99, ...|[{'credit_id': '5...|            469172|\n",
            "+-------+--------------------+--------------------+------------------+\n",
            "\n",
            "\n",
            "\n",
            "Autres informations utiles:\n",
            "Nombre de lignes: 45476\n",
            "Nombre de colonnes: 3\n",
            "\n",
            "\n",
            "Dataframe 5\n",
            "Schema:\n",
            "root\n",
            " |-- movieId: integer (nullable = true)\n",
            " |-- imdbId: integer (nullable = true)\n",
            " |-- tmdbId: integer (nullable = true)\n",
            "\n",
            "\n",
            "\n",
            "Nombre de valeurs nulles:\n",
            "+-------+------+------+\n",
            "|movieId|imdbId|tmdbId|\n",
            "+-------+------+------+\n",
            "|      0|     0|   219|\n",
            "+-------+------+------+\n",
            "\n",
            "\n",
            "\n",
            "Description:\n",
            "+-------+-----------------+------------------+------------------+\n",
            "|summary|          movieId|            imdbId|            tmdbId|\n",
            "+-------+-----------------+------------------+------------------+\n",
            "|  count|            45843|             45843|             45624|\n",
            "|   mean|96578.77562550444|  993708.022031717|108661.38284674732|\n",
            "| stddev|57216.86346904477|1361924.3964340284|112665.97082954388|\n",
            "|    min|                1|                 1|                 2|\n",
            "|    max|           176279|           7158814|            469172|\n",
            "+-------+-----------------+------------------+------------------+\n",
            "\n",
            "\n",
            "\n",
            "Autres informations utiles:\n",
            "Nombre de lignes: 45843\n",
            "Nombre de colonnes: 3\n",
            "\n",
            "\n",
            "Dataframe 6\n",
            "Schema:\n",
            "root\n",
            " |-- userId: integer (nullable = true)\n",
            " |-- movieId: integer (nullable = true)\n",
            " |-- rating: double (nullable = true)\n",
            " |-- timestamp: integer (nullable = true)\n",
            "\n",
            "\n",
            "\n",
            "Nombre de valeurs nulles:\n",
            "+------+-------+------+---------+\n",
            "|userId|movieId|rating|timestamp|\n",
            "+------+-------+------+---------+\n",
            "|     0|      0|     0|        0|\n",
            "+------+-------+------+---------+\n",
            "\n",
            "\n",
            "\n",
            "Description:\n",
            "+-------+------------------+------------------+------------------+--------------------+\n",
            "|summary|            userId|           movieId|            rating|           timestamp|\n",
            "+-------+------------------+------------------+------------------+--------------------+\n",
            "|  count|            100004|            100004|            100004|              100004|\n",
            "|   mean| 347.0113095476181|12548.664363425463| 3.543608255669773|1.1296390869392424E9|\n",
            "| stddev|195.16383797819535|26369.198968815268|1.0580641091070326|1.9168582602710962E8|\n",
            "|    min|                 1|                 1|               0.5|           789652009|\n",
            "|    max|               671|            163949|               5.0|          1476640644|\n",
            "+-------+------------------+------------------+------------------+--------------------+\n",
            "\n",
            "\n",
            "\n",
            "Autres informations utiles:\n",
            "Nombre de lignes: 100004\n",
            "Nombre de colonnes: 4\n",
            "\n",
            "\n"
          ]
        }
      ]
    },
    {
      "cell_type": "markdown",
      "metadata": {
        "id": "2a28de7a"
      },
      "source": [
        "# 6 Cleaning de données"
      ],
      "id": "2a28de7a"
    },
    {
      "cell_type": "code",
      "source": [
        "def clean_movies_metadata(movies_metadata):\n",
        "    \"\"\"\n",
        "    This function takes a DataFrame of movies metadata as input and performs the following cleaning steps:\n",
        "    1. Drops rows with corrupted records by id.\n",
        "    2. Drops rows with null values in \"production_companies\", \"production_countries\" and \"genres\" columns.\n",
        "    3. Replace columns value with '[]'by 'Unknwon' in order to avoid any Json parsing troubles.\n",
        "    4. Change the data type of columns 'budget', 'popularity' and 'revenue' to 'integer', 'float' and 'integer' respectively.\n",
        "    \"\"\"\n",
        "    corrupted_ids = ['82663','162372','215848']\n",
        "    #1_Drops rows with corrupted records by id.\n",
        "    movies_metadata = movies_metadata.where(~col('id').isin(corrupted_ids))\n",
        "    #2_Drops rows with null values in \"production_companies\", \"production_countries\" and \"genres\" columns\n",
        "    movies_metadata = movies_metadata.na.drop(subset=[\"production_companies\",\"production_countries\",\"genres\"])\n",
        "    #3_Replace columns value with '[]'by 'Unknwon'\n",
        "    movies_metadata=movies_metadata.withColumn('genres',when(col('genres')=='[]',\"[{'id': 0, 'name': 'Unknown'}]\").otherwise(col('genres')))\\\n",
        "               .withColumn('production_companies',when(col('production_companies')=='[]',\"[{'name': 'Unknown', 'id': 0}]\").otherwise(col('production_companies')))\\\n",
        "               .withColumn('production_countries',when(col('production_countries')=='[]',\"[{'iso_3166_1': 'Unknown', 'name': 'Unknown'}]\").otherwise(col('production_countries')))\n",
        "    #4_Cast columns\n",
        "    movies_metadata = movies_metadata.withColumn('budget', col('budget').cast('integer'))\\\n",
        "                                      .withColumn('popularity', col('popularity').cast('float'))\\\n",
        "                                      .withColumn('revenue', col('revenue').cast('integer'))"
      ],
      "metadata": {
        "id": "FhwQv_dp2qTF"
      },
      "id": "FhwQv_dp2qTF",
      "execution_count": 379,
      "outputs": []
    },
    {
      "cell_type": "code",
      "source": [
        "clean_movies_metadata(movies_metadata)"
      ],
      "metadata": {
        "id": "8LNv1EA927g7"
      },
      "id": "8LNv1EA927g7",
      "execution_count": 380,
      "outputs": []
    },
    {
      "cell_type": "code",
      "source": [
        "#Creation of dict for the foloowing fonction using name and \n",
        "datadict={'Ratings.csv':ratings,'Movies_metadata.csv':movies_metadata,'Credits.csv':credits,'Keywords.csv':keywords,'links.csv':links}"
      ],
      "metadata": {
        "id": "FIdjI1hc5H8B"
      },
      "id": "FIdjI1hc5H8B",
      "execution_count": 381,
      "outputs": []
    },
    {
      "cell_type": "markdown",
      "source": [
        "Compte le nombre de valeurs manquantes"
      ],
      "metadata": {
        "id": "W9XE6yUu-SiE"
      },
      "id": "W9XE6yUu-SiE"
    },
    {
      "cell_type": "code",
      "source": [
        "def print_null_stats(data_dict):\n",
        "    \"\"\"\n",
        "    This function takes a dictionary of DataFrames as input and prints the null statistics for each DataFrame.\n",
        "    The keys of the dictionary are used as the names of the DataFrames.\n",
        "    \"\"\"\n",
        "    for key, value in data_dict.items():\n",
        "        # Create a DataFrame with the null count for each column\n",
        "        df_stats = value.select([count(when(col(c).isNull() | isnan(c), 'True')).alias(c) for c, c_type in value.dtypes if c_type not in ('timestamp', 'boolean')])\n",
        "        print(\"Column stats for data file: \" + key + \"\\n\")\n",
        "        df_stats.show()"
      ],
      "metadata": {
        "id": "Qzrxpx-D5EK4"
      },
      "id": "Qzrxpx-D5EK4",
      "execution_count": 382,
      "outputs": []
    },
    {
      "cell_type": "code",
      "source": [
        "print_null_stats(datadict)"
      ],
      "metadata": {
        "colab": {
          "base_uri": "https://localhost:8080/"
        },
        "id": "s-CthL2i5K_1",
        "outputId": "d38696c4-62d9-41d4-bdfe-62e9d16a4c3b"
      },
      "id": "s-CthL2i5K_1",
      "execution_count": 383,
      "outputs": [
        {
          "output_type": "stream",
          "name": "stdout",
          "text": [
            "Column stats for data file: Ratings.csv\n",
            "\n",
            "+------+-------+------+---------+\n",
            "|userId|movieId|rating|timestamp|\n",
            "+------+-------+------+---------+\n",
            "|     0|      0|     0|        0|\n",
            "+------+-------+------+---------+\n",
            "\n",
            "Column stats for data file: Movies_metadata.csv\n",
            "\n",
            "+-----+---------------------+------+------+--------+---+-------+-----------------+--------------+--------+----------+-----------+--------------------+--------------------+------------+-------+-------+----------------+------+-------+-----+------------+----------+\n",
            "|adult|belongs_to_collection|budget|genres|homepage| id|imdb_id|original_language|original_title|overview|popularity|poster_path|production_companies|production_countries|release_date|revenue|runtime|spoken_languages|status|tagline|title|vote_average|vote_count|\n",
            "+-----+---------------------+------+------+--------+---+-------+-----------------+--------------+--------+----------+-----------+--------------------+--------------------+------------+-------+-------+----------------+------+-------+-----+------------+----------+\n",
            "|    0|                40972|     0|     0|   37684|  0|     17|               11|             0|     954|         5|        386|                   3|                   3|          87|      6|    263|               6|    87|  25054|    6|           6|         6|\n",
            "+-----+---------------------+------+------+--------+---+-------+-----------------+--------------+--------+----------+-----------+--------------------+--------------------+------------+-------+-------+----------------+------+-------+-----+------------+----------+\n",
            "\n",
            "Column stats for data file: Credits.csv\n",
            "\n",
            "+----+----+---+\n",
            "|cast|crew| id|\n",
            "+----+----+---+\n",
            "|   0|   0|  0|\n",
            "+----+----+---+\n",
            "\n",
            "Column stats for data file: Keywords.csv\n",
            "\n",
            "+---+--------+\n",
            "| id|keywords|\n",
            "+---+--------+\n",
            "|  0|       0|\n",
            "+---+--------+\n",
            "\n",
            "Column stats for data file: links.csv\n",
            "\n",
            "+-------+------+------+\n",
            "|movieId|imdbId|tmdbId|\n",
            "+-------+------+------+\n",
            "|      0|     0|   219|\n",
            "+-------+------+------+\n",
            "\n"
          ]
        }
      ]
    },
    {
      "cell_type": "markdown",
      "metadata": {
        "id": "48255b2a"
      },
      "source": [
        "Supprime les lignes dupliquées"
      ],
      "id": "48255b2a"
    },
    {
      "cell_type": "code",
      "source": [
        "def identify_and_drop_duplicates(movies_metadata):\n",
        "    \"\"\"\n",
        "    This function takes a DataFrame as input and performs the following steps:\n",
        "    1. Identifies and shows the duplicate records based on 'imdb_id', 'title', 'release_date' and 'overview' columns\n",
        "    2. Shows the total number of duplicate records\n",
        "    3. Drops the duplicate records based on 'imdb_id', 'title', 'release_date' and 'overview' columns\n",
        "    \"\"\"\n",
        "    # Identify duplicate records\n",
        "    df_dup = movies_metadata.groupby('imdb_id', 'title', 'release_date', 'overview').count().filter(\"count > 1\").show()\n",
        "    # Show total number of duplicate records\n",
        "    movies_metadata.groupby('imdb_id','title','release_date', 'overview').count().where(f.col('count')>1).select(f.sum('count')).show()\n",
        "    # Drop duplicate records\n",
        "    movies_metadata = movies_metadata.drop_duplicates(['imdb_id', 'title', 'release_date', 'overview'])"
      ],
      "metadata": {
        "id": "IRvzorWb6tXz"
      },
      "id": "IRvzorWb6tXz",
      "execution_count": 384,
      "outputs": []
    },
    {
      "cell_type": "code",
      "source": [
        "identify_and_drop_duplicates(movies_metadata)"
      ],
      "metadata": {
        "colab": {
          "base_uri": "https://localhost:8080/"
        },
        "id": "uOGFRFsg60MM",
        "outputId": "2a32d232-7ae1-42ea-a4d7-b6901d8ea466"
      },
      "id": "uOGFRFsg60MM",
      "execution_count": 385,
      "outputs": [
        {
          "output_type": "stream",
          "name": "stdout",
          "text": [
            "+---------+--------------------+------------+--------------------+-----+\n",
            "|  imdb_id|               title|release_date|            overview|count|\n",
            "+---------+--------------------+------------+--------------------+-----+\n",
            "|tt0454792|              Bubble|  2005-09-03|Set against the b...|    2|\n",
            "|tt0287635|Pokémon 4Ever: Ce...|  2001-07-06|All your favorite...|    2|\n",
            "|tt1821641|        The Congress|  2013-05-16|More than two dec...|    2|\n",
            "|tt0270288|Confessions of a ...|  2002-12-30|Television made h...|    2|\n",
            "|tt1180333|            Blackout|  2008-12-26|Recovering from a...|    3|\n",
            "|tt0022537|          The Viking|  1931-06-21|Originally called...|    2|\n",
            "|tt1701210|          Black Gold|  2011-12-21|On the Arabian Pe...|    2|\n",
            "|tt0499456|    Days of Darkness|  2007-01-01|When a comet stri...|    2|\n",
            "|tt0084387|Nana, the True Ke...|  1983-06-13|In Zola's Paris, ...|    2|\n",
            "|tt0157472|       Clockstoppers|  2002-03-17|Until now, Zak Gi...|    2|\n",
            "|tt2121382|       Force Majeure|  2014-08-15|While holidaying ...|    2|\n",
            "|tt0127834|Seven Years Bad Luck|  1921-02-06|After breaking a ...|    2|\n",
            "|tt0499537|             Offside|  2006-05-26|Since women are b...|    2|\n",
            "|tt0062229|         Le Samouraï|  1967-10-25|Hitman Jef Costel...|    2|\n",
            "|tt0082992|     Rich and Famous|  1981-09-23|Two literary wome...|    2|\n",
            "|tt1736049|A Place at the Table|  2012-03-22|Using personal st...|    2|\n",
            "|tt0295682|         The Warrior|  2001-09-23|In feudal India, ...|    2|\n",
            "|tt0235679|Pokémon: Spell of...|  2000-07-08|When Molly Hale's...|    2|\n",
            "|tt1327820|         Brotherhood|  2009-10-21|Former Danish ser...|    2|\n",
            "|tt0046468|                Wife|  1953-04-29|Ten years into a ...|    2|\n",
            "+---------+--------------------+------------+--------------------+-----+\n",
            "only showing top 20 rows\n",
            "\n",
            "+----------+\n",
            "|sum(count)|\n",
            "+----------+\n",
            "|        59|\n",
            "+----------+\n",
            "\n"
          ]
        }
      ]
    },
    {
      "cell_type": "markdown",
      "metadata": {
        "id": "ba84a238"
      },
      "source": [
        "# 7 Parse du json"
      ],
      "id": "ba84a238"
    },
    {
      "cell_type": "markdown",
      "metadata": {
        "id": "7dad25c3"
      },
      "source": [
        "Appartient_à_la_collection : \n",
        "    Cette cellule effectue l'étape suivante : \n",
        "\n",
        "    1. Renomme les colonnes \"id\" et \"poster_path\" en \"id_ori\" et \"poster_path_ori\".\n",
        "    2. Attache un schéma à la colonne \"belongs_to_collection\".\n",
        "    3. Extrait les clés de l'objet JSON et crée 4 nouvelles colonnes ('name', 'poster_path', 'backdrop_path' et 'id') avec les clés comme noms de colonnes et les valeurs comme valeurs de cellules."
      ],
      "id": "7dad25c3"
    },
    {
      "cell_type": "code",
      "execution_count": 386,
      "metadata": {
        "colab": {
          "base_uri": "https://localhost:8080/"
        },
        "id": "635b9d2a",
        "outputId": "0e4861ff-5383-4f43-fde0-a81a43fc4c78"
      },
      "outputs": [
        {
          "output_type": "stream",
          "name": "stdout",
          "text": [
            "root\n",
            " |-- adult: string (nullable = true)\n",
            " |-- belongs_to_collection: string (nullable = true)\n",
            " |-- budget: string (nullable = true)\n",
            " |-- genres: string (nullable = true)\n",
            " |-- homepage: string (nullable = true)\n",
            " |-- id_ori: string (nullable = true)\n",
            " |-- imdb_id: string (nullable = true)\n",
            " |-- original_language: string (nullable = true)\n",
            " |-- original_title: string (nullable = true)\n",
            " |-- overview: string (nullable = true)\n",
            " |-- popularity: string (nullable = true)\n",
            " |-- poster_path_ori: string (nullable = true)\n",
            " |-- production_companies: string (nullable = true)\n",
            " |-- production_countries: string (nullable = true)\n",
            " |-- release_date: string (nullable = true)\n",
            " |-- revenue: long (nullable = true)\n",
            " |-- runtime: double (nullable = true)\n",
            " |-- spoken_languages: string (nullable = true)\n",
            " |-- status: string (nullable = true)\n",
            " |-- tagline: string (nullable = true)\n",
            " |-- title: string (nullable = true)\n",
            " |-- video: boolean (nullable = true)\n",
            " |-- vote_average: double (nullable = true)\n",
            " |-- vote_count: integer (nullable = true)\n",
            " |-- name: string (nullable = true)\n",
            " |-- poster_path: string (nullable = true)\n",
            " |-- backdrop_path: string (nullable = true)\n",
            " |-- id: string (nullable = true)\n",
            "\n"
          ]
        }
      ],
      "source": [
        "movies_metadata=movies_metadata.withColumnRenamed(\"id\",\"id_ori\")\\\n",
        "                                .withColumnRenamed(\"poster_path\",\"poster_path_ori\")\n",
        "\n",
        "df=movies_metadata.withColumn(\"belongs_to_collection_value\",from_json(movies_metadata.belongs_to_collection,MapType(StringType(),StringType())))\n",
        "                  \n",
        "key_df=df.select(explode(map_keys(col('belongs_to_collection_value')))).distinct()\n",
        "\n",
        "keylst=list(map(lambda row:row[0],key_df.collect()))\n",
        "\n",
        "key_cols=map(lambda f:df['belongs_to_collection_value'].getItem(f).alias(str(f)),keylst)\n",
        "\n",
        "df=df.select(*movies_metadata.columns,*key_cols)\n",
        "df.printSchema()"
      ],
      "id": "635b9d2a"
    },
    {
      "cell_type": "markdown",
      "metadata": {
        "id": "e8c36e72"
      },
      "source": [
        "on s'occupe ici des colonnes : production_companies , production_countries , genres"
      ],
      "id": "e8c36e72"
    },
    {
      "cell_type": "code",
      "source": [
        "def extract_json_array_values(movies_metadata):\n",
        "    \"\"\"\n",
        "    This function takes a DataFrame as input and performs the following steps:\n",
        "    1. Defines the schema of the JSON array type.\n",
        "    2. Defines a UDF function to convert list to column separated values.\n",
        "    3. Parses the JSON array in the \"production_companies\", \"production_countries\" and \"genres\" columns and creates new columns with the extracted values.\n",
        "    \"\"\"\n",
        "    # Define schema of Json array type\n",
        "    schema = ArrayType(StructType([\n",
        "        StructField('id', IntegerType(), nullable=False), \n",
        "        StructField('name', StringType(), nullable=False)]))\n",
        "\n",
        "    # UDF function to convert list to column separated values\n",
        "    convert_udf = udf(lambda s: ','.join(map(str, s)), StringType())\n",
        "\n",
        "    # Json parsing\n",
        "    df = movies_metadata.withColumn(\"production_companies_values\", when(col('production_companies') == '[]', '').otherwise(convert_udf(from_json(movies_metadata.production_companies, schema).getField(\"name\")))) \\\n",
        "                        .withColumn(\"production_countries_values\", convert_udf(from_json(movies_metadata.production_countries, schema).getField(\"name\"))) \\\n",
        "                        .withColumn(\"genres_value\", convert_udf(from_json(movies_metadata.genres, schema).getField(\"name\")))\n",
        "    df.select('id_ori',\"genres_value\",\"production_companies_values\",\"production_countries_values\").show(10,False)"
      ],
      "metadata": {
        "id": "Gp9F70fSBqSD"
      },
      "id": "Gp9F70fSBqSD",
      "execution_count": 387,
      "outputs": []
    },
    {
      "cell_type": "code",
      "source": [
        "extract_json_array_values(movies_metadata)"
      ],
      "metadata": {
        "colab": {
          "base_uri": "https://localhost:8080/"
        },
        "id": "eYc97SICB335",
        "outputId": "0f8d6f5e-f0ed-4b48-d81e-1d09ad358449"
      },
      "id": "eYc97SICB335",
      "execution_count": 388,
      "outputs": [
        {
          "output_type": "stream",
          "name": "stdout",
          "text": [
            "+------+-----------------------------+-------------------------------------------------------------------------------------------------------------------------------------------------------+---------------------------------------+\n",
            "|id_ori|genres_value                 |production_companies_values                                                                                                                            |production_countries_values            |\n",
            "+------+-----------------------------+-------------------------------------------------------------------------------------------------------------------------------------------------------+---------------------------------------+\n",
            "|862   |Animation,Comedy,Family      |Pixar Animation Studios                                                                                                                                |United States of America               |\n",
            "|8844  |Adventure,Fantasy,Family     |TriStar Pictures,Teitler Film,Interscope Communications                                                                                                |United States of America               |\n",
            "|15602 |Romance,Comedy               |Warner Bros.,Lancaster Gate                                                                                                                            |United States of America               |\n",
            "|31357 |Comedy,Drama,Romance         |Twentieth Century Fox Film Corporation                                                                                                                 |United States of America               |\n",
            "|11862 |Comedy                       |Sandollar Productions,Touchstone Pictures                                                                                                              |United States of America               |\n",
            "|949   |Action,Crime,Drama,Thriller  |Regency Enterprises,Forward Pass,Warner Bros.                                                                                                          |United States of America               |\n",
            "|11860 |Comedy,Romance               |Paramount Pictures,Scott Rudin Productions,Mirage Enterprises,Sandollar Productions,Constellation Entertainment,Worldwide,Mont Blanc Entertainment GmbH|Germany,United States of America       |\n",
            "|45325 |Action,Adventure,Drama,Family|Walt Disney Pictures                                                                                                                                   |United States of America               |\n",
            "|9091  |Action,Adventure,Thriller    |Universal Pictures,Imperial Entertainment,Signature Entertainment                                                                                      |United States of America               |\n",
            "|710   |Adventure,Action,Thriller    |United Artists,Eon Productions                                                                                                                         |United Kingdom,United States of America|\n",
            "+------+-----------------------------+-------------------------------------------------------------------------------------------------------------------------------------------------------+---------------------------------------+\n",
            "only showing top 10 rows\n",
            "\n"
          ]
        }
      ]
    },
    {
      "cell_type": "code",
      "source": [
        "df_pd=df.select(\"runtime\",\"revenue\",\"vote_average\",\"vote_count\").toPandas()\n"
      ],
      "metadata": {
        "id": "fOo4UltwEvnc"
      },
      "id": "fOo4UltwEvnc",
      "execution_count": 389,
      "outputs": []
    },
    {
      "cell_type": "markdown",
      "source": [
        "#9 Visualisations"
      ],
      "metadata": {
        "id": "yZRDP5apaFwE"
      },
      "id": "yZRDP5apaFwE"
    },
    {
      "cell_type": "code",
      "source": [
        "#passage en pandas pour l'affiche de données\n",
        "df_pd=df.select(\"runtime\",\"revenue\",\"vote_average\",\"vote_count\").toPandas()"
      ],
      "metadata": {
        "id": "EU2MDoqHdy4v"
      },
      "id": "EU2MDoqHdy4v",
      "execution_count": 390,
      "outputs": []
    },
    {
      "cell_type": "markdown",
      "source": [
        "Simples visualisations sur :      \n",
        "* La durée en minutes\n",
        "* Moyenne des votes\n",
        "* Nombre de votes\n",
        "\n"
      ],
      "metadata": {
        "id": "ebep19JznpNQ"
      },
      "id": "ebep19JznpNQ"
    },
    {
      "cell_type": "code",
      "source": [
        "fig = plt.figure(figsize=(15,15))\n",
        "grid = plt.GridSpec(3, 2, wspace=0.2, hspace=0.2)\n",
        "\n",
        "\n",
        "f1=sns.histplot(data=df_pd ,x=\"runtime\", kde=True,ax=fig.add_subplot(grid[0, :]))\n",
        "f1.set_xlim(0,200)\n",
        "f1.set_xlabel('Durée en minutes')"
      ],
      "metadata": {
        "colab": {
          "base_uri": "https://localhost:8080/",
          "height": 330
        },
        "id": "WdUkk-KOahmb",
        "outputId": "40e7f136-4111-4a4f-eaf1-4b0104807173"
      },
      "id": "WdUkk-KOahmb",
      "execution_count": 407,
      "outputs": [
        {
          "output_type": "execute_result",
          "data": {
            "text/plain": [
              "Text(0.5, 0, 'Durée en minutes')"
            ]
          },
          "metadata": {},
          "execution_count": 407
        },
        {
          "output_type": "display_data",
          "data": {
            "text/plain": [
              "<Figure size 1080x1080 with 1 Axes>"
            ],
            "image/png": "[encoded data removed]"
          },
          "metadata": {
            "needs_background": "dark"
          }
        }
      ]
    },
    {
      "cell_type": "code",
      "source": [
        "fig = plt.figure(figsize=(30,30))\n",
        "grid = plt.GridSpec(3, 2, wspace=0.2, hspace=0.2)\n",
        "f3=sns.histplot(data=df_pd ,x=\"vote_average\", kde=False,ax=fig.add_subplot(grid[2,:1]))\n",
        "f3.set_xlabel('Moyenne des votes')"
      ],
      "metadata": {
        "colab": {
          "base_uri": "https://localhost:8080/",
          "height": 570
        },
        "id": "56lN9DWyaoyY",
        "outputId": "6f49eb8f-ecec-47b7-bca9-d4b0a0cfd0f1"
      },
      "id": "56lN9DWyaoyY",
      "execution_count": 409,
      "outputs": [
        {
          "output_type": "execute_result",
          "data": {
            "text/plain": [
              "Text(0.5, 0, 'Moyenne des votes')"
            ]
          },
          "metadata": {},
          "execution_count": 409
        },
        {
          "output_type": "display_data",
          "data": {
            "text/plain": [
              "<Figure size 2160x2160 with 1 Axes>"
            ],
            "image/png": "[encoded data removed]"
          },
          "metadata": {
            "needs_background": "dark"
          }
        }
      ]
    },
    {
      "cell_type": "code",
      "source": [
        "fig = plt.figure(figsize=(30,30))\n",
        "f3=sns.histplot(data=df_pd ,x=\"vote_count\", kde=False,ax=fig.add_subplot(grid[2,1]))\n",
        "f3.set_xlabel('Vote Count')\n",
        "f3.set_xlim(0,300)\n",
        "f3.set_ylim(0,3000)"
      ],
      "metadata": {
        "colab": {
          "base_uri": "https://localhost:8080/",
          "height": 576
        },
        "id": "s9490_b-ayk7",
        "outputId": "a0d2e360-73d3-41b8-d3b4-fd726552130b"
      },
      "id": "s9490_b-ayk7",
      "execution_count": 410,
      "outputs": [
        {
          "output_type": "execute_result",
          "data": {
            "text/plain": [
              "(0.0, 3000.0)"
            ]
          },
          "metadata": {},
          "execution_count": 410
        },
        {
          "output_type": "display_data",
          "data": {
            "text/plain": [
              "<Figure size 2160x2160 with 1 Axes>"
            ],
            "image/png": "[encoded data removed]"
          },
          "metadata": {
            "needs_background": "dark"
          }
        }
      ]
    },
    {
      "cell_type": "markdown",
      "source": [
        "Matrice de correlation entre des variables quantitatives :         \n",
        "\n",
        "* budget\n",
        "* popularity\n",
        "* revenue\n",
        "* runtime\n",
        "* vote_average\n",
        "* vote_count"
      ],
      "metadata": {
        "id": "802g7-0cn_Y_"
      },
      "id": "802g7-0cn_Y_"
    },
    {
      "cell_type": "code",
      "source": [
        "def plot_correlation(df, columns, figure_size=(10,6)):\n",
        "    \"\"\"\n",
        "    This function takes a DataFrame as input and plots a heatmap of the correlations between the columns specified in the 'columns' parameter.\n",
        "    It also accepts the following parameters for customization:\n",
        "    - figure_size: a tuple specifying the width and height of the plot\n",
        "    \"\"\"\n",
        "    # select the specified columns and add a column for profit/loss\n",
        "    data_for_corr = df.select(*columns).withColumn(\"profit_loss\", coalesce(col('revenue'), lit(0)) - coalesce(col('budget'), lit(0)))\n",
        "    # convert to Pandas dataframe and drop rows with null values\n",
        "    data_for_corr_pd = data_for_corr.toPandas().dropna(how='any')\n",
        "    # calculate the correlations\n",
        "    correlations = data_for_corr_pd.corr()\n",
        "    # create the plot\n",
        "    f,ax = plt.subplots(figsize=figure_size)\n",
        "    sns.heatmap(correlations, annot=True, cmap=\"PiYG\", linewidths=.10)\n",
        "    plt.show()"
      ],
      "metadata": {
        "id": "UhQ7ajdUFQas"
      },
      "id": "UhQ7ajdUFQas",
      "execution_count": 394,
      "outputs": []
    },
    {
      "cell_type": "code",
      "source": [
        "plot_correlation(df,('budget','popularity','revenue','runtime','vote_average','vote_count'))"
      ],
      "metadata": {
        "colab": {
          "base_uri": "https://localhost:8080/",
          "height": 473
        },
        "id": "2ONOuhmeFVnI",
        "outputId": "58381769-6117-4ad0-fb19-3c6672447496"
      },
      "id": "2ONOuhmeFVnI",
      "execution_count": 395,
      "outputs": [
        {
          "output_type": "display_data",
          "data": {
            "text/plain": [
              "<Figure size 720x432 with 2 Axes>"
            ],
            "image/png": "[encoded data removed]"
          },
          "metadata": {
            "needs_background": "dark"
          }
        }
      ]
    },
    {
      "cell_type": "markdown",
      "metadata": {
        "id": "56891434"
      },
      "source": [
        "Films ayant le plus de vote (top10)"
      ],
      "id": "56891434"
    },
    {
      "cell_type": "code",
      "source": [
        "def plot_top_movies_by_vote_count(df, num_movies):\n",
        "    \"\"\"\n",
        "    This function takes a DataFrame of movies metadata as input and plots a bar chart of the top 'num_movies' movies by vote count.\n",
        "    It also shows the vote count of each movie on top of the bar.\n",
        "    \"\"\"\n",
        "    # convert to Pandas dataframe and sort by vote count\n",
        "    df_pd_votecount = df.select('original_title','vote_count','vote_average').toPandas()\n",
        "    df_pd_votecount = df_pd_votecount.sort_values(by='vote_count',ascending=False).iloc[0:num_movies,:].reset_index(drop=True)\n",
        "    # create the plot\n",
        "    fig = plt.figure(figsize=(20,10))\n",
        "    ax = plt.subplot(111)\n",
        "    bar_plot = sns.barplot(x=df_pd_votecount['original_title'], y=df_pd_votecount['vote_count'], ax=ax)\n",
        "    # rotate the x-axis labels for better visibility\n",
        "    for tick in bar_plot.get_xticklabels():\n",
        "        tick.set_rotation(90)\n",
        "    # display the vote count on top of each bar\n",
        "    for p in bar_plot.patches:\n",
        "        _x = p.get_x() + p.get_width() / 2\n",
        "        _y = p.get_y() + p.get_height()+100\n",
        "        value = format(int(p.get_height()))\n",
        "        ax.text(_x, _y, value, ha=\"center\") \n",
        "    plt.show()"
      ],
      "metadata": {
        "id": "sRnK26y_H5x8"
      },
      "id": "sRnK26y_H5x8",
      "execution_count": 396,
      "outputs": []
    },
    {
      "cell_type": "code",
      "source": [
        "plot_top_movies_by_vote_count(df,10)"
      ],
      "metadata": {
        "colab": {
          "base_uri": "https://localhost:8080/",
          "height": 784
        },
        "id": "2V7buaOjH_Uu",
        "outputId": "bfab4fe2-38b0-406f-a3c3-0ead6b864d4a"
      },
      "id": "2V7buaOjH_Uu",
      "execution_count": 397,
      "outputs": [
        {
          "output_type": "display_data",
          "data": {
            "text/plain": [
              "<Figure size 1440x720 with 1 Axes>"
            ],
            "image/png": "[encoded data removed]"
          },
          "metadata": {
            "needs_background": "dark"
          }
        }
      ]
    },
    {
      "cell_type": "markdown",
      "metadata": {
        "id": "0999729d"
      },
      "source": [
        "Films ayant générés les plus de revenue (top10)"
      ],
      "id": "0999729d"
    },
    {
      "cell_type": "code",
      "source": [
        "def top_movies_by_revenue(df):\n",
        "    \"\"\"\n",
        "    This function takes in a DataFrame and returns a bar plot of the top 10 movies by revenue.\n",
        "    The x-axis represents the original title of the movie and the y-axis represents the revenue and budget of the movie.\n",
        "    \"\"\"\n",
        "    # Select the columns 'id_ori', 'original_title', 'revenue', and 'budget' and order the DataFrame by revenue in descending order\n",
        "    df_moviesByRevenue = df.select('id_ori','original_title','revenue','budget').orderBy(col('revenue'),ascending=False)\n",
        "\n",
        "    # Convert the DataFrame to a Pandas DataFrame and select the top 10 movies by revenue\n",
        "    df_pd_top10moviesByRevenue = df_moviesByRevenue.toPandas().head(10)\n",
        "\n",
        "    # Create the bar plot\n",
        "    ax = df_pd_top10moviesByRevenue.plot(x=\"original_title\", y=[\"budget\",\"revenue\"], kind=\"bar\", figsize=(15, 10),color= '#7eb54e')\n",
        "    \n",
        "    # Set the formatter for the y-axis to display values as currency\n",
        "    formatter = FuncFormatter(currency)\n",
        "    ax.yaxis.set_major_formatter(formatter)\n",
        "\n",
        "    # Set the title, x-axis label, and y-axis label for the plot\n",
        "    ax.set_title('Les 10 films avec le plus grand revenue', fontsize=20, loc='center')\n",
        "    ax.set_xlabel('Titre du film', fontsize=19)\n",
        "    ax.set_ylabel('Revenue (en dollard)', fontsize=19)\n",
        "    \n",
        "    # Add a legend to the plot\n",
        "    plt.legend()\n",
        "    plt.show()\n",
        "\n",
        "\n",
        "\n",
        "\n"
      ],
      "metadata": {
        "id": "6IIQmam4JPRX"
      },
      "id": "6IIQmam4JPRX",
      "execution_count": 425,
      "outputs": []
    },
    {
      "cell_type": "code",
      "source": [
        "top_movies_by_revenue(df)"
      ],
      "metadata": {
        "colab": {
          "base_uri": "https://localhost:8080/",
          "height": 960
        },
        "id": "TAtmq6TkJS-f",
        "outputId": "c7d5bca2-77e0-409a-86f0-d49135d5f805"
      },
      "id": "TAtmq6TkJS-f",
      "execution_count": 426,
      "outputs": [
        {
          "output_type": "display_data",
          "data": {
            "text/plain": [
              "<Figure size 1080x720 with 1 Axes>"
            ],
            "image/png": "[encoded data removed]"
          },
          "metadata": {
            "needs_background": "dark"
          }
        }
      ]
    },
    {
      "cell_type": "markdown",
      "metadata": {
        "id": "f27ee1b1"
      },
      "source": [
        "Nombre de films sortis par années (entre 1950 et 2017)"
      ],
      "id": "f27ee1b1"
    },
    {
      "cell_type": "code",
      "source": [
        "def movies_per_year(df):\n",
        "    \"\"\"\n",
        "    This function takes in a DataFrame and returns a bar plot of the number of successful movies released per year in the 20th century.\n",
        "    The x-axis represents the release year of the movie and the y-axis represents the number of movies released in that year.\n",
        "    \"\"\"\n",
        "    # Filter out movies that don't have a release date and select the columns 'original_title', 'release_date', and 'release_year'\n",
        "    # Group the DataFrame by release year and count the number of movies in each group\n",
        "    # Convert the DataFrame to a Pandas DataFrame\n",
        "    df_pd_moviesperYear = df.filter(col('release_date').isNotNull()).select('original_title','release_date',year(to_date(df.release_date,'yyyy-MM-dd')).alias('release_year'))\\\n",
        "                      .groupBy('release_year').count().toPandas()\n",
        "\n",
        "    # Fill any missing values with 0 and change the data type of 'release_year' to int\n",
        "    # Sort the DataFrame by release year in ascending order\n",
        "    df_pd_moviesperYear = df_pd_moviesperYear.fillna(0).astype({'release_year':int}).sort_values(by='release_year',ascending=True,inplace=False,ignore_index=True)\n",
        "\n",
        "    # Create the bar plot\n",
        "    fig = px.bar(df_pd_moviesperYear, y='count', x='release_year', text='count',title='Nombre de film sorties par année entre 1950 et 2017')\n",
        "    \n",
        "    # Update the text template and position for the bars\n",
        "    fig.update_traces(texttemplate='%{text:.2s}', textposition='outside')\n",
        "    \n",
        "    # Update the layout of the plot\n",
        "    fig.update_layout(uniformtext_minsize=8, uniformtext_mode='hide')\n",
        "    \n",
        "    # Update the x-axis to display values between 1950 and 2018\n",
        "    fig.update_xaxes(range=[1950,2018])\n",
        "    \n",
        "    # Show the plot\n",
        "    fig.show()"
      ],
      "metadata": {
        "id": "9ji5rbU8LDeu"
      },
      "id": "9ji5rbU8LDeu",
      "execution_count": 429,
      "outputs": []
    },
    {
      "cell_type": "code",
      "source": [
        "movies_per_year(df)"
      ],
      "metadata": {
        "colab": {
          "base_uri": "https://localhost:8080/",
          "height": 542
        },
        "id": "mlErX85DLJvP",
        "outputId": "3284eba0-55f1-4f1e-a865-2056d6d9329a"
      },
      "id": "mlErX85DLJvP",
      "execution_count": 430,
      "outputs": [
        {
          "output_type": "display_data",
          "data": {
            "text/html": [
              "<html>\n",
              "<head><meta charset=\"utf-8\" /></head>\n",
              "<body>\n",
              "    <div>            <script src=\"https://cdnjs.cloudflare.com/ajax/libs/mathjax/2.7.5/MathJax.js?config=TeX-AMS-MML_SVG\"></script><script type=\"text/javascript\">if (window.MathJax) {MathJax.Hub.Config({SVG: {font: \"STIX-Web\"}});}</script>                <script type=\"text/javascript\">window.PlotlyConfig = {MathJaxConfig: 'local'};</script>\n",
              "        <script src=\"https://cdn.plot.ly/plotly-2.8.3.min.js\"></script>                <div id=\"e8710084-d52f-4f2c-81ca-56e5028cadd9\" class=\"plotly-graph-div\" style=\"height:525px; width:100%;\"></div>            <script type=\"text/javascript\">                                    window.PLOTLYENV=window.PLOTLYENV || {};                                    if (document.getElementById(\"e8710084-d52f-4f2c-81ca-56e5028cadd9\")) {                    Plotly.newPlot(                        \"e8710084-d52f-4f2c-81ca-56e5028cadd9\",                        [{\"alignmentgroup\":\"True\",\"hovertemplate\":\"release_year=%{x}<br>count=%{text}<extra></extra>\",\"legendgroup\":\"\",\"marker\":{\"color\":\"#636efa\",\"pattern\":{\"shape\":\"\"}},\"name\":\"\",\"offsetgroup\":\"\",\"orientation\":\"v\",\"showlegend\":false,\"text\":[3.0,1.0,1.0,1.0,1.0,2.0,5.0,6.0,3.0,1.0,13.0,7.0,14.0,8.0,13.0,5.0,14.0,10.0,2.0,18.0,8.0,5.0,7.0,7.0,6.0,10.0,7.0,6.0,14.0,13.0,19.0,29.0,32.0,17.0,16.0,23.0,29.0,34.0,34.0,23.0,39.0,40.0,50.0,41.0,66.0,76.0,81.0,100.0,136.0,147.0,141.0,144.0,152.0,155.0,127.0,134.0,152.0,147.0,146.0,145.0,142.0,147.0,128.0,156.0,157.0,174.0,184.0,196.0,194.0,200.0,191.0,209.0,218.0,244.0,220.0,224.0,218.0,203.0,229.0,233.0,254.0,247.0,306.0,289.0,338.0,305.0,351.0,378.0,381.0,356.0,348.0,332.0,333.0,334.0,321.0,338.0,361.0,360.0,368.0,353.0,362.0,368.0,391.0,462.0,467.0,439.0,427.0,426.0,453.0,489.0,544.0,599.0,633.0,661.0,722.0,723.0,789.0,865.0,905.0,882.0,992.0,1125.0,1270.0,1320.0,1473.0,1586.0,1501.0,1667.0,1722.0,1889.0,1974.0,1905.0,1604.0,532.0,5.0,1.0],\"textposition\":\"outside\",\"x\":[0,1874,1878,1883,1887,1888,1890,1891,1892,1893,1894,1895,1896,1897,1898,1899,1900,1901,1902,1903,1904,1905,1906,1907,1908,1909,1910,1911,1912,1913,1914,1915,1916,1917,1918,1919,1920,1921,1922,1923,1924,1925,1926,1927,1928,1929,1930,1931,1932,1933,1934,1935,1936,1937,1938,1939,1940,1941,1942,1943,1944,1945,1946,1947,1948,1949,1950,1951,1952,1953,1954,1955,1956,1957,1958,1959,1960,1961,1962,1963,1964,1965,1966,1967,1968,1969,1970,1971,1972,1973,1974,1975,1976,1977,1978,1979,1980,1981,1982,1983,1984,1985,1986,1987,1988,1989,1990,1991,1992,1993,1994,1995,1996,1997,1998,1999,2000,2001,2002,2003,2004,2005,2006,2007,2008,2009,2010,2011,2012,2013,2014,2015,2016,2017,2018,2020],\"xaxis\":\"x\",\"y\":[3,1,1,1,1,2,5,6,3,1,13,7,14,8,13,5,14,10,2,18,8,5,7,7,6,10,7,6,14,13,19,29,32,17,16,23,29,34,34,23,39,40,50,41,66,76,81,100,136,147,141,144,152,155,127,134,152,147,146,145,142,147,128,156,157,174,184,196,194,200,191,209,218,244,220,224,218,203,229,233,254,247,306,289,338,305,351,378,381,356,348,332,333,334,321,338,361,360,368,353,362,368,391,462,467,439,427,426,453,489,544,599,633,661,722,723,789,865,905,882,992,1125,1270,1320,1473,1586,1501,1667,1722,1889,1974,1905,1604,532,5,1],\"yaxis\":\"y\",\"type\":\"bar\",\"texttemplate\":\"%{text:.2s}\"}],                        {\"template\":{\"data\":{\"bar\":[{\"error_x\":{\"color\":\"#2a3f5f\"},\"error_y\":{\"color\":\"#2a3f5f\"},\"marker\":{\"line\":{\"color\":\"#E5ECF6\",\"width\":0.5},\"pattern\":{\"fillmode\":\"overlay\",\"size\":10,\"solidity\":0.2}},\"type\":\"bar\"}],\"barpolar\":[{\"marker\":{\"line\":{\"color\":\"#E5ECF6\",\"width\":0.5},\"pattern\":{\"fillmode\":\"overlay\",\"size\":10,\"solidity\":0.2}},\"type\":\"barpolar\"}],\"carpet\":[{\"aaxis\":{\"endlinecolor\":\"#2a3f5f\",\"gridcolor\":\"white\",\"linecolor\":\"white\",\"minorgridcolor\":\"white\",\"startlinecolor\":\"#2a3f5f\"},\"baxis\":{\"endlinecolor\":\"#2a3f5f\",\"gridcolor\":\"white\",\"linecolor\":\"white\",\"minorgridcolor\":\"white\",\"startlinecolor\":\"#2a3f5f\"},\"type\":\"carpet\"}],\"choropleth\":[{\"colorbar\":{\"outlinewidth\":0,\"ticks\":\"\"},\"type\":\"choropleth\"}],\"contour\":[{\"colorbar\":{\"outlinewidth\":0,\"ticks\":\"\"},\"colorscale\":[[0.0,\"#0d0887\"],[0.1111111111111111,\"#46039f\"],[0.2222222222222222,\"#7201a8\"],[0.3333333333333333,\"#9c179e\"],[0.4444444444444444,\"#bd3786\"],[0.5555555555555556,\"#d8576b\"],[0.6666666666666666,\"#ed7953\"],[0.7777777777777778,\"#fb9f3a\"],[0.8888888888888888,\"#fdca26\"],[1.0,\"#f0f921\"]],\"type\":\"contour\"}],\"contourcarpet\":[{\"colorbar\":{\"outlinewidth\":0,\"ticks\":\"\"},\"type\":\"contourcarpet\"}],\"heatmap\":[{\"colorbar\":{\"outlinewidth\":0,\"ticks\":\"\"},\"colorscale\":[[0.0,\"#0d0887\"],[0.1111111111111111,\"#46039f\"],[0.2222222222222222,\"#7201a8\"],[0.3333333333333333,\"#9c179e\"],[0.4444444444444444,\"#bd3786\"],[0.5555555555555556,\"#d8576b\"],[0.6666666666666666,\"#ed7953\"],[0.7777777777777778,\"#fb9f3a\"],[0.8888888888888888,\"#fdca26\"],[1.0,\"#f0f921\"]],\"type\":\"heatmap\"}],\"heatmapgl\":[{\"colorbar\":{\"outlinewidth\":0,\"ticks\":\"\"},\"colorscale\":[[0.0,\"#0d0887\"],[0.1111111111111111,\"#46039f\"],[0.2222222222222222,\"#7201a8\"],[0.3333333333333333,\"#9c179e\"],[0.4444444444444444,\"#bd3786\"],[0.5555555555555556,\"#d8576b\"],[0.6666666666666666,\"#ed7953\"],[0.7777777777777778,\"#fb9f3a\"],[0.8888888888888888,\"#fdca26\"],[1.0,\"#f0f921\"]],\"type\":\"heatmapgl\"}],\"histogram\":[{\"marker\":{\"pattern\":{\"fillmode\":\"overlay\",\"size\":10,\"solidity\":0.2}},\"type\":\"histogram\"}],\"histogram2d\":[{\"colorbar\":{\"outlinewidth\":0,\"ticks\":\"\"},\"colorscale\":[[0.0,\"#0d0887\"],[0.1111111111111111,\"#46039f\"],[0.2222222222222222,\"#7201a8\"],[0.3333333333333333,\"#9c179e\"],[0.4444444444444444,\"#bd3786\"],[0.5555555555555556,\"#d8576b\"],[0.6666666666666666,\"#ed7953\"],[0.7777777777777778,\"#fb9f3a\"],[0.8888888888888888,\"#fdca26\"],[1.0,\"#f0f921\"]],\"type\":\"histogram2d\"}],\"histogram2dcontour\":[{\"colorbar\":{\"outlinewidth\":0,\"ticks\":\"\"},\"colorscale\":[[0.0,\"#0d0887\"],[0.1111111111111111,\"#46039f\"],[0.2222222222222222,\"#7201a8\"],[0.3333333333333333,\"#9c179e\"],[0.4444444444444444,\"#bd3786\"],[0.5555555555555556,\"#d8576b\"],[0.6666666666666666,\"#ed7953\"],[0.7777777777777778,\"#fb9f3a\"],[0.8888888888888888,\"#fdca26\"],[1.0,\"#f0f921\"]],\"type\":\"histogram2dcontour\"}],\"mesh3d\":[{\"colorbar\":{\"outlinewidth\":0,\"ticks\":\"\"},\"type\":\"mesh3d\"}],\"parcoords\":[{\"line\":{\"colorbar\":{\"outlinewidth\":0,\"ticks\":\"\"}},\"type\":\"parcoords\"}],\"pie\":[{\"automargin\":true,\"type\":\"pie\"}],\"scatter\":[{\"marker\":{\"colorbar\":{\"outlinewidth\":0,\"ticks\":\"\"}},\"type\":\"scatter\"}],\"scatter3d\":[{\"line\":{\"colorbar\":{\"outlinewidth\":0,\"ticks\":\"\"}},\"marker\":{\"colorbar\":{\"outlinewidth\":0,\"ticks\":\"\"}},\"type\":\"scatter3d\"}],\"scattercarpet\":[{\"marker\":{\"colorbar\":{\"outlinewidth\":0,\"ticks\":\"\"}},\"type\":\"scattercarpet\"}],\"scattergeo\":[{\"marker\":{\"colorbar\":{\"outlinewidth\":0,\"ticks\":\"\"}},\"type\":\"scattergeo\"}],\"scattergl\":[{\"marker\":{\"colorbar\":{\"outlinewidth\":0,\"ticks\":\"\"}},\"type\":\"scattergl\"}],\"scattermapbox\":[{\"marker\":{\"colorbar\":{\"outlinewidth\":0,\"ticks\":\"\"}},\"type\":\"scattermapbox\"}],\"scatterpolar\":[{\"marker\":{\"colorbar\":{\"outlinewidth\":0,\"ticks\":\"\"}},\"type\":\"scatterpolar\"}],\"scatterpolargl\":[{\"marker\":{\"colorbar\":{\"outlinewidth\":0,\"ticks\":\"\"}},\"type\":\"scatterpolargl\"}],\"scatterternary\":[{\"marker\":{\"colorbar\":{\"outlinewidth\":0,\"ticks\":\"\"}},\"type\":\"scatterternary\"}],\"surface\":[{\"colorbar\":{\"outlinewidth\":0,\"ticks\":\"\"},\"colorscale\":[[0.0,\"#0d0887\"],[0.1111111111111111,\"#46039f\"],[0.2222222222222222,\"#7201a8\"],[0.3333333333333333,\"#9c179e\"],[0.4444444444444444,\"#bd3786\"],[0.5555555555555556,\"#d8576b\"],[0.6666666666666666,\"#ed7953\"],[0.7777777777777778,\"#fb9f3a\"],[0.8888888888888888,\"#fdca26\"],[1.0,\"#f0f921\"]],\"type\":\"surface\"}],\"table\":[{\"cells\":{\"fill\":{\"color\":\"#EBF0F8\"},\"line\":{\"color\":\"white\"}},\"header\":{\"fill\":{\"color\":\"#C8D4E3\"},\"line\":{\"color\":\"white\"}},\"type\":\"table\"}]},\"layout\":{\"annotationdefaults\":{\"arrowcolor\":\"#2a3f5f\",\"arrowhead\":0,\"arrowwidth\":1},\"autotypenumbers\":\"strict\",\"coloraxis\":{\"colorbar\":{\"outlinewidth\":0,\"ticks\":\"\"}},\"colorscale\":{\"diverging\":[[0,\"#8e0152\"],[0.1,\"#c51b7d\"],[0.2,\"#de77ae\"],[0.3,\"#f1b6da\"],[0.4,\"#fde0ef\"],[0.5,\"#f7f7f7\"],[0.6,\"#e6f5d0\"],[0.7,\"#b8e186\"],[0.8,\"#7fbc41\"],[0.9,\"#4d9221\"],[1,\"#276419\"]],\"sequential\":[[0.0,\"#0d0887\"],[0.1111111111111111,\"#46039f\"],[0.2222222222222222,\"#7201a8\"],[0.3333333333333333,\"#9c179e\"],[0.4444444444444444,\"#bd3786\"],[0.5555555555555556,\"#d8576b\"],[0.6666666666666666,\"#ed7953\"],[0.7777777777777778,\"#fb9f3a\"],[0.8888888888888888,\"#fdca26\"],[1.0,\"#f0f921\"]],\"sequentialminus\":[[0.0,\"#0d0887\"],[0.1111111111111111,\"#46039f\"],[0.2222222222222222,\"#7201a8\"],[0.3333333333333333,\"#9c179e\"],[0.4444444444444444,\"#bd3786\"],[0.5555555555555556,\"#d8576b\"],[0.6666666666666666,\"#ed7953\"],[0.7777777777777778,\"#fb9f3a\"],[0.8888888888888888,\"#fdca26\"],[1.0,\"#f0f921\"]]},\"colorway\":[\"#636efa\",\"#EF553B\",\"#00cc96\",\"#ab63fa\",\"#FFA15A\",\"#19d3f3\",\"#FF6692\",\"#B6E880\",\"#FF97FF\",\"#FECB52\"],\"font\":{\"color\":\"#2a3f5f\"},\"geo\":{\"bgcolor\":\"white\",\"lakecolor\":\"white\",\"landcolor\":\"#E5ECF6\",\"showlakes\":true,\"showland\":true,\"subunitcolor\":\"white\"},\"hoverlabel\":{\"align\":\"left\"},\"hovermode\":\"closest\",\"mapbox\":{\"style\":\"light\"},\"paper_bgcolor\":\"white\",\"plot_bgcolor\":\"#E5ECF6\",\"polar\":{\"angularaxis\":{\"gridcolor\":\"white\",\"linecolor\":\"white\",\"ticks\":\"\"},\"bgcolor\":\"#E5ECF6\",\"radialaxis\":{\"gridcolor\":\"white\",\"linecolor\":\"white\",\"ticks\":\"\"}},\"scene\":{\"xaxis\":{\"backgroundcolor\":\"#E5ECF6\",\"gridcolor\":\"white\",\"gridwidth\":2,\"linecolor\":\"white\",\"showbackground\":true,\"ticks\":\"\",\"zerolinecolor\":\"white\"},\"yaxis\":{\"backgroundcolor\":\"#E5ECF6\",\"gridcolor\":\"white\",\"gridwidth\":2,\"linecolor\":\"white\",\"showbackground\":true,\"ticks\":\"\",\"zerolinecolor\":\"white\"},\"zaxis\":{\"backgroundcolor\":\"#E5ECF6\",\"gridcolor\":\"white\",\"gridwidth\":2,\"linecolor\":\"white\",\"showbackground\":true,\"ticks\":\"\",\"zerolinecolor\":\"white\"}},\"shapedefaults\":{\"line\":{\"color\":\"#2a3f5f\"}},\"ternary\":{\"aaxis\":{\"gridcolor\":\"white\",\"linecolor\":\"white\",\"ticks\":\"\"},\"baxis\":{\"gridcolor\":\"white\",\"linecolor\":\"white\",\"ticks\":\"\"},\"bgcolor\":\"#E5ECF6\",\"caxis\":{\"gridcolor\":\"white\",\"linecolor\":\"white\",\"ticks\":\"\"}},\"title\":{\"x\":0.05},\"xaxis\":{\"automargin\":true,\"gridcolor\":\"white\",\"linecolor\":\"white\",\"ticks\":\"\",\"title\":{\"standoff\":15},\"zerolinecolor\":\"white\",\"zerolinewidth\":2},\"yaxis\":{\"automargin\":true,\"gridcolor\":\"white\",\"linecolor\":\"white\",\"ticks\":\"\",\"title\":{\"standoff\":15},\"zerolinecolor\":\"white\",\"zerolinewidth\":2}}},\"xaxis\":{\"anchor\":\"y\",\"domain\":[0.0,1.0],\"title\":{\"text\":\"release_year\"},\"range\":[1950,2018]},\"yaxis\":{\"anchor\":\"x\",\"domain\":[0.0,1.0],\"title\":{\"text\":\"count\"}},\"legend\":{\"tracegroupgap\":0},\"title\":{\"text\":\"Nombre de film sorties par ann\\u00e9e entre 1950 et 2017\"},\"barmode\":\"relative\",\"uniformtext\":{\"minsize\":8,\"mode\":\"hide\"}},                        {\"responsive\": true}                    ).then(function(){\n",
              "                            \n",
              "var gd = document.getElementById('e8710084-d52f-4f2c-81ca-56e5028cadd9');\n",
              "var x = new MutationObserver(function (mutations, observer) {{\n",
              "        var display = window.getComputedStyle(gd).display;\n",
              "        if (!display || display === 'none') {{\n",
              "            console.log([gd, 'removed!']);\n",
              "            Plotly.purge(gd);\n",
              "            observer.disconnect();\n",
              "        }}\n",
              "}});\n",
              "\n",
              "// Listen for the removal of the full notebook cells\n",
              "var notebookContainer = gd.closest('#notebook-container');\n",
              "if (notebookContainer) {{\n",
              "    x.observe(notebookContainer, {childList: true});\n",
              "}}\n",
              "\n",
              "// Listen for the clearing of the current output cell\n",
              "var outputEl = gd.closest('.output');\n",
              "if (outputEl) {{\n",
              "    x.observe(outputEl, {childList: true});\n",
              "}}\n",
              "\n",
              "                        })                };                            </script>        </div>\n",
              "</body>\n",
              "</html>"
            ]
          },
          "metadata": {}
        }
      ]
    },
    {
      "cell_type": "markdown",
      "metadata": {
        "id": "0ce2fbc3"
      },
      "source": [
        "Top 5 des franchises ayant produit le plus de films"
      ],
      "id": "0ce2fbc3"
    },
    {
      "cell_type": "code",
      "source": [
        "def top_collections(df):\n",
        "    \"\"\"\n",
        "    This function takes in a DataFrame and returns the top 5 collections by count.\n",
        "    \"\"\"\n",
        "    # Filter out collections that are missing a name and select the 'name' column\n",
        "    # Group the DataFrame by name and count the number of occurrences of each name\n",
        "    # Order the DataFrame by count in descending order and convert it to a Pandas DataFrame\n",
        "    df_pd_collection = df.where(col('name').isNotNull()).select(col('name')).groupBy(col('name')).count().orderBy(col('count').desc()).toPandas()\n",
        "\n",
        "    # Print the top 5 collections by count\n",
        "    print(df_pd_collection.head(5))"
      ],
      "metadata": {
        "id": "AmbWAD8ILh36"
      },
      "id": "AmbWAD8ILh36",
      "execution_count": 402,
      "outputs": []
    },
    {
      "cell_type": "code",
      "source": [
        "top_collections(df)"
      ],
      "metadata": {
        "colab": {
          "base_uri": "https://localhost:8080/"
        },
        "id": "DfQqr_ZpLj9k",
        "outputId": "6a091f7e-1cee-44c9-a994-6ea46cab4554"
      },
      "id": "DfQqr_ZpLj9k",
      "execution_count": 403,
      "outputs": [
        {
          "output_type": "stream",
          "name": "stdout",
          "text": [
            "                            name  count\n",
            "0                The Bowery Boys     29\n",
            "1                Totò Collection     27\n",
            "2          James Bond Collection     26\n",
            "3  Zatôichi: The Blind Swordsman     26\n",
            "4        The Carry On Collection     25\n"
          ]
        }
      ]
    },
    {
      "cell_type": "markdown",
      "source": [
        "# 10 Visualisations en utilisant koalas"
      ],
      "metadata": {
        "id": "uqF6moi6itNA"
      },
      "id": "uqF6moi6itNA"
    },
    {
      "cell_type": "markdown",
      "source": [
        "Utilision de koala pour de nouvelles visualisations "
      ],
      "metadata": {
        "id": "PIXRXdCPrVcB"
      },
      "id": "PIXRXdCPrVcB"
    },
    {
      "cell_type": "code",
      "source": [
        "import databricks.koalas\n",
        "import matplotlib.pyplot as plt\n",
        "import seaborn as sns\n",
        "%matplotlib inline\n",
        "# convert to koalas ds\n",
        "ratings_koa = ratings.to_koalas()\n",
        "# plot ratings distribution\n",
        "ratings_koa = ratings_koa.astype({'rating': float})\n",
        "ratings_koa['rating'].hist() \n"
      ],
      "metadata": {
        "colab": {
          "base_uri": "https://localhost:8080/",
          "height": 542
        },
        "id": "sLQ-8WuUjTHy",
        "outputId": "870d7b4f-7999-44ea-aea6-32c865e9b6d8"
      },
      "id": "sLQ-8WuUjTHy",
      "execution_count": 404,
      "outputs": [
        {
          "output_type": "display_data",
          "data": {
            "text/html": [
              "<html>\n",
              "<head><meta charset=\"utf-8\" /></head>\n",
              "<body>\n",
              "    <div>            <script src=\"https://cdnjs.cloudflare.com/ajax/libs/mathjax/2.7.5/MathJax.js?config=TeX-AMS-MML_SVG\"></script><script type=\"text/javascript\">if (window.MathJax) {MathJax.Hub.Config({SVG: {font: \"STIX-Web\"}});}</script>                <script type=\"text/javascript\">window.PlotlyConfig = {MathJaxConfig: 'local'};</script>\n",
              "        <script src=\"https://cdn.plot.ly/plotly-2.8.3.min.js\"></script>                <div id=\"57c8d57b-fef2-4dc0-bc35-7fbc795bc2ec\" class=\"plotly-graph-div\" style=\"height:525px; width:100%;\"></div>            <script type=\"text/javascript\">                                    window.PLOTLYENV=window.PLOTLYENV || {};                                    if (document.getElementById(\"57c8d57b-fef2-4dc0-bc35-7fbc795bc2ec\")) {                    Plotly.newPlot(                        \"57c8d57b-fef2-4dc0-bc35-7fbc795bc2ec\",                        [{\"hovertemplate\":\"variable=rating<br>value=%{text}<br>count=%{y}\",\"name\":\"rating\",\"text\":[\"[0.5, 0.95)\",\"[0.95, 1.4)\",\"[1.4, 1.85)\",\"[1.85, 2.3)\",\"[2.3, 2.75)\",\"[2.75, 3.2)\",\"[3.2, 3.65)\",\"[3.65, 4.1)\",\"[4.1, 4.55)\",\"[4.55, 5.0]\"],\"x\":[0.725,1.1749999999999998,1.625,2.075,2.525,2.975,3.425,3.875,4.324999999999999,4.775],\"y\":[404897,843310,403607,1762440,1255358,5256722,3116213,6998802,2170441,3812499],\"type\":\"bar\"}],                        {\"barmode\":\"stack\",\"template\":{\"data\":{\"bar\":[{\"error_x\":{\"color\":\"#2a3f5f\"},\"error_y\":{\"color\":\"#2a3f5f\"},\"marker\":{\"line\":{\"color\":\"#E5ECF6\",\"width\":0.5},\"pattern\":{\"fillmode\":\"overlay\",\"size\":10,\"solidity\":0.2}},\"type\":\"bar\"}],\"barpolar\":[{\"marker\":{\"line\":{\"color\":\"#E5ECF6\",\"width\":0.5},\"pattern\":{\"fillmode\":\"overlay\",\"size\":10,\"solidity\":0.2}},\"type\":\"barpolar\"}],\"carpet\":[{\"aaxis\":{\"endlinecolor\":\"#2a3f5f\",\"gridcolor\":\"white\",\"linecolor\":\"white\",\"minorgridcolor\":\"white\",\"startlinecolor\":\"#2a3f5f\"},\"baxis\":{\"endlinecolor\":\"#2a3f5f\",\"gridcolor\":\"white\",\"linecolor\":\"white\",\"minorgridcolor\":\"white\",\"startlinecolor\":\"#2a3f5f\"},\"type\":\"carpet\"}],\"choropleth\":[{\"colorbar\":{\"outlinewidth\":0,\"ticks\":\"\"},\"type\":\"choropleth\"}],\"contour\":[{\"colorbar\":{\"outlinewidth\":0,\"ticks\":\"\"},\"colorscale\":[[0.0,\"#0d0887\"],[0.1111111111111111,\"#46039f\"],[0.2222222222222222,\"#7201a8\"],[0.3333333333333333,\"#9c179e\"],[0.4444444444444444,\"#bd3786\"],[0.5555555555555556,\"#d8576b\"],[0.6666666666666666,\"#ed7953\"],[0.7777777777777778,\"#fb9f3a\"],[0.8888888888888888,\"#fdca26\"],[1.0,\"#f0f921\"]],\"type\":\"contour\"}],\"contourcarpet\":[{\"colorbar\":{\"outlinewidth\":0,\"ticks\":\"\"},\"type\":\"contourcarpet\"}],\"heatmap\":[{\"colorbar\":{\"outlinewidth\":0,\"ticks\":\"\"},\"colorscale\":[[0.0,\"#0d0887\"],[0.1111111111111111,\"#46039f\"],[0.2222222222222222,\"#7201a8\"],[0.3333333333333333,\"#9c179e\"],[0.4444444444444444,\"#bd3786\"],[0.5555555555555556,\"#d8576b\"],[0.6666666666666666,\"#ed7953\"],[0.7777777777777778,\"#fb9f3a\"],[0.8888888888888888,\"#fdca26\"],[1.0,\"#f0f921\"]],\"type\":\"heatmap\"}],\"heatmapgl\":[{\"colorbar\":{\"outlinewidth\":0,\"ticks\":\"\"},\"colorscale\":[[0.0,\"#0d0887\"],[0.1111111111111111,\"#46039f\"],[0.2222222222222222,\"#7201a8\"],[0.3333333333333333,\"#9c179e\"],[0.4444444444444444,\"#bd3786\"],[0.5555555555555556,\"#d8576b\"],[0.6666666666666666,\"#ed7953\"],[0.7777777777777778,\"#fb9f3a\"],[0.8888888888888888,\"#fdca26\"],[1.0,\"#f0f921\"]],\"type\":\"heatmapgl\"}],\"histogram\":[{\"marker\":{\"pattern\":{\"fillmode\":\"overlay\",\"size\":10,\"solidity\":0.2}},\"type\":\"histogram\"}],\"histogram2d\":[{\"colorbar\":{\"outlinewidth\":0,\"ticks\":\"\"},\"colorscale\":[[0.0,\"#0d0887\"],[0.1111111111111111,\"#46039f\"],[0.2222222222222222,\"#7201a8\"],[0.3333333333333333,\"#9c179e\"],[0.4444444444444444,\"#bd3786\"],[0.5555555555555556,\"#d8576b\"],[0.6666666666666666,\"#ed7953\"],[0.7777777777777778,\"#fb9f3a\"],[0.8888888888888888,\"#fdca26\"],[1.0,\"#f0f921\"]],\"type\":\"histogram2d\"}],\"histogram2dcontour\":[{\"colorbar\":{\"outlinewidth\":0,\"ticks\":\"\"},\"colorscale\":[[0.0,\"#0d0887\"],[0.1111111111111111,\"#46039f\"],[0.2222222222222222,\"#7201a8\"],[0.3333333333333333,\"#9c179e\"],[0.4444444444444444,\"#bd3786\"],[0.5555555555555556,\"#d8576b\"],[0.6666666666666666,\"#ed7953\"],[0.7777777777777778,\"#fb9f3a\"],[0.8888888888888888,\"#fdca26\"],[1.0,\"#f0f921\"]],\"type\":\"histogram2dcontour\"}],\"mesh3d\":[{\"colorbar\":{\"outlinewidth\":0,\"ticks\":\"\"},\"type\":\"mesh3d\"}],\"parcoords\":[{\"line\":{\"colorbar\":{\"outlinewidth\":0,\"ticks\":\"\"}},\"type\":\"parcoords\"}],\"pie\":[{\"automargin\":true,\"type\":\"pie\"}],\"scatter\":[{\"marker\":{\"colorbar\":{\"outlinewidth\":0,\"ticks\":\"\"}},\"type\":\"scatter\"}],\"scatter3d\":[{\"line\":{\"colorbar\":{\"outlinewidth\":0,\"ticks\":\"\"}},\"marker\":{\"colorbar\":{\"outlinewidth\":0,\"ticks\":\"\"}},\"type\":\"scatter3d\"}],\"scattercarpet\":[{\"marker\":{\"colorbar\":{\"outlinewidth\":0,\"ticks\":\"\"}},\"type\":\"scattercarpet\"}],\"scattergeo\":[{\"marker\":{\"colorbar\":{\"outlinewidth\":0,\"ticks\":\"\"}},\"type\":\"scattergeo\"}],\"scattergl\":[{\"marker\":{\"colorbar\":{\"outlinewidth\":0,\"ticks\":\"\"}},\"type\":\"scattergl\"}],\"scattermapbox\":[{\"marker\":{\"colorbar\":{\"outlinewidth\":0,\"ticks\":\"\"}},\"type\":\"scattermapbox\"}],\"scatterpolar\":[{\"marker\":{\"colorbar\":{\"outlinewidth\":0,\"ticks\":\"\"}},\"type\":\"scatterpolar\"}],\"scatterpolargl\":[{\"marker\":{\"colorbar\":{\"outlinewidth\":0,\"ticks\":\"\"}},\"type\":\"scatterpolargl\"}],\"scatterternary\":[{\"marker\":{\"colorbar\":{\"outlinewidth\":0,\"ticks\":\"\"}},\"type\":\"scatterternary\"}],\"surface\":[{\"colorbar\":{\"outlinewidth\":0,\"ticks\":\"\"},\"colorscale\":[[0.0,\"#0d0887\"],[0.1111111111111111,\"#46039f\"],[0.2222222222222222,\"#7201a8\"],[0.3333333333333333,\"#9c179e\"],[0.4444444444444444,\"#bd3786\"],[0.5555555555555556,\"#d8576b\"],[0.6666666666666666,\"#ed7953\"],[0.7777777777777778,\"#fb9f3a\"],[0.8888888888888888,\"#fdca26\"],[1.0,\"#f0f921\"]],\"type\":\"surface\"}],\"table\":[{\"cells\":{\"fill\":{\"color\":\"#EBF0F8\"},\"line\":{\"color\":\"white\"}},\"header\":{\"fill\":{\"color\":\"#C8D4E3\"},\"line\":{\"color\":\"white\"}},\"type\":\"table\"}]},\"layout\":{\"annotationdefaults\":{\"arrowcolor\":\"#2a3f5f\",\"arrowhead\":0,\"arrowwidth\":1},\"autotypenumbers\":\"strict\",\"coloraxis\":{\"colorbar\":{\"outlinewidth\":0,\"ticks\":\"\"}},\"colorscale\":{\"diverging\":[[0,\"#8e0152\"],[0.1,\"#c51b7d\"],[0.2,\"#de77ae\"],[0.3,\"#f1b6da\"],[0.4,\"#fde0ef\"],[0.5,\"#f7f7f7\"],[0.6,\"#e6f5d0\"],[0.7,\"#b8e186\"],[0.8,\"#7fbc41\"],[0.9,\"#4d9221\"],[1,\"#276419\"]],\"sequential\":[[0.0,\"#0d0887\"],[0.1111111111111111,\"#46039f\"],[0.2222222222222222,\"#7201a8\"],[0.3333333333333333,\"#9c179e\"],[0.4444444444444444,\"#bd3786\"],[0.5555555555555556,\"#d8576b\"],[0.6666666666666666,\"#ed7953\"],[0.7777777777777778,\"#fb9f3a\"],[0.8888888888888888,\"#fdca26\"],[1.0,\"#f0f921\"]],\"sequentialminus\":[[0.0,\"#0d0887\"],[0.1111111111111111,\"#46039f\"],[0.2222222222222222,\"#7201a8\"],[0.3333333333333333,\"#9c179e\"],[0.4444444444444444,\"#bd3786\"],[0.5555555555555556,\"#d8576b\"],[0.6666666666666666,\"#ed7953\"],[0.7777777777777778,\"#fb9f3a\"],[0.8888888888888888,\"#fdca26\"],[1.0,\"#f0f921\"]]},\"colorway\":[\"#636efa\",\"#EF553B\",\"#00cc96\",\"#ab63fa\",\"#FFA15A\",\"#19d3f3\",\"#FF6692\",\"#B6E880\",\"#FF97FF\",\"#FECB52\"],\"font\":{\"color\":\"#2a3f5f\"},\"geo\":{\"bgcolor\":\"white\",\"lakecolor\":\"white\",\"landcolor\":\"#E5ECF6\",\"showlakes\":true,\"showland\":true,\"subunitcolor\":\"white\"},\"hoverlabel\":{\"align\":\"left\"},\"hovermode\":\"closest\",\"mapbox\":{\"style\":\"light\"},\"paper_bgcolor\":\"white\",\"plot_bgcolor\":\"#E5ECF6\",\"polar\":{\"angularaxis\":{\"gridcolor\":\"white\",\"linecolor\":\"white\",\"ticks\":\"\"},\"bgcolor\":\"#E5ECF6\",\"radialaxis\":{\"gridcolor\":\"white\",\"linecolor\":\"white\",\"ticks\":\"\"}},\"scene\":{\"xaxis\":{\"backgroundcolor\":\"#E5ECF6\",\"gridcolor\":\"white\",\"gridwidth\":2,\"linecolor\":\"white\",\"showbackground\":true,\"ticks\":\"\",\"zerolinecolor\":\"white\"},\"yaxis\":{\"backgroundcolor\":\"#E5ECF6\",\"gridcolor\":\"white\",\"gridwidth\":2,\"linecolor\":\"white\",\"showbackground\":true,\"ticks\":\"\",\"zerolinecolor\":\"white\"},\"zaxis\":{\"backgroundcolor\":\"#E5ECF6\",\"gridcolor\":\"white\",\"gridwidth\":2,\"linecolor\":\"white\",\"showbackground\":true,\"ticks\":\"\",\"zerolinecolor\":\"white\"}},\"shapedefaults\":{\"line\":{\"color\":\"#2a3f5f\"}},\"ternary\":{\"aaxis\":{\"gridcolor\":\"white\",\"linecolor\":\"white\",\"ticks\":\"\"},\"baxis\":{\"gridcolor\":\"white\",\"linecolor\":\"white\",\"ticks\":\"\"},\"bgcolor\":\"#E5ECF6\",\"caxis\":{\"gridcolor\":\"white\",\"linecolor\":\"white\",\"ticks\":\"\"}},\"title\":{\"x\":0.05},\"xaxis\":{\"automargin\":true,\"gridcolor\":\"white\",\"linecolor\":\"white\",\"ticks\":\"\",\"title\":{\"standoff\":15},\"zerolinecolor\":\"white\",\"zerolinewidth\":2},\"yaxis\":{\"automargin\":true,\"gridcolor\":\"white\",\"linecolor\":\"white\",\"ticks\":\"\",\"title\":{\"standoff\":15},\"zerolinecolor\":\"white\",\"zerolinewidth\":2}}},\"xaxis\":{\"title\":{\"text\":\"value\"}},\"yaxis\":{\"title\":{\"text\":\"count\"}}},                        {\"responsive\": true}                    ).then(function(){\n",
              "                            \n",
              "var gd = document.getElementById('57c8d57b-fef2-4dc0-bc35-7fbc795bc2ec');\n",
              "var x = new MutationObserver(function (mutations, observer) {{\n",
              "        var display = window.getComputedStyle(gd).display;\n",
              "        if (!display || display === 'none') {{\n",
              "            console.log([gd, 'removed!']);\n",
              "            Plotly.purge(gd);\n",
              "            observer.disconnect();\n",
              "        }}\n",
              "}});\n",
              "\n",
              "// Listen for the removal of the full notebook cells\n",
              "var notebookContainer = gd.closest('#notebook-container');\n",
              "if (notebookContainer) {{\n",
              "    x.observe(notebookContainer, {childList: true});\n",
              "}}\n",
              "\n",
              "// Listen for the clearing of the current output cell\n",
              "var outputEl = gd.closest('.output');\n",
              "if (outputEl) {{\n",
              "    x.observe(outputEl, {childList: true});\n",
              "}}\n",
              "\n",
              "                        })                };                            </script>        </div>\n",
              "</body>\n",
              "</html>"
            ]
          },
          "metadata": {}
        }
      ]
    },
    {
      "cell_type": "code",
      "source": [
        "# convert to koalas ds\n",
        "metadata_koa = movies_metadata.to_koalas()\n",
        "# plot ratings distribution\n",
        "metadata_koa = metadata_koa.astype({'budget': float})\n",
        "metadata_koa['budget'].hist(bins=50) \n"
      ],
      "metadata": {
        "colab": {
          "base_uri": "https://localhost:8080/",
          "height": 542
        },
        "id": "jkFA7A3LlO-d",
        "outputId": "ade54ebb-3340-47d6-c82b-9ece9aa1356e"
      },
      "id": "jkFA7A3LlO-d",
      "execution_count": 405,
      "outputs": [
        {
          "output_type": "display_data",
          "data": {
            "text/html": [
              "<html>\n",
              "<head><meta charset=\"utf-8\" /></head>\n",
              "<body>\n",
              "    <div>            <script src=\"https://cdnjs.cloudflare.com/ajax/libs/mathjax/2.7.5/MathJax.js?config=TeX-AMS-MML_SVG\"></script><script type=\"text/javascript\">if (window.MathJax) {MathJax.Hub.Config({SVG: {font: \"STIX-Web\"}});}</script>                <script type=\"text/javascript\">window.PlotlyConfig = {MathJaxConfig: 'local'};</script>\n",
              "        <script src=\"https://cdn.plot.ly/plotly-2.8.3.min.js\"></script>                <div id=\"8a38a489-1a8d-481f-b517-21353a3c7fff\" class=\"plotly-graph-div\" style=\"height:525px; width:100%;\"></div>            <script type=\"text/javascript\">                                    window.PLOTLYENV=window.PLOTLYENV || {};                                    if (document.getElementById(\"8a38a489-1a8d-481f-b517-21353a3c7fff\")) {                    Plotly.newPlot(                        \"8a38a489-1a8d-481f-b517-21353a3c7fff\",                        [{\"hovertemplate\":\"variable=budget<br>value=%{text}<br>count=%{y}\",\"name\":\"budget\",\"text\":[\"[0.0, 7600000.0)\",\"[7600000.0, 15200000.0)\",\"[15200000.0, 22800000.0)\",\"[22800000.0, 30400000.0)\",\"[30400000.0, 38000000.0)\",\"[38000000.0, 45600000.0)\",\"[45600000.0, 53200000.0)\",\"[53200000.0, 60800000.0)\",\"[60800000.0, 68400000.0)\",\"[68400000.0, 76000000.0)\",\"[76000000.0, 83600000.0)\",\"[83600000.0, 91200000.0)\",\"[91200000.0, 98800000.0)\",\"[98800000.0, 106400000.0)\",\"[106400000.0, 114000000.0)\",\"[114000000.0, 121600000.0)\",\"[121600000.0, 129200000.0)\",\"[129200000.0, 136800000.0)\",\"[136800000.0, 144400000.0)\",\"[144400000.0, 152000000.0)\",\"[152000000.0, 159600000.0)\",\"[159600000.0, 167200000.0)\",\"[167200000.0, 174800000.0)\",\"[174800000.0, 182400000.0)\",\"[182400000.0, 190000000.0)\",\"[190000000.0, 197600000.0)\",\"[197600000.0, 205200000.0)\",\"[205200000.0, 212800000.0)\",\"[212800000.0, 220400000.0)\",\"[220400000.0, 228000000.0)\",\"[228000000.0, 235600000.0)\",\"[235600000.0, 243200000.0)\",\"[243200000.0, 250800000.0)\",\"[250800000.0, 258400000.0)\",\"[258400000.0, 266000000.0)\",\"[266000000.0, 273600000.0)\",\"[273600000.0, 281200000.0)\",\"[281200000.0, 288800000.0)\",\"[288800000.0, 296400000.0)\",\"[296400000.0, 304000000.0)\",\"[304000000.0, 311600000.0)\",\"[311600000.0, 319200000.0)\",\"[319200000.0, 326800000.0)\",\"[326800000.0, 334400000.0)\",\"[334400000.0, 342000000.0)\",\"[342000000.0, 349600000.0)\",\"[349600000.0, 357200000.0)\",\"[357200000.0, 364800000.0)\",\"[364800000.0, 372400000.0)\",\"[372400000.0, 380000000.0]\"],\"x\":[3800000.0,11400000.0,19000000.0,26600000.0,34200000.0,41800000.0,49400000.0,57000000.0,64600000.0,72200000.0,79800000.0,87400000.0,95000000.0,102600000.0,110200000.0,117800000.0,125400000.0,133000000.0,140600000.0,148200000.0,155800000.0,163400000.0,171000000.0,178600000.0,186200000.0,193800000.0,201400000.0,209000000.0,216600000.0,224200000.0,231800000.0,239400000.0,247000000.0,254600000.0,262200000.0,269800000.0,277400000.0,285000000.0,292600000.0,300200000.0,307800000.0,315400000.0,323000000.0,330600000.0,338200000.0,345800000.0,353400000.0,361000000.0,368600000.0,376200000.0],\"y\":[40854.0,1397.0,719.0,663.0,285.0,328.0,199.0,200.0,89.0,142.0,91.0,86.0,28.0,68.0,29.0,30.0,23.0,33.0,19.0,57.0,4.0,21.0,9.0,23.0,5.0,6.0,23.0,4.0,2.0,3.0,1.0,1.0,12.0,2.0,3.0,1.0,1.0,0.0,0.0,1.0,0.0,0.0,0.0,0.0,0.0,0.0,0.0,0.0,0.0,1.0],\"type\":\"bar\"}],                        {\"barmode\":\"stack\",\"template\":{\"data\":{\"bar\":[{\"error_x\":{\"color\":\"#2a3f5f\"},\"error_y\":{\"color\":\"#2a3f5f\"},\"marker\":{\"line\":{\"color\":\"#E5ECF6\",\"width\":0.5},\"pattern\":{\"fillmode\":\"overlay\",\"size\":10,\"solidity\":0.2}},\"type\":\"bar\"}],\"barpolar\":[{\"marker\":{\"line\":{\"color\":\"#E5ECF6\",\"width\":0.5},\"pattern\":{\"fillmode\":\"overlay\",\"size\":10,\"solidity\":0.2}},\"type\":\"barpolar\"}],\"carpet\":[{\"aaxis\":{\"endlinecolor\":\"#2a3f5f\",\"gridcolor\":\"white\",\"linecolor\":\"white\",\"minorgridcolor\":\"white\",\"startlinecolor\":\"#2a3f5f\"},\"baxis\":{\"endlinecolor\":\"#2a3f5f\",\"gridcolor\":\"white\",\"linecolor\":\"white\",\"minorgridcolor\":\"white\",\"startlinecolor\":\"#2a3f5f\"},\"type\":\"carpet\"}],\"choropleth\":[{\"colorbar\":{\"outlinewidth\":0,\"ticks\":\"\"},\"type\":\"choropleth\"}],\"contour\":[{\"colorbar\":{\"outlinewidth\":0,\"ticks\":\"\"},\"colorscale\":[[0.0,\"#0d0887\"],[0.1111111111111111,\"#46039f\"],[0.2222222222222222,\"#7201a8\"],[0.3333333333333333,\"#9c179e\"],[0.4444444444444444,\"#bd3786\"],[0.5555555555555556,\"#d8576b\"],[0.6666666666666666,\"#ed7953\"],[0.7777777777777778,\"#fb9f3a\"],[0.8888888888888888,\"#fdca26\"],[1.0,\"#f0f921\"]],\"type\":\"contour\"}],\"contourcarpet\":[{\"colorbar\":{\"outlinewidth\":0,\"ticks\":\"\"},\"type\":\"contourcarpet\"}],\"heatmap\":[{\"colorbar\":{\"outlinewidth\":0,\"ticks\":\"\"},\"colorscale\":[[0.0,\"#0d0887\"],[0.1111111111111111,\"#46039f\"],[0.2222222222222222,\"#7201a8\"],[0.3333333333333333,\"#9c179e\"],[0.4444444444444444,\"#bd3786\"],[0.5555555555555556,\"#d8576b\"],[0.6666666666666666,\"#ed7953\"],[0.7777777777777778,\"#fb9f3a\"],[0.8888888888888888,\"#fdca26\"],[1.0,\"#f0f921\"]],\"type\":\"heatmap\"}],\"heatmapgl\":[{\"colorbar\":{\"outlinewidth\":0,\"ticks\":\"\"},\"colorscale\":[[0.0,\"#0d0887\"],[0.1111111111111111,\"#46039f\"],[0.2222222222222222,\"#7201a8\"],[0.3333333333333333,\"#9c179e\"],[0.4444444444444444,\"#bd3786\"],[0.5555555555555556,\"#d8576b\"],[0.6666666666666666,\"#ed7953\"],[0.7777777777777778,\"#fb9f3a\"],[0.8888888888888888,\"#fdca26\"],[1.0,\"#f0f921\"]],\"type\":\"heatmapgl\"}],\"histogram\":[{\"marker\":{\"pattern\":{\"fillmode\":\"overlay\",\"size\":10,\"solidity\":0.2}},\"type\":\"histogram\"}],\"histogram2d\":[{\"colorbar\":{\"outlinewidth\":0,\"ticks\":\"\"},\"colorscale\":[[0.0,\"#0d0887\"],[0.1111111111111111,\"#46039f\"],[0.2222222222222222,\"#7201a8\"],[0.3333333333333333,\"#9c179e\"],[0.4444444444444444,\"#bd3786\"],[0.5555555555555556,\"#d8576b\"],[0.6666666666666666,\"#ed7953\"],[0.7777777777777778,\"#fb9f3a\"],[0.8888888888888888,\"#fdca26\"],[1.0,\"#f0f921\"]],\"type\":\"histogram2d\"}],\"histogram2dcontour\":[{\"colorbar\":{\"outlinewidth\":0,\"ticks\":\"\"},\"colorscale\":[[0.0,\"#0d0887\"],[0.1111111111111111,\"#46039f\"],[0.2222222222222222,\"#7201a8\"],[0.3333333333333333,\"#9c179e\"],[0.4444444444444444,\"#bd3786\"],[0.5555555555555556,\"#d8576b\"],[0.6666666666666666,\"#ed7953\"],[0.7777777777777778,\"#fb9f3a\"],[0.8888888888888888,\"#fdca26\"],[1.0,\"#f0f921\"]],\"type\":\"histogram2dcontour\"}],\"mesh3d\":[{\"colorbar\":{\"outlinewidth\":0,\"ticks\":\"\"},\"type\":\"mesh3d\"}],\"parcoords\":[{\"line\":{\"colorbar\":{\"outlinewidth\":0,\"ticks\":\"\"}},\"type\":\"parcoords\"}],\"pie\":[{\"automargin\":true,\"type\":\"pie\"}],\"scatter\":[{\"marker\":{\"colorbar\":{\"outlinewidth\":0,\"ticks\":\"\"}},\"type\":\"scatter\"}],\"scatter3d\":[{\"line\":{\"colorbar\":{\"outlinewidth\":0,\"ticks\":\"\"}},\"marker\":{\"colorbar\":{\"outlinewidth\":0,\"ticks\":\"\"}},\"type\":\"scatter3d\"}],\"scattercarpet\":[{\"marker\":{\"colorbar\":{\"outlinewidth\":0,\"ticks\":\"\"}},\"type\":\"scattercarpet\"}],\"scattergeo\":[{\"marker\":{\"colorbar\":{\"outlinewidth\":0,\"ticks\":\"\"}},\"type\":\"scattergeo\"}],\"scattergl\":[{\"marker\":{\"colorbar\":{\"outlinewidth\":0,\"ticks\":\"\"}},\"type\":\"scattergl\"}],\"scattermapbox\":[{\"marker\":{\"colorbar\":{\"outlinewidth\":0,\"ticks\":\"\"}},\"type\":\"scattermapbox\"}],\"scatterpolar\":[{\"marker\":{\"colorbar\":{\"outlinewidth\":0,\"ticks\":\"\"}},\"type\":\"scatterpolar\"}],\"scatterpolargl\":[{\"marker\":{\"colorbar\":{\"outlinewidth\":0,\"ticks\":\"\"}},\"type\":\"scatterpolargl\"}],\"scatterternary\":[{\"marker\":{\"colorbar\":{\"outlinewidth\":0,\"ticks\":\"\"}},\"type\":\"scatterternary\"}],\"surface\":[{\"colorbar\":{\"outlinewidth\":0,\"ticks\":\"\"},\"colorscale\":[[0.0,\"#0d0887\"],[0.1111111111111111,\"#46039f\"],[0.2222222222222222,\"#7201a8\"],[0.3333333333333333,\"#9c179e\"],[0.4444444444444444,\"#bd3786\"],[0.5555555555555556,\"#d8576b\"],[0.6666666666666666,\"#ed7953\"],[0.7777777777777778,\"#fb9f3a\"],[0.8888888888888888,\"#fdca26\"],[1.0,\"#f0f921\"]],\"type\":\"surface\"}],\"table\":[{\"cells\":{\"fill\":{\"color\":\"#EBF0F8\"},\"line\":{\"color\":\"white\"}},\"header\":{\"fill\":{\"color\":\"#C8D4E3\"},\"line\":{\"color\":\"white\"}},\"type\":\"table\"}]},\"layout\":{\"annotationdefaults\":{\"arrowcolor\":\"#2a3f5f\",\"arrowhead\":0,\"arrowwidth\":1},\"autotypenumbers\":\"strict\",\"coloraxis\":{\"colorbar\":{\"outlinewidth\":0,\"ticks\":\"\"}},\"colorscale\":{\"diverging\":[[0,\"#8e0152\"],[0.1,\"#c51b7d\"],[0.2,\"#de77ae\"],[0.3,\"#f1b6da\"],[0.4,\"#fde0ef\"],[0.5,\"#f7f7f7\"],[0.6,\"#e6f5d0\"],[0.7,\"#b8e186\"],[0.8,\"#7fbc41\"],[0.9,\"#4d9221\"],[1,\"#276419\"]],\"sequential\":[[0.0,\"#0d0887\"],[0.1111111111111111,\"#46039f\"],[0.2222222222222222,\"#7201a8\"],[0.3333333333333333,\"#9c179e\"],[0.4444444444444444,\"#bd3786\"],[0.5555555555555556,\"#d8576b\"],[0.6666666666666666,\"#ed7953\"],[0.7777777777777778,\"#fb9f3a\"],[0.8888888888888888,\"#fdca26\"],[1.0,\"#f0f921\"]],\"sequentialminus\":[[0.0,\"#0d0887\"],[0.1111111111111111,\"#46039f\"],[0.2222222222222222,\"#7201a8\"],[0.3333333333333333,\"#9c179e\"],[0.4444444444444444,\"#bd3786\"],[0.5555555555555556,\"#d8576b\"],[0.6666666666666666,\"#ed7953\"],[0.7777777777777778,\"#fb9f3a\"],[0.8888888888888888,\"#fdca26\"],[1.0,\"#f0f921\"]]},\"colorway\":[\"#636efa\",\"#EF553B\",\"#00cc96\",\"#ab63fa\",\"#FFA15A\",\"#19d3f3\",\"#FF6692\",\"#B6E880\",\"#FF97FF\",\"#FECB52\"],\"font\":{\"color\":\"#2a3f5f\"},\"geo\":{\"bgcolor\":\"white\",\"lakecolor\":\"white\",\"landcolor\":\"#E5ECF6\",\"showlakes\":true,\"showland\":true,\"subunitcolor\":\"white\"},\"hoverlabel\":{\"align\":\"left\"},\"hovermode\":\"closest\",\"mapbox\":{\"style\":\"light\"},\"paper_bgcolor\":\"white\",\"plot_bgcolor\":\"#E5ECF6\",\"polar\":{\"angularaxis\":{\"gridcolor\":\"white\",\"linecolor\":\"white\",\"ticks\":\"\"},\"bgcolor\":\"#E5ECF6\",\"radialaxis\":{\"gridcolor\":\"white\",\"linecolor\":\"white\",\"ticks\":\"\"}},\"scene\":{\"xaxis\":{\"backgroundcolor\":\"#E5ECF6\",\"gridcolor\":\"white\",\"gridwidth\":2,\"linecolor\":\"white\",\"showbackground\":true,\"ticks\":\"\",\"zerolinecolor\":\"white\"},\"yaxis\":{\"backgroundcolor\":\"#E5ECF6\",\"gridcolor\":\"white\",\"gridwidth\":2,\"linecolor\":\"white\",\"showbackground\":true,\"ticks\":\"\",\"zerolinecolor\":\"white\"},\"zaxis\":{\"backgroundcolor\":\"#E5ECF6\",\"gridcolor\":\"white\",\"gridwidth\":2,\"linecolor\":\"white\",\"showbackground\":true,\"ticks\":\"\",\"zerolinecolor\":\"white\"}},\"shapedefaults\":{\"line\":{\"color\":\"#2a3f5f\"}},\"ternary\":{\"aaxis\":{\"gridcolor\":\"white\",\"linecolor\":\"white\",\"ticks\":\"\"},\"baxis\":{\"gridcolor\":\"white\",\"linecolor\":\"white\",\"ticks\":\"\"},\"bgcolor\":\"#E5ECF6\",\"caxis\":{\"gridcolor\":\"white\",\"linecolor\":\"white\",\"ticks\":\"\"}},\"title\":{\"x\":0.05},\"xaxis\":{\"automargin\":true,\"gridcolor\":\"white\",\"linecolor\":\"white\",\"ticks\":\"\",\"title\":{\"standoff\":15},\"zerolinecolor\":\"white\",\"zerolinewidth\":2},\"yaxis\":{\"automargin\":true,\"gridcolor\":\"white\",\"linecolor\":\"white\",\"ticks\":\"\",\"title\":{\"standoff\":15},\"zerolinecolor\":\"white\",\"zerolinewidth\":2}}},\"xaxis\":{\"title\":{\"text\":\"value\"}},\"yaxis\":{\"title\":{\"text\":\"count\"}}},                        {\"responsive\": true}                    ).then(function(){\n",
              "                            \n",
              "var gd = document.getElementById('8a38a489-1a8d-481f-b517-21353a3c7fff');\n",
              "var x = new MutationObserver(function (mutations, observer) {{\n",
              "        var display = window.getComputedStyle(gd).display;\n",
              "        if (!display || display === 'none') {{\n",
              "            console.log([gd, 'removed!']);\n",
              "            Plotly.purge(gd);\n",
              "            observer.disconnect();\n",
              "        }}\n",
              "}});\n",
              "\n",
              "// Listen for the removal of the full notebook cells\n",
              "var notebookContainer = gd.closest('#notebook-container');\n",
              "if (notebookContainer) {{\n",
              "    x.observe(notebookContainer, {childList: true});\n",
              "}}\n",
              "\n",
              "// Listen for the clearing of the current output cell\n",
              "var outputEl = gd.closest('.output');\n",
              "if (outputEl) {{\n",
              "    x.observe(outputEl, {childList: true});\n",
              "}}\n",
              "\n",
              "                        })                };                            </script>        </div>\n",
              "</body>\n",
              "</html>"
            ]
          },
          "metadata": {}
        }
      ]
    },
    {
      "cell_type": "code",
      "source": [
        "# plot runtime distribution\n",
        "metadata_koa['runtime'] = metadata_koa['runtime'].astype('float32')\n",
        "metadata_koa['runtime'].hist(bins=50)"
      ],
      "metadata": {
        "colab": {
          "base_uri": "https://localhost:8080/",
          "height": 542
        },
        "id": "KN1HQpeRlTYY",
        "outputId": "c7143e9a-6381-4525-86cb-af8fca0cc5df"
      },
      "id": "KN1HQpeRlTYY",
      "execution_count": 406,
      "outputs": [
        {
          "output_type": "display_data",
          "data": {
            "text/html": [
              "<html>\n",
              "<head><meta charset=\"utf-8\" /></head>\n",
              "<body>\n",
              "    <div>            <script src=\"https://cdnjs.cloudflare.com/ajax/libs/mathjax/2.7.5/MathJax.js?config=TeX-AMS-MML_SVG\"></script><script type=\"text/javascript\">if (window.MathJax) {MathJax.Hub.Config({SVG: {font: \"STIX-Web\"}});}</script>                <script type=\"text/javascript\">window.PlotlyConfig = {MathJaxConfig: 'local'};</script>\n",
              "        <script src=\"https://cdn.plot.ly/plotly-2.8.3.min.js\"></script>                <div id=\"cd53ab54-d934-4e13-b9b9-874552a9e1a2\" class=\"plotly-graph-div\" style=\"height:525px; width:100%;\"></div>            <script type=\"text/javascript\">                                    window.PLOTLYENV=window.PLOTLYENV || {};                                    if (document.getElementById(\"cd53ab54-d934-4e13-b9b9-874552a9e1a2\")) {                    Plotly.newPlot(                        \"cd53ab54-d934-4e13-b9b9-874552a9e1a2\",                        [{\"hovertemplate\":\"variable=runtime<br>value=%{text}<br>count=%{y}\",\"name\":\"runtime\",\"text\":[\"[0.0, 25.12)\",\"[25.12, 50.24)\",\"[50.24, 75.36)\",\"[75.36, 100.48)\",\"[100.48, 125.6)\",\"[125.6, 150.72)\",\"[150.72, 175.84)\",\"[175.84, 200.96)\",\"[200.96, 226.08)\",\"[226.08, 251.2)\",\"[251.2, 276.32)\",\"[276.32, 301.44)\",\"[301.44, 326.56)\",\"[326.56, 351.68)\",\"[351.68, 376.8)\",\"[376.8, 401.92)\",\"[401.92, 427.04)\",\"[427.04, 452.16)\",\"[452.16, 477.28)\",\"[477.28, 502.4)\",\"[502.4, 527.52)\",\"[527.52, 552.64)\",\"[552.64, 577.76)\",\"[577.76, 602.88)\",\"[602.88, 628.0)\",\"[628.0, 653.12)\",\"[653.12, 678.24)\",\"[678.24, 703.36)\",\"[703.36, 728.48)\",\"[728.48, 753.6)\",\"[753.6, 778.72)\",\"[778.72, 803.84)\",\"[803.84, 828.96)\",\"[828.96, 854.08)\",\"[854.08, 879.2)\",\"[879.2, 904.32)\",\"[904.32, 929.44)\",\"[929.44, 954.56)\",\"[954.56, 979.68)\",\"[979.68, 1004.8)\",\"[1004.8, 1029.92)\",\"[1029.92, 1055.04)\",\"[1055.04, 1080.16)\",\"[1080.16, 1105.28)\",\"[1105.28, 1130.4)\",\"[1130.4, 1155.52)\",\"[1155.52, 1180.64)\",\"[1180.64, 1205.76)\",\"[1205.76, 1230.88)\",\"[1230.88, 1256.0]\"],\"x\":[12.56,37.68,62.8,87.92,113.04,138.16,163.28,188.4,213.52,238.64000000000001,263.76,288.88,314.0,339.12,364.24,389.36,414.48,439.6,464.72,489.84000000000003,514.96,540.0799999999999,565.2,590.3199999999999,615.44,640.56,665.6800000000001,690.8,715.9200000000001,741.04,766.1600000000001,791.28,816.4000000000001,841.52,866.6400000000001,891.76,916.8800000000001,942.0,967.1200000000001,992.24,1017.3600000000001,1042.48,1067.6,1092.72,1117.8400000000001,1142.96,1168.08,1193.2,1218.3200000000002,1243.44],\"y\":[2741.0,691.0,3032.0,22780.0,12062.0,2503.0,731.0,324.0,89.0,72.0,40.0,30.0,12.0,11.0,22.0,13.0,3.0,8.0,5.0,5.0,1.0,6.0,2.0,4.0,0.0,1.0,1.0,1.0,2.0,0.0,0.0,1.0,0.0,2.0,2.0,1.0,1.0,1.0,0.0,0.0,0.0,0.0,0.0,0.0,0.0,2.0,0.0,0.0,0.0,1.0],\"type\":\"bar\"}],                        {\"barmode\":\"stack\",\"template\":{\"data\":{\"bar\":[{\"error_x\":{\"color\":\"#2a3f5f\"},\"error_y\":{\"color\":\"#2a3f5f\"},\"marker\":{\"line\":{\"color\":\"#E5ECF6\",\"width\":0.5},\"pattern\":{\"fillmode\":\"overlay\",\"size\":10,\"solidity\":0.2}},\"type\":\"bar\"}],\"barpolar\":[{\"marker\":{\"line\":{\"color\":\"#E5ECF6\",\"width\":0.5},\"pattern\":{\"fillmode\":\"overlay\",\"size\":10,\"solidity\":0.2}},\"type\":\"barpolar\"}],\"carpet\":[{\"aaxis\":{\"endlinecolor\":\"#2a3f5f\",\"gridcolor\":\"white\",\"linecolor\":\"white\",\"minorgridcolor\":\"white\",\"startlinecolor\":\"#2a3f5f\"},\"baxis\":{\"endlinecolor\":\"#2a3f5f\",\"gridcolor\":\"white\",\"linecolor\":\"white\",\"minorgridcolor\":\"white\",\"startlinecolor\":\"#2a3f5f\"},\"type\":\"carpet\"}],\"choropleth\":[{\"colorbar\":{\"outlinewidth\":0,\"ticks\":\"\"},\"type\":\"choropleth\"}],\"contour\":[{\"colorbar\":{\"outlinewidth\":0,\"ticks\":\"\"},\"colorscale\":[[0.0,\"#0d0887\"],[0.1111111111111111,\"#46039f\"],[0.2222222222222222,\"#7201a8\"],[0.3333333333333333,\"#9c179e\"],[0.4444444444444444,\"#bd3786\"],[0.5555555555555556,\"#d8576b\"],[0.6666666666666666,\"#ed7953\"],[0.7777777777777778,\"#fb9f3a\"],[0.8888888888888888,\"#fdca26\"],[1.0,\"#f0f921\"]],\"type\":\"contour\"}],\"contourcarpet\":[{\"colorbar\":{\"outlinewidth\":0,\"ticks\":\"\"},\"type\":\"contourcarpet\"}],\"heatmap\":[{\"colorbar\":{\"outlinewidth\":0,\"ticks\":\"\"},\"colorscale\":[[0.0,\"#0d0887\"],[0.1111111111111111,\"#46039f\"],[0.2222222222222222,\"#7201a8\"],[0.3333333333333333,\"#9c179e\"],[0.4444444444444444,\"#bd3786\"],[0.5555555555555556,\"#d8576b\"],[0.6666666666666666,\"#ed7953\"],[0.7777777777777778,\"#fb9f3a\"],[0.8888888888888888,\"#fdca26\"],[1.0,\"#f0f921\"]],\"type\":\"heatmap\"}],\"heatmapgl\":[{\"colorbar\":{\"outlinewidth\":0,\"ticks\":\"\"},\"colorscale\":[[0.0,\"#0d0887\"],[0.1111111111111111,\"#46039f\"],[0.2222222222222222,\"#7201a8\"],[0.3333333333333333,\"#9c179e\"],[0.4444444444444444,\"#bd3786\"],[0.5555555555555556,\"#d8576b\"],[0.6666666666666666,\"#ed7953\"],[0.7777777777777778,\"#fb9f3a\"],[0.8888888888888888,\"#fdca26\"],[1.0,\"#f0f921\"]],\"type\":\"heatmapgl\"}],\"histogram\":[{\"marker\":{\"pattern\":{\"fillmode\":\"overlay\",\"size\":10,\"solidity\":0.2}},\"type\":\"histogram\"}],\"histogram2d\":[{\"colorbar\":{\"outlinewidth\":0,\"ticks\":\"\"},\"colorscale\":[[0.0,\"#0d0887\"],[0.1111111111111111,\"#46039f\"],[0.2222222222222222,\"#7201a8\"],[0.3333333333333333,\"#9c179e\"],[0.4444444444444444,\"#bd3786\"],[0.5555555555555556,\"#d8576b\"],[0.6666666666666666,\"#ed7953\"],[0.7777777777777778,\"#fb9f3a\"],[0.8888888888888888,\"#fdca26\"],[1.0,\"#f0f921\"]],\"type\":\"histogram2d\"}],\"histogram2dcontour\":[{\"colorbar\":{\"outlinewidth\":0,\"ticks\":\"\"},\"colorscale\":[[0.0,\"#0d0887\"],[0.1111111111111111,\"#46039f\"],[0.2222222222222222,\"#7201a8\"],[0.3333333333333333,\"#9c179e\"],[0.4444444444444444,\"#bd3786\"],[0.5555555555555556,\"#d8576b\"],[0.6666666666666666,\"#ed7953\"],[0.7777777777777778,\"#fb9f3a\"],[0.8888888888888888,\"#fdca26\"],[1.0,\"#f0f921\"]],\"type\":\"histogram2dcontour\"}],\"mesh3d\":[{\"colorbar\":{\"outlinewidth\":0,\"ticks\":\"\"},\"type\":\"mesh3d\"}],\"parcoords\":[{\"line\":{\"colorbar\":{\"outlinewidth\":0,\"ticks\":\"\"}},\"type\":\"parcoords\"}],\"pie\":[{\"automargin\":true,\"type\":\"pie\"}],\"scatter\":[{\"marker\":{\"colorbar\":{\"outlinewidth\":0,\"ticks\":\"\"}},\"type\":\"scatter\"}],\"scatter3d\":[{\"line\":{\"colorbar\":{\"outlinewidth\":0,\"ticks\":\"\"}},\"marker\":{\"colorbar\":{\"outlinewidth\":0,\"ticks\":\"\"}},\"type\":\"scatter3d\"}],\"scattercarpet\":[{\"marker\":{\"colorbar\":{\"outlinewidth\":0,\"ticks\":\"\"}},\"type\":\"scattercarpet\"}],\"scattergeo\":[{\"marker\":{\"colorbar\":{\"outlinewidth\":0,\"ticks\":\"\"}},\"type\":\"scattergeo\"}],\"scattergl\":[{\"marker\":{\"colorbar\":{\"outlinewidth\":0,\"ticks\":\"\"}},\"type\":\"scattergl\"}],\"scattermapbox\":[{\"marker\":{\"colorbar\":{\"outlinewidth\":0,\"ticks\":\"\"}},\"type\":\"scattermapbox\"}],\"scatterpolar\":[{\"marker\":{\"colorbar\":{\"outlinewidth\":0,\"ticks\":\"\"}},\"type\":\"scatterpolar\"}],\"scatterpolargl\":[{\"marker\":{\"colorbar\":{\"outlinewidth\":0,\"ticks\":\"\"}},\"type\":\"scatterpolargl\"}],\"scatterternary\":[{\"marker\":{\"colorbar\":{\"outlinewidth\":0,\"ticks\":\"\"}},\"type\":\"scatterternary\"}],\"surface\":[{\"colorbar\":{\"outlinewidth\":0,\"ticks\":\"\"},\"colorscale\":[[0.0,\"#0d0887\"],[0.1111111111111111,\"#46039f\"],[0.2222222222222222,\"#7201a8\"],[0.3333333333333333,\"#9c179e\"],[0.4444444444444444,\"#bd3786\"],[0.5555555555555556,\"#d8576b\"],[0.6666666666666666,\"#ed7953\"],[0.7777777777777778,\"#fb9f3a\"],[0.8888888888888888,\"#fdca26\"],[1.0,\"#f0f921\"]],\"type\":\"surface\"}],\"table\":[{\"cells\":{\"fill\":{\"color\":\"#EBF0F8\"},\"line\":{\"color\":\"white\"}},\"header\":{\"fill\":{\"color\":\"#C8D4E3\"},\"line\":{\"color\":\"white\"}},\"type\":\"table\"}]},\"layout\":{\"annotationdefaults\":{\"arrowcolor\":\"#2a3f5f\",\"arrowhead\":0,\"arrowwidth\":1},\"autotypenumbers\":\"strict\",\"coloraxis\":{\"colorbar\":{\"outlinewidth\":0,\"ticks\":\"\"}},\"colorscale\":{\"diverging\":[[0,\"#8e0152\"],[0.1,\"#c51b7d\"],[0.2,\"#de77ae\"],[0.3,\"#f1b6da\"],[0.4,\"#fde0ef\"],[0.5,\"#f7f7f7\"],[0.6,\"#e6f5d0\"],[0.7,\"#b8e186\"],[0.8,\"#7fbc41\"],[0.9,\"#4d9221\"],[1,\"#276419\"]],\"sequential\":[[0.0,\"#0d0887\"],[0.1111111111111111,\"#46039f\"],[0.2222222222222222,\"#7201a8\"],[0.3333333333333333,\"#9c179e\"],[0.4444444444444444,\"#bd3786\"],[0.5555555555555556,\"#d8576b\"],[0.6666666666666666,\"#ed7953\"],[0.7777777777777778,\"#fb9f3a\"],[0.8888888888888888,\"#fdca26\"],[1.0,\"#f0f921\"]],\"sequentialminus\":[[0.0,\"#0d0887\"],[0.1111111111111111,\"#46039f\"],[0.2222222222222222,\"#7201a8\"],[0.3333333333333333,\"#9c179e\"],[0.4444444444444444,\"#bd3786\"],[0.5555555555555556,\"#d8576b\"],[0.6666666666666666,\"#ed7953\"],[0.7777777777777778,\"#fb9f3a\"],[0.8888888888888888,\"#fdca26\"],[1.0,\"#f0f921\"]]},\"colorway\":[\"#636efa\",\"#EF553B\",\"#00cc96\",\"#ab63fa\",\"#FFA15A\",\"#19d3f3\",\"#FF6692\",\"#B6E880\",\"#FF97FF\",\"#FECB52\"],\"font\":{\"color\":\"#2a3f5f\"},\"geo\":{\"bgcolor\":\"white\",\"lakecolor\":\"white\",\"landcolor\":\"#E5ECF6\",\"showlakes\":true,\"showland\":true,\"subunitcolor\":\"white\"},\"hoverlabel\":{\"align\":\"left\"},\"hovermode\":\"closest\",\"mapbox\":{\"style\":\"light\"},\"paper_bgcolor\":\"white\",\"plot_bgcolor\":\"#E5ECF6\",\"polar\":{\"angularaxis\":{\"gridcolor\":\"white\",\"linecolor\":\"white\",\"ticks\":\"\"},\"bgcolor\":\"#E5ECF6\",\"radialaxis\":{\"gridcolor\":\"white\",\"linecolor\":\"white\",\"ticks\":\"\"}},\"scene\":{\"xaxis\":{\"backgroundcolor\":\"#E5ECF6\",\"gridcolor\":\"white\",\"gridwidth\":2,\"linecolor\":\"white\",\"showbackground\":true,\"ticks\":\"\",\"zerolinecolor\":\"white\"},\"yaxis\":{\"backgroundcolor\":\"#E5ECF6\",\"gridcolor\":\"white\",\"gridwidth\":2,\"linecolor\":\"white\",\"showbackground\":true,\"ticks\":\"\",\"zerolinecolor\":\"white\"},\"zaxis\":{\"backgroundcolor\":\"#E5ECF6\",\"gridcolor\":\"white\",\"gridwidth\":2,\"linecolor\":\"white\",\"showbackground\":true,\"ticks\":\"\",\"zerolinecolor\":\"white\"}},\"shapedefaults\":{\"line\":{\"color\":\"#2a3f5f\"}},\"ternary\":{\"aaxis\":{\"gridcolor\":\"white\",\"linecolor\":\"white\",\"ticks\":\"\"},\"baxis\":{\"gridcolor\":\"white\",\"linecolor\":\"white\",\"ticks\":\"\"},\"bgcolor\":\"#E5ECF6\",\"caxis\":{\"gridcolor\":\"white\",\"linecolor\":\"white\",\"ticks\":\"\"}},\"title\":{\"x\":0.05},\"xaxis\":{\"automargin\":true,\"gridcolor\":\"white\",\"linecolor\":\"white\",\"ticks\":\"\",\"title\":{\"standoff\":15},\"zerolinecolor\":\"white\",\"zerolinewidth\":2},\"yaxis\":{\"automargin\":true,\"gridcolor\":\"white\",\"linecolor\":\"white\",\"ticks\":\"\",\"title\":{\"standoff\":15},\"zerolinecolor\":\"white\",\"zerolinewidth\":2}}},\"xaxis\":{\"title\":{\"text\":\"value\"}},\"yaxis\":{\"title\":{\"text\":\"count\"}}},                        {\"responsive\": true}                    ).then(function(){\n",
              "                            \n",
              "var gd = document.getElementById('cd53ab54-d934-4e13-b9b9-874552a9e1a2');\n",
              "var x = new MutationObserver(function (mutations, observer) {{\n",
              "        var display = window.getComputedStyle(gd).display;\n",
              "        if (!display || display === 'none') {{\n",
              "            console.log([gd, 'removed!']);\n",
              "            Plotly.purge(gd);\n",
              "            observer.disconnect();\n",
              "        }}\n",
              "}});\n",
              "\n",
              "// Listen for the removal of the full notebook cells\n",
              "var notebookContainer = gd.closest('#notebook-container');\n",
              "if (notebookContainer) {{\n",
              "    x.observe(notebookContainer, {childList: true});\n",
              "}}\n",
              "\n",
              "// Listen for the clearing of the current output cell\n",
              "var outputEl = gd.closest('.output');\n",
              "if (outputEl) {{\n",
              "    x.observe(outputEl, {childList: true});\n",
              "}}\n",
              "\n",
              "                        })                };                            </script>        </div>\n",
              "</body>\n",
              "</html>"
            ]
          },
          "metadata": {}
        }
      ]
    }
  ],
  "metadata": {
    "colab": {
      "provenance": []
    },
    "kernelspec": {
      "display_name": "Python 3",
      "language": "python",
      "name": "python3"
    },
    "language_info": {
      "codemirror_mode": {
        "name": "ipython",
        "version": 3
      },
      "file_extension": ".py",
      "mimetype": "text/x-python",
      "name": "python",
      "nbconvert_exporter": "python",
      "pygments_lexer": "ipython3",
      "version": "3.7.10"
    },
    "papermill": {
      "default_parameters": {},
      "duration": 305.035492,
      "end_time": "2021-11-18T11:30:59.289957",
      "environment_variables": {},
      "exception": null,
      "input_path": "__notebook__.ipynb",
      "output_path": "__notebook__.ipynb",
      "parameters": {},
      "start_time": "2021-11-18T11:25:54.254465",
      "version": "2.3.3"
    }
  },
  "nbformat": 4,
  "nbformat_minor": 5
}