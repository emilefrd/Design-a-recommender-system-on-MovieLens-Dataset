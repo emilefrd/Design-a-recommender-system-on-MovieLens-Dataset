{
  "nbformat": 4,
  "nbformat_minor": 0,
  "metadata": {
    "colab": {
      "provenance": []
    },
    "kernelspec": {
      "name": "python3",
      "display_name": "Python 3"
    },
    "language_info": {
      "name": "python"
    }
  },
  "cells": [
    {
      "cell_type": "markdown",
      "source": [
        "\n",
        "# Question 2. Build regression models to predict movie revenue and vote averages."
      ],
      "metadata": {
        "id": "FAcfPv-D8Uwt"
      }
    },
    {
      "cell_type": "code",
      "execution_count": null,
      "metadata": {
        "colab": {
          "base_uri": "https://localhost:8080/",
          "height": 36
        },
        "id": "gcjE8FrP7bm_",
        "outputId": "0be3de0a-6286-462a-d8be-7388e6ba47e1"
      },
      "outputs": [
        {
          "output_type": "execute_result",
          "data": {
            "text/plain": [
              "'3.0.0'"
            ],
            "application/vnd.google.colaboratory.intrinsic+json": {
              "type": "string"
            }
          },
          "metadata": {},
          "execution_count": 1
        }
      ],
      "source": [
        "#get java and spark\n",
        "!apt-get install openjdk-8-jdk-headless -qq > /dev/null\n",
        "!wget\t-q\thttps://archive.apache.org/dist/spark/spark-3.0.0/spark-3.0.0-bin-hadoop3.2.tgz\n",
        "\n",
        "# unzip \n",
        "!tar xf spark-3.0.0-bin-hadoop3.2.tgz\n",
        "\n",
        "# set your spark folder to your system path environment \n",
        "import os\n",
        "\n",
        "os.environ[\"JAVA_HOME\"]\t= \"/usr/lib/jvm/java-8-openjdk-amd64\"\n",
        "os.environ[\"SPARK_HOME\"]\t= \"/content/spark-3.0.0-bin-hadoop3.2\"\n",
        "\n",
        "!pip install -q findspark\n",
        "\n",
        "import findspark \n",
        "findspark.init()\n",
        "\n",
        "from pyspark.sql import SparkSession\n",
        "\n",
        "spark = SparkSession.builder.master(\"local[*]\").getOrCreate()\n",
        "\n",
        "spark.version"
      ]
    },
    {
      "cell_type": "markdown",
      "source": [
        "\n",
        "## Reading the data\n",
        "\n",
        "▶ movies_metadata.csv: The main Movies Metadata file.\n",
        "Contains information on 45,000 movies featured in the Full\n",
        "MovieLens dataset. Features include posters, backdrops,\n",
        "budget, revenue, release dates, languages, production countries\n",
        "and companies.\n",
        "\n",
        "▶ keywords.csv: Contains the movie plot keywords for our\n",
        "MovieLens movies. Available in the form of a stringified JSON\n",
        "Object.\n",
        "\n",
        "▶ credits.csv: Consists of Cast and Crew Information for all our\n",
        "movies. Available in the form of a JSON Object.\n",
        "\n",
        "▶ links.csv: The file that contains the TMDB and IMDB IDs of\n",
        "all the movies featured in the Full MovieLens dataset.\n",
        "\n",
        "▶ ratings.csv: This file contains 26 million ratings from 270,000\n",
        "users for all 45,000 movies. Ratings are on a scale of 1-5 and\n",
        "have been obtained from the official GroupLens website.\n",
        "\n"
      ],
      "metadata": {
        "id": "Vjmxoph68gti"
      }
    },
    {
      "cell_type": "code",
      "source": [
        "# load dfs\n",
        "from google.colab import drive\n",
        "drive.mount('/content/drive');\n",
        "\n",
        "# metadata = spark.read.option(\"header\",\"true\").csv('/content/drive/MyDrive/Colab Notebooks/archive/movies_metadata.csv')\n",
        "# keywords = spark.read.option(\"header\",\"true\").csv('/content/drive/MyDrive/Colab Notebooks/archive/keywords.csv')\n",
        "# credits = spark.read.option(\"header\",\"true\").csv('/content/drive/MyDrive/Colab Notebooks/archive/credits.csv')\n",
        "# links = spark.read.option(\"header\",\"true\").csv('/content/drive/MyDrive/Colab Notebooks/archive/links.csv')\n",
        "# ratings = spark.read.option(\"header\",\"true\").csv('/content/drive/MyDrive/Colab Notebooks/archive/ratings.csv')\n",
        "\n",
        "links=spark.read\\\n",
        ".format(\"com.databricks.spark.csv\")\\\n",
        ".option(\"multiline\",True)\\\n",
        ".option(\"header\",True)\\\n",
        ".option(\"escape\", \"\\\"\")\\\n",
        ".option(\"inferschema\",True)\\\n",
        ".csv(\"/content/drive/MyDrive/Colab Notebooks/archive/links.csv\")\n",
        "\n",
        "keywords=spark.read\\\n",
        ".format(\"com.databricks.spark.csv\")\\\n",
        ".option(\"multiline\",True)\\\n",
        ".option(\"header\",True)\\\n",
        ".option(\"escape\", \"\\\"\")\\\n",
        ".option(\"inferschema\",True)\\\n",
        ".csv(\"/content/drive/MyDrive/Colab Notebooks/archive/keywords.csv\")\n",
        "\n",
        "metadata=spark.read\\\n",
        ".format(\"com.databricks.spark.csv\")\\\n",
        ".option(\"multiline\",True)\\\n",
        ".option(\"header\",True)\\\n",
        ".option(\"escape\", \"\\\"\")\\\n",
        ".option(\"inferschema\",True)\\\n",
        ".csv(\"/content/drive/MyDrive/Colab Notebooks/archive/movies_metadata.csv\")\n",
        "\n",
        "credits=spark.read\\\n",
        ".format(\"com.databricks.spark.csv\")\\\n",
        ".option(\"multiline\",True)\\\n",
        ".option(\"header\",True)\\\n",
        ".option(\"escape\", \"\\\"\")\\\n",
        ".option(\"inferschema\",True)\\\n",
        ".csv(\"/content/drive/MyDrive/Colab Notebooks/archive/credits.csv\")\n",
        "\n",
        "ratings=spark.read\\\n",
        ".format(\"com.databricks.spark.csv\")\\\n",
        ".option(\"multiline\",True)\\\n",
        ".option(\"header\",True)\\\n",
        ".option(\"escape\", \"\\\"\")\\\n",
        ".option(\"inferschema\",True)\\\n",
        ".csv(\"/content/drive/MyDrive/Colab Notebooks/archive/ratings.csv\")\n",
        "\n",
        "# This file will be used for generating recommendation. This is of samller size to help support processing capabilities\n",
        "ratings_sample=spark.read\\\n",
        ".format(\"com.databricks.spark.csv\")\\\n",
        ".option(\"multiline\",True)\\\n",
        ".option(\"header\",True)\\\n",
        ".option(\"escape\", \"\\\"\")\\\n",
        ".option(\"inferschema\",True)\\\n",
        ".csv(\"/content/drive/MyDrive/Colab Notebooks/archive/ratings_small.csv\")"
      ],
      "metadata": {
        "colab": {
          "base_uri": "https://localhost:8080/"
        },
        "id": "XV6a1Hjx7cMr",
        "outputId": "70839337-acf4-407b-d141-e0dc43a6bcf7"
      },
      "execution_count": null,
      "outputs": [
        {
          "output_type": "stream",
          "name": "stdout",
          "text": [
            "Drive already mounted at /content/drive; to attempt to forcibly remount, call drive.mount(\"/content/drive\", force_remount=True).\n"
          ]
        }
      ]
    },
    {
      "cell_type": "markdown",
      "source": [
        ".\n",
        "\n",
        "## Some data cleaning\n",
        "\n",
        "I drop rows with null values in \"production_countries\" and \"genres\" as i think that those columns are mandatory for machine learning."
      ],
      "metadata": {
        "id": "2dktHsECEA20"
      }
    },
    {
      "cell_type": "code",
      "source": [
        "# handling nans\n",
        "\n",
        "print((metadata.count(), len(metadata.columns)))\n",
        "metadata = metadata.na.drop(subset=[\"production_countries\",\"genres\"])\n",
        "print((metadata.count(), len(metadata.columns)))"
      ],
      "metadata": {
        "colab": {
          "base_uri": "https://localhost:8080/"
        },
        "id": "mn8W57c__qDX",
        "outputId": "f2e5d347-ea4a-4c6e-ce5e-fe09d13a020e"
      },
      "execution_count": null,
      "outputs": [
        {
          "output_type": "stream",
          "name": "stdout",
          "text": [
            "(45466, 24)\n",
            "(45463, 24)\n"
          ]
        }
      ]
    },
    {
      "cell_type": "code",
      "source": [
        "from pyspark.sql.functions import col\n",
        "\n",
        "# drop corrupted records mentioned in a kaggle forum conversation\n",
        "\n",
        "metadata=metadata.where(~col('id').isin('82663','162372','215848'))\n",
        "print((metadata.count(), len(metadata.columns)))"
      ],
      "metadata": {
        "colab": {
          "base_uri": "https://localhost:8080/"
        },
        "id": "voG9z1wNDFbA",
        "outputId": "3f4de87f-2bf1-4dd2-8cab-3a3940506c97"
      },
      "execution_count": null,
      "outputs": [
        {
          "output_type": "stream",
          "name": "stdout",
          "text": [
            "(45461, 24)\n"
          ]
        }
      ]
    },
    {
      "cell_type": "code",
      "source": [
        "from pyspark.sql.functions import when, col, isnan, from_json, explode, split, regexp_replace, regexp_extract\n",
        "\n",
        "# formating genres and production_countries columns\n",
        "metadata=metadata.withColumn('genres',when(col('genres')=='[]',\"[{'id': 0, 'name': 'Unknown'}]\").otherwise(col('genres')))\\\n",
        "               .withColumn('production_countries',when(col('production_countries')=='[]',\"[{'iso_3166_1': 'Unknown', 'name': 'Unknown'}]\") \\\n",
        "                           .otherwise(col('production_countries')))\n"
      ],
      "metadata": {
        "id": "SpjPP2mwpUh_"
      },
      "execution_count": null,
      "outputs": []
    },
    {
      "cell_type": "code",
      "source": [
        "# change some data types\n",
        "\n",
        "metadata=metadata.withColumn('budget',col('budget').cast('integer'))\\\n",
        "                               .withColumn('popularity',col('popularity').cast('float'))\\\n",
        "                               .withColumn('revenue',col('revenue').cast('integer'))"
      ],
      "metadata": {
        "id": "BJ0OVFC7D2ep"
      },
      "execution_count": null,
      "outputs": []
    },
    {
      "cell_type": "code",
      "source": [
        "# drop duplicates on imdb_id which should be unique\n",
        "\n",
        "metadata = metadata.drop_duplicates(['imdb_id'])\n",
        "print((metadata.count(), len(metadata.columns)))"
      ],
      "metadata": {
        "colab": {
          "base_uri": "https://localhost:8080/"
        },
        "id": "ibZfzJp3EO4l",
        "outputId": "d7b6775d-b2bf-4c31-9547-f27db20207d9"
      },
      "execution_count": null,
      "outputs": [
        {
          "output_type": "stream",
          "name": "stdout",
          "text": [
            "(45413, 24)\n"
          ]
        }
      ]
    },
    {
      "cell_type": "markdown",
      "source": [
        "\n",
        "## Processing metadata dataframe for machine learning"
      ],
      "metadata": {
        "id": "VYjqZ_Q-MnMa"
      }
    },
    {
      "cell_type": "markdown",
      "source": [
        "\n",
        "\n",
        "The belongs_to_collection column as a lot of missing values (about 90%) and the data inside doesn't seem so intersting for the tasks at hand. I will drop along with the tagline and homepage columns (more than 50% missings and data not mandatory). Overwiew column will require a lot of NLP processing which is outside of the scope of this course. Some columns have only a unique value, thus they are useless for analysis. Also, drop some redondant columns."
      ],
      "metadata": {
        "id": "ks1v98_xuzb1"
      }
    },
    {
      "cell_type": "code",
      "source": [
        "to_drop = (\"belongs_to_collection\",\"tagline\", \"homepage\", \"production_companies\", \"spoken_languages\", \"video\",\n",
        "           \"original_title\", \"imdb_id\", \"adult\", \"overview\", \"poster_path\", \"status\")\n",
        "metadata_ml = metadata.drop(*to_drop)\n",
        "metadata_ml.printSchema()"
      ],
      "metadata": {
        "colab": {
          "base_uri": "https://localhost:8080/"
        },
        "id": "WvvOZ8qozfBJ",
        "outputId": "5fcd6231-c63d-4739-e954-4edb21b2d274"
      },
      "execution_count": null,
      "outputs": [
        {
          "output_type": "stream",
          "name": "stdout",
          "text": [
            "root\n",
            " |-- budget: integer (nullable = true)\n",
            " |-- genres: string (nullable = true)\n",
            " |-- id: string (nullable = true)\n",
            " |-- original_language: string (nullable = true)\n",
            " |-- popularity: float (nullable = true)\n",
            " |-- production_countries: string (nullable = true)\n",
            " |-- release_date: string (nullable = true)\n",
            " |-- revenue: integer (nullable = true)\n",
            " |-- runtime: double (nullable = true)\n",
            " |-- title: string (nullable = true)\n",
            " |-- vote_average: double (nullable = true)\n",
            " |-- vote_count: integer (nullable = true)\n",
            "\n"
          ]
        }
      ]
    },
    {
      "cell_type": "markdown",
      "source": [
        "Now let's handle the nans."
      ],
      "metadata": {
        "id": "to_atAIuWH55"
      }
    },
    {
      "cell_type": "code",
      "source": [
        "# Number of missing values for each dataframe and column\n",
        "from pyspark.sql.functions import col,isnan, when, count\n",
        "\n",
        "def nb_nans(df):\n",
        "  df.select([count(when(isnan(c) | col(c).isNull(), c)).alias(c) for c in df.columns]).show()\n",
        "\n",
        "nb_nans(metadata_ml)"
      ],
      "metadata": {
        "colab": {
          "base_uri": "https://localhost:8080/"
        },
        "id": "6fSfD9ETWGS_",
        "outputId": "63795e8a-d994-4da3-fb7d-fa75b2bef839"
      },
      "execution_count": null,
      "outputs": [
        {
          "output_type": "stream",
          "name": "stdout",
          "text": [
            "+------+------+---+-----------------+----------+--------------------+------------+-------+-------+-----+------------+----------+\n",
            "|budget|genres| id|original_language|popularity|production_countries|release_date|revenue|runtime|title|vote_average|vote_count|\n",
            "+------+------+---+-----------------+----------+--------------------+------------+-------+-------+-----+------------+----------+\n",
            "|     1|     0|  0|               11|         1|                   0|          81|      1|    256|    1|           1|         1|\n",
            "+------+------+---+-----------------+----------+--------------------+------------+-------+-------+-----+------------+----------+\n",
            "\n"
          ]
        }
      ]
    },
    {
      "cell_type": "code",
      "source": [
        "print((metadata_ml.count(), len(metadata_ml.columns)))\n",
        "metadata_ml = metadata_ml.na.drop()\n",
        "print((metadata_ml.count(), len(metadata_ml.columns)))"
      ],
      "metadata": {
        "colab": {
          "base_uri": "https://localhost:8080/"
        },
        "id": "nvuwoAvtWciN",
        "outputId": "e86ce431-01c1-48b8-a2ec-5c217d63bb1b"
      },
      "execution_count": null,
      "outputs": [
        {
          "output_type": "stream",
          "name": "stdout",
          "text": [
            "(45413, 12)\n",
            "(45076, 12)\n"
          ]
        }
      ]
    },
    {
      "cell_type": "markdown",
      "source": [
        "We can see that we have some columns that are in a hashmap format, this is problematic for analysis and modelling. We have to fix this.\n",
        "\n",
        "Hashmap columns: \n",
        "* production_countries\n",
        "* genres"
      ],
      "metadata": {
        "id": "f3Atzkguz4Ya"
      }
    },
    {
      "cell_type": "code",
      "source": [
        "metadata_ml.select([\"genres\", \"production_countries\"]).show(5, truncate=False)"
      ],
      "metadata": {
        "colab": {
          "base_uri": "https://localhost:8080/"
        },
        "id": "isnL3I_BWoRA",
        "outputId": "f742e4ca-1feb-4bc1-cf15-a362cfc58c55"
      },
      "execution_count": null,
      "outputs": [
        {
          "output_type": "stream",
          "name": "stdout",
          "text": [
            "+---------------------------------------------------------------+----------------------------------------------------------+\n",
            "|genres                                                         |production_countries                                      |\n",
            "+---------------------------------------------------------------+----------------------------------------------------------+\n",
            "|[{'id': 35, 'name': 'Comedy'}, {'id': 18, 'name': 'Drama'}]    |[{'iso_3166_1': 'US', 'name': 'United States of America'}]|\n",
            "|[{'id': 35, 'name': 'Comedy'}, {'id': 27, 'name': 'Horror'}]   |[{'iso_3166_1': 'US', 'name': 'United States of America'}]|\n",
            "|[{'id': 18, 'name': 'Drama'}, {'id': 80, 'name': 'Crime'}]     |[{'iso_3166_1': 'US', 'name': 'United States of America'}]|\n",
            "|[{'id': 18, 'name': 'Drama'}, {'id': 10749, 'name': 'Romance'}]|[{'iso_3166_1': 'US', 'name': 'United States of America'}]|\n",
            "|[{'id': 18, 'name': 'Drama'}]                                  |[{'iso_3166_1': 'US', 'name': 'United States of America'}]|\n",
            "+---------------------------------------------------------------+----------------------------------------------------------+\n",
            "only showing top 5 rows\n",
            "\n"
          ]
        }
      ]
    },
    {
      "cell_type": "code",
      "source": [
        "from pyspark.sql.functions import count, when, col, isnan, from_json, explode, map_keys, udf, coalesce, lit, to_date, year, split ,get_json_object, array, collect_list, concat_ws, regexp_replace, regexp_extract\n",
        "from pyspark.sql.types import StructType, StringType, IntegerType, MapType, ArrayType, StructField\n",
        "\n",
        "\n",
        "# Define the schemas of json array type for the columns production_ and genres\n",
        "schema = ArrayType(\n",
        "    StructType([\n",
        "        StructField('id', StringType(), nullable=False), \n",
        "        StructField('name', StringType(), nullable=False)\n",
        "    ]))\n",
        "\n",
        "# Create a user define function to convert list to column separated values. \n",
        "# Indeed, extracting values based on json keys will produce lists\n",
        "convertList = udf(lambda s: '; '.join(map(str, s)), StringType())\n",
        "\n",
        "\n",
        "# Apply json parsing to metadata df columns \n",
        "metadata_ml = metadata_ml.withColumn(\"genres_\", convertList(from_json(metadata_ml.genres, schema).getField(\"name\"))) \\\n",
        "          .withColumn(\"production_countries_\", when(col(\"production_countries\")=='[]', '') \\\n",
        "                      .otherwise(convertList(from_json(metadata_ml.production_countries, schema).getField(\"name\"))))\n",
        "\n",
        "# Drop columns that are now useless\n",
        "to_drop = (\"genres\", \"production_countries\")\n",
        "metadata_ml = metadata_ml.drop(*to_drop)\n",
        "\n",
        "print((metadata_ml.count(), len(metadata_ml.columns)))\n",
        "metadata_ml.show(5, truncate=False)"
      ],
      "metadata": {
        "colab": {
          "base_uri": "https://localhost:8080/"
        },
        "id": "S2mIJzMiylpi",
        "outputId": "6bd45678-3cad-4eae-d517-6e0d40b87148"
      },
      "execution_count": null,
      "outputs": [
        {
          "output_type": "stream",
          "name": "stdout",
          "text": [
            "(45076, 12)\n",
            "+------+------+-----------------+----------+------------+-------+-------+--------------------------+------------+----------+--------------+------------------------+\n",
            "|budget|id    |original_language|popularity|release_date|revenue|runtime|title                     |vote_average|vote_count|genres_       |production_countries_   |\n",
            "+------+------+-----------------+----------+------------+-------+-------+--------------------------+------------+----------+--------------+------------------------+\n",
            "|0     |151831|en               |0.079384  |1919-05-01  |0      |55.0   |The Delicious Little Devil|5.0         |1         |Comedy; Drama |United States of America|\n",
            "|0     |51359 |en               |0.325674  |1921-02-21  |0      |21.0   |The Haunted House         |6.5         |16        |Comedy; Horror|United States of America|\n",
            "|0     |42565 |xx               |0.857462  |1927-08-20  |0      |87.0   |Underworld                |7.4         |8         |Drama; Crime  |United States of America|\n",
            "|0     |42641 |en               |1.691796  |1930-11-14  |0      |92.0   |Morocco                   |6.6         |24        |Drama; Romance|United States of America|\n",
            "|0     |50072 |en               |0.37014   |1932-01-09  |0      |85.0   |Forbidden                 |6.1         |5         |Drama         |United States of America|\n",
            "+------+------+-----------------+----------+------------+-------+-------+--------------------------+------------+----------+--------------+------------------------+\n",
            "only showing top 5 rows\n",
            "\n"
          ]
        }
      ]
    },
    {
      "cell_type": "markdown",
      "source": [
        "Some formatting of the new columns to make them ready for machine learning."
      ],
      "metadata": {
        "id": "NtG6fTo8nVRW"
      }
    },
    {
      "cell_type": "code",
      "source": [
        "# new genre cols\n",
        "split_col = split(metadata_ml['genres_'], ';')\n",
        "metadata_ml = metadata_ml.withColumn('genre_1', split_col.getItem(0)) \\\n",
        "  .withColumn('genre_2', split_col.getItem(1)) \\\n",
        "  .withColumn('genre_3', split_col.getItem(2)) \\\n",
        "  .withColumn('genre_4', split_col.getItem(3))\n",
        "\n",
        "# new production_countries cols\n",
        "split_col = split(metadata_ml['production_countries_'], ';') \n",
        "metadata_ml = metadata_ml.withColumn('production_country_1', split_col.getItem(0)) \\\n",
        "  .withColumn('production_country_2', split_col.getItem(1))\n",
        "\n",
        "# drop columns that are now useless\n",
        "to_drop = (\"genres_\", \"production_countries_\")\n",
        "metadata_ml = metadata_ml.drop(*to_drop) \n",
        "print((metadata_ml.count(), len(metadata_ml.columns))) \n",
        "metadata_ml.show(5, truncate=False)"
      ],
      "metadata": {
        "colab": {
          "base_uri": "https://localhost:8080/"
        },
        "id": "uGjDfT6_V4T-",
        "outputId": "4ba61dc2-0af6-493c-f6fb-44ac85ca60db"
      },
      "execution_count": null,
      "outputs": [
        {
          "output_type": "stream",
          "name": "stdout",
          "text": [
            "(45076, 16)\n",
            "+------+------+-----------------+----------+------------+-------+-------+--------------------------+------------+----------+-------+--------+-------+-------+------------------------+--------------------+\n",
            "|budget|id    |original_language|popularity|release_date|revenue|runtime|title                     |vote_average|vote_count|genre_1|genre_2 |genre_3|genre_4|production_country_1    |production_country_2|\n",
            "+------+------+-----------------+----------+------------+-------+-------+--------------------------+------------+----------+-------+--------+-------+-------+------------------------+--------------------+\n",
            "|0     |151831|en               |0.079384  |1919-05-01  |0      |55.0   |The Delicious Little Devil|5.0         |1         |Comedy | Drama  |null   |null   |United States of America|null                |\n",
            "|0     |51359 |en               |0.325674  |1921-02-21  |0      |21.0   |The Haunted House         |6.5         |16        |Comedy | Horror |null   |null   |United States of America|null                |\n",
            "|0     |42565 |xx               |0.857462  |1927-08-20  |0      |87.0   |Underworld                |7.4         |8         |Drama  | Crime  |null   |null   |United States of America|null                |\n",
            "|0     |42641 |en               |1.691796  |1930-11-14  |0      |92.0   |Morocco                   |6.6         |24        |Drama  | Romance|null   |null   |United States of America|null                |\n",
            "|0     |50072 |en               |0.37014   |1932-01-09  |0      |85.0   |Forbidden                 |6.1         |5         |Drama  |null    |null   |null   |United States of America|null                |\n",
            "+------+------+-----------------+----------+------------+-------+-------+--------------------------+------------+----------+-------+--------+-------+-------+------------------------+--------------------+\n",
            "only showing top 5 rows\n",
            "\n"
          ]
        }
      ]
    },
    {
      "cell_type": "code",
      "source": [
        "# convert release date to movie age \n",
        "from pyspark.sql.functions import current_date, datediff, col\n",
        "\n",
        "# Assume you have a DataFrame df with a date column 'birthdate'\n",
        "metadata_ml = metadata_ml.withColumn(\"age\", datediff(current_date(), col(\"release_date\"))/365)\n",
        "metadata_ml = metadata_ml.withColumn(\"age\", metadata_ml.age.cast('int'))"
      ],
      "metadata": {
        "id": "R1CumssYq120"
      },
      "execution_count": null,
      "outputs": []
    },
    {
      "cell_type": "code",
      "source": [
        "# drop release date column\n",
        "metadata_ml = metadata_ml.drop(\"release_date\")\n",
        "print((metadata_ml.count(), len(metadata_ml.columns)))\n",
        "metadata_ml.show(5, truncate=False)"
      ],
      "metadata": {
        "colab": {
          "base_uri": "https://localhost:8080/"
        },
        "id": "8D0cmTsrX9uV",
        "outputId": "78829477-a830-4bd0-d9a8-112c4041b746"
      },
      "execution_count": null,
      "outputs": [
        {
          "output_type": "stream",
          "name": "stdout",
          "text": [
            "(45076, 16)\n",
            "+------+------+-----------------+----------+-------+-------+--------------------------+------------+----------+-------+--------+-------+-------+------------------------+--------------------+---+\n",
            "|budget|id    |original_language|popularity|revenue|runtime|title                     |vote_average|vote_count|genre_1|genre_2 |genre_3|genre_4|production_country_1    |production_country_2|age|\n",
            "+------+------+-----------------+----------+-------+-------+--------------------------+------------+----------+-------+--------+-------+-------+------------------------+--------------------+---+\n",
            "|0     |151831|en               |0.079384  |0      |55.0   |The Delicious Little Devil|5.0         |1         |Comedy | Drama  |null   |null   |United States of America|null                |103|\n",
            "|0     |51359 |en               |0.325674  |0      |21.0   |The Haunted House         |6.5         |16        |Comedy | Horror |null   |null   |United States of America|null                |101|\n",
            "|0     |42565 |xx               |0.857462  |0      |87.0   |Underworld                |7.4         |8         |Drama  | Crime  |null   |null   |United States of America|null                |95 |\n",
            "|0     |42641 |en               |1.691796  |0      |92.0   |Morocco                   |6.6         |24        |Drama  | Romance|null   |null   |United States of America|null                |92 |\n",
            "|0     |50072 |en               |0.37014   |0      |85.0   |Forbidden                 |6.1         |5         |Drama  |null    |null   |null   |United States of America|null                |91 |\n",
            "+------+------+-----------------+----------+-------+-------+--------------------------+------------+----------+-------+--------+-------+-------+------------------------+--------------------+---+\n",
            "only showing top 5 rows\n",
            "\n"
          ]
        }
      ]
    },
    {
      "cell_type": "markdown",
      "source": [
        "## Processing Credits dataset for ML\n",
        "\n",
        "This dataset might also contain useful information for machine learning."
      ],
      "metadata": {
        "id": "Nl_jjlv50yhG"
      }
    },
    {
      "cell_type": "code",
      "source": [
        "credits.show(5, truncate=False)"
      ],
      "metadata": {
        "colab": {
          "base_uri": "https://localhost:8080/"
        },
        "id": "Lo_wprbg7hb2",
        "outputId": "87c2fe3f-c2bd-45d5-9413-dc8a1cc9160a"
      },
      "execution_count": null,
      "outputs": [
        {
          "output_type": "stream",
          "name": "stdout",
          "text": [
            "+-------------------------------------------------------------------------------------------------------------------------------------------------------------------------------------------------------------------------------------------------------------------------------------------------------------------------------------------------------------------------------------------------------------------------------------------------------------------------------------------------------------------------------------------------------------------------------------------------------------------------------------------------------------------------------------------------------------------------------------------------------------------------------------------------------------------------------------------------------------------------------------------------------------------------------------------------------------------------------------------------------------------------------------------------------------------------------------------------------------------------------------------------------------------------------------------------------------------------------------------------------------------------------------------------------------------------------------------------------------------------------------------------------------------------------------------------------------------------------------------------------------------------------------------------------------------------------------------------------------------------------------------------------------------------------------------------------------------------------------------------------------------------------------------------------------------------------------------------------------------------------------------------------------------------------------------------------------------------------------------------------------------------------------------------------------------------------------------------------------------------------------------------------------------------------------------------------------------------------------------------------------------------------------------------------------------------------------------------------------------------------------------------------------------------------------------------------------------------------------------------------------------------------------------------------------------------------------------------------------------------------------------------------------------------------------------------------------------------------------------------------------------------------------------------------------------------------------------------------------------------------------------------------------------------------------------------------------------------------------------------------------------------------------------------------------------------------------------------------------------------------------------------------------------------------------------------------------------------------------------------------------------------------------------------------------------------------------------------------------------------------------------------------------------------------------------------------------------------------------------------------------------------------------------------------------------------------------------------------------------------------------------------------------------------------------------------------------------------------------------------------------------------------------------------------------------------------------------------------------------------------------------------------------------------------------------------------------------------------------------------------------------------------------------------------------------------------------------------------------------------------------------------------------------------------------------------------------------------------------------------------------------------------------------------------------------------------------------------------------------------------------------------------------------------------------------------------------------------------------------------------------------------------------------------------------------------------------------------------------------------------------------------------------------------------------------------------------------------------------------------------------------------------------------------------------------------------------------------------------------------------------------------------------------------------------------------------------------------------------------------------------------------------------------------------------------------------------------------------------------------------------------------------------------------------------------------------------------------------+------------------------------------------------------------------------------------------------------------------------------------------------------------------------------------------------------------------------------------------------------------------------------------------------------------------------------------------------------------------------------------------------------------------------------------------------------------------------------------------------------------------------------------------------------------------------------------------------------------------------------------------------------------------------------------------------------------------------------------------------------------------------------------------------------------------------------------------------------------------------------------------------------------------------------------------------------------------------------------------------------------------------------------------------------------------------------------------------------------------------------------------------------------------------------------------------------------------------------------------------------------------------------------------------------------------------------------------------------------------------------------------------------------------------------------------------------------------------------------------------------------------------------------------------------------------------------------------------------------------------------------------------------------------------------------------------------------------------------------------------------------------------------------------------------------------------------------------------------------------------------------------------------------------------------------------------------------------------------------------------------------------------------------------------------------------------------------------------------------------------------------------------------------------------------------------------------------------------------------------------------------------------------------------------------------------------------------------------------------------------------------------------------------------------------------------------------------------------------------------------------------------------------------------------------------------------------------------------------------------------------------------------------------------------------------------------------------------------------------------------------------------------------------------------------------------------------------------------------------------------------------------------------------------------------------------------------------------------------------------------------------------------------------------------------------------------------------------------------------------------------------------------------------------------------------------------------------------------------------------------------------------------------------------------------------------------------------------------------------------------------------------------------------------------------------------------------------------------------------------------------------------------------------------------------------------------------------------------------------------------------------------------------------------------------------------------------------------------------------------------------------------------------------------------------------------------------------------------------------------------------------------------------------------------------------------------------------------------------------------------------------------------------------------------------------------------------------------------------------------------------------------------------------------------------------------------------------------------------------------------------------------------------------------------------------------------------------------------------------------------------------------------------------------------------------------------------------------------------------------------------------------------------------------------------------------------------------------------------------------------------------------------------------------------------------------------------------------------------------------------------------------------------------------------------------------------------------------------------------------------------------------------------------------------------------------------------------------------------------------------------------------------------------------------------------------------------------------------------------------------------------------------------------------------------------------------------------------------------------------------------------------------------------------------------------------------------------------------------------------------------------------------------------------------------------------------------------------------------------------------------------------------------------------------------------------------------------------------------------------------------------------------------------------------------------------------------------------------------------------------------------------------------------------------------------------------------------------------------------------------------------------------------------------------------------------------------------------------------------------------------------------------------------------------------------------------------------------------------------------------------------------------------------------------------------------------------------------------------------------------------------------------------------------------------------------------------------------------------------------------------------------------------------------------------------------------------------------------------------------------------------------------------------------------------------------------------------------------------------------------------------------------------------------------------------------------------------------------------------------------------------------------------------------------------------------------------------------------------------------------------------------------------------------------------------------------------------------------------------------------------------------------------------------------------------------------------------------------------------------------------------------------------------------------------------------------------------------------------------------------------------------------------------------------------------------------------------------------------------------------------------------------------------------------------------------------------------------------------------------------------------------------------------------------------------------------------------------------------------------------------------------------------------------------------------------------------------------------------------------------------------------------------------------------------------------------------------------------------------------------------------------------------------------------------------------------------------------------------------------------------------------------------------------------------------------------------------------------------------------------------------------------------------------------------------------------------------------------------------------------------------------------------------------------------------------------------------------------------------------------------------------------------------------------------------------------------------------------------------------------------------------------------------------------------------------------------------------------------------------------------------------------------------------------------------------------------------------------------------------------------------------------------------------------------------------------------------------------------------------------------------------------------------------------------------------------------------------------------------------------------------------------------------------------------------------------------------------------------------------------------------------------------------------------------------------------------------------------------------------------------------------------------------------------------------------------------------------------------------------------------------------------------------------------------------------------------------------------------------------------------------------------------------------------------------------------------------------------------------------------------------------------------------------------------------------------------------------------------------------------------------------------------------------------------------------------------------------------------------------------------------------------------------------------------------------------------------------------------------------------------------------------------------------------------------------------------------------------------------------------------------------------------------------------------------------------------------------------------------------------------------------------------------------------------------------------------------------------------------------------------------------------------------------------------------------------------------------------------------------------------------------------------------------------------------------------------------------------------------------------------------------------------------------------------------------------------------------------------------------------------------------------------------------------------------------------------------------------------------------------------------------------------------------------------------------------------------------------------------------------------------------------------------------------------------------------------------------------------------------------------------------------------------------------------------------------------------------------------------------------------------------------------------------------------------------------------------------------------------------------------------------------------------------------------------------------------------------------------------------------------------------------------------------------------------------------------------------------------------------------------------------------------------------------------------------------------------------------------------------------------------------------------------------------------------------------------------------------------------------------------------------------------------------------------------------------------------------------------------------------------------------------------------------------------------------------------------------------------------------------------------------------------------------------------------------------------------------------------------------------------------------------------------------------------------------------------------------------------------------------------------------------------------------------------------------------------------------------------------------------------------------------------------------------------------------------------------------------------------------------------------------------------------------------------------------------------------------------------------------------------------------------------------------------------------------------------------------------------------------------------------------------------------------------------------------------------------------------------------------------------------------------------------------------------------------------------------------------------------------------------------------------------------------------------------------------------------------------------------------------------------------------------------------------------------------------------------------------------------------------------------------------------------------------------------------------------------------------------------------------------------------------------------------------------------------------------------------------------------------------------------------------------------------------------------------------------------------------------------------------------------------------------------------------------------------------------------------------------------------------------------------------------------------------------------------------------------------------------------------------------------------------------------------------------------------------------------------------------------------------------------------------------------------------------------------------------------------------------------------------------------------------------------------------------------------------------------------------------------------------------------------------------------------------------------------------------------------------------------------------------------------------------------------------------------------------------------------------------------------------------------------------------------------------------------------------------------------------------------------------------------------------------------------------------------------------------------------------------------------------------------------------------------------------------------------------------------------------------------------------------------------------------------------------------------------------------------------------------------------------------------------------------------------------------------------------------------------------------------------------------------------------------------------------------------------------------------------------------------------------------------------------------------------------------------------------------------------------------------------------------------------------------------------------------------------------------------------------------------------------------------------------------------------------------------------------------------------------------------------------------------------------------------------------------------------------------------------------------------------------------------------------------------------------------------------------------------------------------------------------------------------------------------------------------------------------------------------------------------------------------------------------------------------------------------------------------------------------------------------------------------------------------------------------------------------------------------------------------------------------------------------------------------------------------------------------------------------------------------------------------------------------------------------------------------------------------------------------------------------------------------------------------------------------------------------------------------------------------------------------------------------------------------------------------------------------------------------------------------------------------------------------------------------------------------------------------------------------------------------------------------------------------------------------------------------------------------------------------------------------------------------------------------------------------------------------------------------------------------------------------------------------------------------------------------------------------------------------------------------------------------------------------------------------------------------------------------------------------------------------------------------------------------------------------------------------------------------------------------------------------------------------------------------------------------------------------------------------------------------------------------------------------------------------------------------------------------------------------------------------------------------------------------------------------------------------------------------------------------------------------------------------------------------------------------------------------------------------------------------------------------------------------------------------------------------------------------------------------------------------------------------------------------------------------------------------------------------------------------------------------------------------------------------------------------------------------------------------------------------------------------------------------------------------------------------------------------------------------------------------------------------------------------------------------------------------------------------------------------------------------------------------------------------------------------------------------------------------------------------------------------------------------------------------------------------------------------------------------------------------------------------------------------------------------------------------------------------------------------------------------------------------------------------------------------------------------------------------------------------------------------------------------------------------------------------------------------------------------------------------------------------------------------------------------+-----+\n",
            "|cast                                                                                                                                                                                                                                                                                                                                                                                                                                                                                                                                                                                                                                                                                                                                                                                                                                                                                                                                                                                                                                                                                                                                                                                                                                                                                                                                                                                                                                                                                                                                                                                                                                                                                                                                                                                                                                                                                                                                                                                                                                                                                                                                                                                                                                                                                                                                                                                                                                                                                                                                                                                                                                                                                                                                                                                                                                                                                                                                                                                                                                                                                                                                                                                                                                                                                                                                                                                                                                                                                                                                                                                                                                                                                                                                                                                                                                                                                                                                                                                                                                                                                                                                                                                                                                                                                                                                                                                                                                                                                                                                                                                                                                                                                                                                                                                                                                                                                                                                                                                                                                                                                                                                                                                                                           |crew                                                                                                                                                                                                                                                                                                                                                                                                                                                                                                                                                                                                                                                                                                                                                                                                                                                                                                                                                                                                                                                                                                                                                                                                                                                                                                                                                                                                                                                                                                                                                                                                                                                                                                                                                                                                                                                                                                                                                                                                                                                                                                                                                                                                                                                                                                                                                                                                                                                                                                                                                                                                                                                                                                                                                                                                                                                                                                                                                                                                                                                                                                                                                                                                                                                                                                                                                                                                                                                                                                                                                                                                                                                                                                                                                                                                                                                                                                                                                                                                                                                                                                                                                                                                                                                                                                                                                                                                                                                                                                                                                                                                                                                                                                                                                                                                                                                                                                                                                                                                                                                                                                                                                                                                                                                                                                                                                                                                                                                                                                                                                                                                                                                                                                                                                                                                                                                                                                                                                                                                                                                                                                                                                                                                                                                                                                                                                                                                                                                                                                                                                                                                                                                                                                                                                                                                                                                                                                                                                                                                                                                                                                                                                                                                                                                                                                                                                                                                                                                                                                                                                                                                                                                                                                                                                                                                                                                                                                                                                                                                                                                                                                                                                                                                                                                                                                                                                                                                                                                                                                                                                                                                                                                                                                                                                                                                                                                                                                                                                                                                                                                                                                                                                                                                                                                                                                                                                                                                                                                                                                                                                                                                                                                                                                                                                                                                                                                                                                                                                                                                                                                                                                                                                                                                                                                                                                                                                                                                                                                                                                                                                                                                                                                                                                                                                                                                                                                                                                                                                                                                                                                                                                                                                                                                                                                                                                                                                                                                                                                                                                                                                                                                                                                                                                                                                                                                                                                                                                                                                                                                                                                                                                                                                                                                                                                                                                                                                                                                                                                                                                                                                                                                                                                                                                                                                                                                                                                                                                                                                                                                                                                                                                                                                                                                                                                                                                                                                                                                                                                                                                                                                                                                                                                                                                                                                                                                                                                                                                                                                                                                                                                                                                                                                                                                                                                                                                                                                                                                                                                                                                                                                                                                                                                                                                                                                                                                                                                                                                                                                                                                                                                                                                                                                                                                                                                                                                                                                                                                                                                                                                                                                                                                                                                                                                                                                                                                                                                                                                                                                                                                                                                                                                                                                                                                                                                                                                                                                                                                                                                                                                                                                                                                                                                                                                                                                                                                                                                                                                                                                                                                                                                                                                                                                                                                                                                                                                                                                                                                                                                                                                                                                                                                                                                                                                                                                                                                                                                                                                                                                                                                                                                                                                                                                                                                                                                                                                                                                                                                                                                                                                                                                                                                                                                                                                                                                                                                                                                                                                                                                                                                                                                                                                                                                                                                                                                                                                                                                                                                                          |id   |\n",
            "+-------------------------------------------------------------------------------------------------------------------------------------------------------------------------------------------------------------------------------------------------------------------------------------------------------------------------------------------------------------------------------------------------------------------------------------------------------------------------------------------------------------------------------------------------------------------------------------------------------------------------------------------------------------------------------------------------------------------------------------------------------------------------------------------------------------------------------------------------------------------------------------------------------------------------------------------------------------------------------------------------------------------------------------------------------------------------------------------------------------------------------------------------------------------------------------------------------------------------------------------------------------------------------------------------------------------------------------------------------------------------------------------------------------------------------------------------------------------------------------------------------------------------------------------------------------------------------------------------------------------------------------------------------------------------------------------------------------------------------------------------------------------------------------------------------------------------------------------------------------------------------------------------------------------------------------------------------------------------------------------------------------------------------------------------------------------------------------------------------------------------------------------------------------------------------------------------------------------------------------------------------------------------------------------------------------------------------------------------------------------------------------------------------------------------------------------------------------------------------------------------------------------------------------------------------------------------------------------------------------------------------------------------------------------------------------------------------------------------------------------------------------------------------------------------------------------------------------------------------------------------------------------------------------------------------------------------------------------------------------------------------------------------------------------------------------------------------------------------------------------------------------------------------------------------------------------------------------------------------------------------------------------------------------------------------------------------------------------------------------------------------------------------------------------------------------------------------------------------------------------------------------------------------------------------------------------------------------------------------------------------------------------------------------------------------------------------------------------------------------------------------------------------------------------------------------------------------------------------------------------------------------------------------------------------------------------------------------------------------------------------------------------------------------------------------------------------------------------------------------------------------------------------------------------------------------------------------------------------------------------------------------------------------------------------------------------------------------------------------------------------------------------------------------------------------------------------------------------------------------------------------------------------------------------------------------------------------------------------------------------------------------------------------------------------------------------------------------------------------------------------------------------------------------------------------------------------------------------------------------------------------------------------------------------------------------------------------------------------------------------------------------------------------------------------------------------------------------------------------------------------------------------------------------------------------------------------------------------------------+------------------------------------------------------------------------------------------------------------------------------------------------------------------------------------------------------------------------------------------------------------------------------------------------------------------------------------------------------------------------------------------------------------------------------------------------------------------------------------------------------------------------------------------------------------------------------------------------------------------------------------------------------------------------------------------------------------------------------------------------------------------------------------------------------------------------------------------------------------------------------------------------------------------------------------------------------------------------------------------------------------------------------------------------------------------------------------------------------------------------------------------------------------------------------------------------------------------------------------------------------------------------------------------------------------------------------------------------------------------------------------------------------------------------------------------------------------------------------------------------------------------------------------------------------------------------------------------------------------------------------------------------------------------------------------------------------------------------------------------------------------------------------------------------------------------------------------------------------------------------------------------------------------------------------------------------------------------------------------------------------------------------------------------------------------------------------------------------------------------------------------------------------------------------------------------------------------------------------------------------------------------------------------------------------------------------------------------------------------------------------------------------------------------------------------------------------------------------------------------------------------------------------------------------------------------------------------------------------------------------------------------------------------------------------------------------------------------------------------------------------------------------------------------------------------------------------------------------------------------------------------------------------------------------------------------------------------------------------------------------------------------------------------------------------------------------------------------------------------------------------------------------------------------------------------------------------------------------------------------------------------------------------------------------------------------------------------------------------------------------------------------------------------------------------------------------------------------------------------------------------------------------------------------------------------------------------------------------------------------------------------------------------------------------------------------------------------------------------------------------------------------------------------------------------------------------------------------------------------------------------------------------------------------------------------------------------------------------------------------------------------------------------------------------------------------------------------------------------------------------------------------------------------------------------------------------------------------------------------------------------------------------------------------------------------------------------------------------------------------------------------------------------------------------------------------------------------------------------------------------------------------------------------------------------------------------------------------------------------------------------------------------------------------------------------------------------------------------------------------------------------------------------------------------------------------------------------------------------------------------------------------------------------------------------------------------------------------------------------------------------------------------------------------------------------------------------------------------------------------------------------------------------------------------------------------------------------------------------------------------------------------------------------------------------------------------------------------------------------------------------------------------------------------------------------------------------------------------------------------------------------------------------------------------------------------------------------------------------------------------------------------------------------------------------------------------------------------------------------------------------------------------------------------------------------------------------------------------------------------------------------------------------------------------------------------------------------------------------------------------------------------------------------------------------------------------------------------------------------------------------------------------------------------------------------------------------------------------------------------------------------------------------------------------------------------------------------------------------------------------------------------------------------------------------------------------------------------------------------------------------------------------------------------------------------------------------------------------------------------------------------------------------------------------------------------------------------------------------------------------------------------------------------------------------------------------------------------------------------------------------------------------------------------------------------------------------------------------------------------------------------------------------------------------------------------------------------------------------------------------------------------------------------------------------------------------------------------------------------------------------------------------------------------------------------------------------------------------------------------------------------------------------------------------------------------------------------------------------------------------------------------------------------------------------------------------------------------------------------------------------------------------------------------------------------------------------------------------------------------------------------------------------------------------------------------------------------------------------------------------------------------------------------------------------------------------------------------------------------------------------------------------------------------------------------------------------------------------------------------------------------------------------------------------------------------------------------------------------------------------------------------------------------------------------------------------------------------------------------------------------------------------------------------------------------------------------------------------------------------------------------------------------------------------------------------------------------------------------------------------------------------------------------------------------------------------------------------------------------------------------------------------------------------------------------------------------------------------------------------------------------------------------------------------------------------------------------------------------------------------------------------------------------------------------------------------------------------------------------------------------------------------------------------------------------------------------------------------------------------------------------------------------------------------------------------------------------------------------------------------------------------------------------------------------------------------------------------------------------------------------------------------------------------------------------------------------------------------------------------------------------------------------------------------------------------------------------------------------------------------------------------------------------------------------------------------------------------------------------------------------------------------------------------------------------------------------------------------------------------------------------------------------------------------------------------------------------------------------------------------------------------------------------------------------------------------------------------------------------------------------------------------------------------------------------------------------------------------------------------------------------------------------------------------------------------------------------------------------------------------------------------------------------------------------------------------------------------------------------------------------------------------------------------------------------------------------------------------------------------------------------------------------------------------------------------------------------------------------------------------------------------------------------------------------------------------------------------------------------------------------------------------------------------------------------------------------------------------------------------------------------------------------------------------------------------------------------------------------------------------------------------------------------------------------------------------------------------------------------------------------------------------------------------------------------------------------------------------------------------------------------------------------------------------------------------------------------------------------------------------------------------------------------------------------------------------------------------------------------------------------------------------------------------------------------------------------------------------------------------------------------------------------------------------------------------------------------------------------------------------------------------------------------------------------------------------------------------------------------------------------------------------------------------------------------------------------------------------------------------------------------------------------------------------------------------------------------------------------------------------------------------------------------------------------------------------------------------------------------------------------------------------------------------------------------------------------------------------------------------------------------------------------------------------------------------------------------------------------------------------------------------------------------------------------------------------------------------------------------------------------------------------------------------------------------------------------------------------------------------------------------------------------------------------------------------------------------------------------------------------------------------------------------------------------------------------------------------------------------------------------------------------------------------------------------------------------------------------------------------------------------------------------------------------------------------------------------------------------------------------------------------------------------------------------------------------------------------------------------------------------------------------------------------------------------------------------------------------------------------------------------------------------------------------------------------------------------------------------------------------------------------------------------------------------------------------------------------------------------------------------------------------------------------------------------------------------------------------------------------------------------------------------------------------------------------------------------------------------------------------------------------------------------------------------------------------------------------------------------------------------------------------------------------------------------------------------------------------------------------------------------------------------------------------------------------------------------------------------------------------------------------------------------------------------------------------------------------------------------------------------------------------------------------------------------------------------------------------------------------------------------------------------------------------------------------------------------------------------------------------------------------------------------------------------------------------------------------------------------------------------------------------------------------------------------------------------------------------------------------------------------------------------------------------------------------------------------------------------------------------------------------------------------------------------------------------------------------------------------------------------------------------------------------------------------------------------------------------------------------------------------------------------------------------------------------------------------------------------------------------------------------------------------------------------------------------------------------------------------------------------------------------------------------------------------------------------------------------------------------------------------------------------------------------------------------------------------------------------------------------------------------------------------------------------------------------------------------------------------------------------------------------------------------------------------------------------------------------------------------------------------------------------------------------------------------------------------------------------------------------------------------------------------------------------------------------------------------------------------------------------------------------------------------------------------------------------------------------------------------------------------------------------------------------------------------------------------------------------------------------------------------------------------------------------------------------------------------------------------------------------------------------------------------------------------------------------------------------------------------------------------------------------------------------------------------------------------------------------------------------------------------------------------------------------------------------------------------------------------------------------------------------------------------------------------------------------------------------------------------------------------------------------------------------------------------------------------------------------------------------------------------------------------------------------------------------------------------------------------------------------------------------------------------------------------------------------------------------------------------------------------------------------------------------------------------------------------------------------------------------------------------------------------------------------------------------------------------------------------------------------------------------------------------------------------------------------------------------------------------------------------------------------------------------------------------------------------------------------------------------------------------------------------------------------------------------------------------------------------------------------------------------------------------------------------------------------------------------------------------------------------------------------------------------------------------------------------------------------------------------------------------------------------------------------------------------------------------------------------------------------------------------------------------------------------------------------------------------------------------------------------------------------------------------------------------------------------------------------------------------------------------------------------------------------------------------------------------------------------------------------------------------------------------------------------------------------------------------------------------------------------------------------------------------------+-----+\n",
            "|[{'cast_id': 14, 'character': 'Woody (voice)', 'credit_id': '52fe4284c3a36847f8024f95', 'gender': 2, 'id': 31, 'name': 'Tom Hanks', 'order': 0, 'profile_path': '/pQFoyx7rp09CJTAb932F2g8Nlho.jpg'}, {'cast_id': 15, 'character': 'Buzz Lightyear (voice)', 'credit_id': '52fe4284c3a36847f8024f99', 'gender': 2, 'id': 12898, 'name': 'Tim Allen', 'order': 1, 'profile_path': '/uX2xVf6pMmPepxnvFWyBtjexzgY.jpg'}, {'cast_id': 16, 'character': 'Mr. Potato Head (voice)', 'credit_id': '52fe4284c3a36847f8024f9d', 'gender': 2, 'id': 7167, 'name': 'Don Rickles', 'order': 2, 'profile_path': '/h5BcaDMPRVLHLDzbQavec4xfSdt.jpg'}, {'cast_id': 17, 'character': 'Slinky Dog (voice)', 'credit_id': '52fe4284c3a36847f8024fa1', 'gender': 2, 'id': 12899, 'name': 'Jim Varney', 'order': 3, 'profile_path': '/eIo2jVVXYgjDtaHoF19Ll9vtW7h.jpg'}, {'cast_id': 18, 'character': 'Rex (voice)', 'credit_id': '52fe4284c3a36847f8024fa5', 'gender': 2, 'id': 12900, 'name': 'Wallace Shawn', 'order': 4, 'profile_path': '/oGE6JqPP2xH4tNORKNqxbNPYi7u.jpg'}, {'cast_id': 19, 'character': 'Hamm (voice)', 'credit_id': '52fe4284c3a36847f8024fa9', 'gender': 2, 'id': 7907, 'name': 'John Ratzenberger', 'order': 5, 'profile_path': '/yGechiKWL6TJDfVE2KPSJYqdMsY.jpg'}, {'cast_id': 20, 'character': 'Bo Peep (voice)', 'credit_id': '52fe4284c3a36847f8024fad', 'gender': 1, 'id': 8873, 'name': 'Annie Potts', 'order': 6, 'profile_path': '/eryXT84RL41jHSJcMy4kS3u9y6w.jpg'}, {'cast_id': 26, 'character': 'Andy (voice)', 'credit_id': '52fe4284c3a36847f8024fc1', 'gender': 0, 'id': 1116442, 'name': 'John Morris', 'order': 7, 'profile_path': '/vYGyvK4LzeaUCoNSHtsuqJUY15M.jpg'}, {'cast_id': 22, 'character': 'Sid (voice)', 'credit_id': '52fe4284c3a36847f8024fb1', 'gender': 2, 'id': 12901, 'name': 'Erik von Detten', 'order': 8, 'profile_path': '/twnF1ZaJ1FUNUuo6xLXwcxjayBE.jpg'}, {'cast_id': 23, 'character': 'Mrs. Davis (voice)', 'credit_id': '52fe4284c3a36847f8024fb5', 'gender': 1, 'id': 12133, 'name': 'Laurie Metcalf', 'order': 9, 'profile_path': '/unMMIT60eoBM2sN2nyR7EZ2BvvD.jpg'}, {'cast_id': 24, 'character': 'Sergeant (voice)', 'credit_id': '52fe4284c3a36847f8024fb9', 'gender': 2, 'id': 8655, 'name': 'R. Lee Ermey', 'order': 10, 'profile_path': '/r8GBqFBjypLUP9VVqDqfZ7wYbSs.jpg'}, {'cast_id': 25, 'character': 'Hannah (voice)', 'credit_id': '52fe4284c3a36847f8024fbd', 'gender': 1, 'id': 12903, 'name': 'Sarah Freeman', 'order': 11, 'profile_path': None}, {'cast_id': 27, 'character': 'TV Announcer (voice)', 'credit_id': '52fe4284c3a36847f8024fc5', 'gender': 2, 'id': 37221, 'name': 'Penn Jillette', 'order': 12, 'profile_path': '/zmAaXUdx12NRsssgHbk1T31j2x9.jpg'}]                                                                                                                                                                                                                                                                                                                                                                                                                                                                                                                                                                                                                                                                                                                                                                                                                                                                                                                                                                                                                                                                                                                                                                                                                                                                                                                                                                                                                                                                                                                                                                                                                                                                                                                                                                                                                                                                                                                                                                                                                                                                                                                                                                                                                                                                                                                                                                                                                                                                                       |[{'credit_id': '52fe4284c3a36847f8024f49', 'department': 'Directing', 'gender': 2, 'id': 7879, 'job': 'Director', 'name': 'John Lasseter', 'profile_path': '/7EdqiNbr4FRjIhKHyPPdFfEEEFG.jpg'}, {'credit_id': '52fe4284c3a36847f8024f4f', 'department': 'Writing', 'gender': 2, 'id': 12891, 'job': 'Screenplay', 'name': 'Joss Whedon', 'profile_path': '/dTiVsuaTVTeGmvkhcyJvKp2A5kr.jpg'}, {'credit_id': '52fe4284c3a36847f8024f55', 'department': 'Writing', 'gender': 2, 'id': 7, 'job': 'Screenplay', 'name': 'Andrew Stanton', 'profile_path': '/pvQWsu0qc8JFQhMVJkTHuexUAa1.jpg'}, {'credit_id': '52fe4284c3a36847f8024f5b', 'department': 'Writing', 'gender': 2, 'id': 12892, 'job': 'Screenplay', 'name': 'Joel Cohen', 'profile_path': '/dAubAiZcvKFbboWlj7oXOkZnTSu.jpg'}, {'credit_id': '52fe4284c3a36847f8024f61', 'department': 'Writing', 'gender': 0, 'id': 12893, 'job': 'Screenplay', 'name': 'Alec Sokolow', 'profile_path': '/v79vlRYi94BZUQnkkyznbGUZLjT.jpg'}, {'credit_id': '52fe4284c3a36847f8024f67', 'department': 'Production', 'gender': 1, 'id': 12894, 'job': 'Producer', 'name': 'Bonnie Arnold', 'profile_path': None}, {'credit_id': '52fe4284c3a36847f8024f6d', 'department': 'Production', 'gender': 0, 'id': 12895, 'job': 'Executive Producer', 'name': 'Ed Catmull', 'profile_path': None}, {'credit_id': '52fe4284c3a36847f8024f73', 'department': 'Production', 'gender': 2, 'id': 12896, 'job': 'Producer', 'name': 'Ralph Guggenheim', 'profile_path': None}, {'credit_id': '52fe4284c3a36847f8024f79', 'department': 'Production', 'gender': 2, 'id': 12897, 'job': 'Executive Producer', 'name': 'Steve Jobs', 'profile_path': '/mOMP3SwD5qWQSR0ldCIByd3guTV.jpg'}, {'credit_id': '52fe4284c3a36847f8024f8b', 'department': 'Editing', 'gender': 2, 'id': 8, 'job': 'Editor', 'name': 'Lee Unkrich', 'profile_path': '/bdTCCXjgOV3YyaNmLGYGOxFQMOc.jpg'}, {'credit_id': '52fe4284c3a36847f8024f91', 'department': 'Art', 'gender': 2, 'id': 7883, 'job': 'Art Direction', 'name': 'Ralph Eggleston', 'profile_path': '/uUfcGKDsKO1aROMpXRs67Hn6RvR.jpg'}, {'credit_id': '598331bf925141421201044b', 'department': 'Editing', 'gender': 2, 'id': 1168870, 'job': 'Editor', 'name': 'Robert Gordon', 'profile_path': None}, {'credit_id': '5892168cc3a36809660095f9', 'department': 'Sound', 'gender': 0, 'id': 1552883, 'job': 'Foley Editor', 'name': 'Mary Helen Leasman', 'profile_path': None}, {'credit_id': '5531824d9251415289000945', 'department': 'Visual Effects', 'gender': 0, 'id': 1453514, 'job': 'Animation', 'name': 'Kim Blanchette', 'profile_path': None}, {'credit_id': '589215969251412dcb009bf6', 'department': 'Sound', 'gender': 0, 'id': 1414182, 'job': 'ADR Editor', 'name': 'Marilyn McCoppen', 'profile_path': None}, {'credit_id': '589217099251412dc500a018', 'department': 'Sound', 'gender': 2, 'id': 7885, 'job': 'Orchestrator', 'name': 'Randy Newman', 'profile_path': '/w0JzfoiM25nrnxYOzosPHRq6mlE.jpg'}, {'credit_id': '5693e6b29251417b0e0000e3', 'department': 'Editing', 'gender': 0, 'id': 1429549, 'job': 'Color Timer', 'name': 'Dale E. Grahn', 'profile_path': None}, {'credit_id': '572e2522c3a36869e6001a9c', 'department': 'Visual Effects', 'gender': 0, 'id': 7949, 'job': 'CG Painter', 'name': 'Robin Cooper', 'profile_path': None}, {'credit_id': '574f12309251415ca1000012', 'department': 'Writing', 'gender': 2, 'id': 7879, 'job': 'Original Story', 'name': 'John Lasseter', 'profile_path': '/7EdqiNbr4FRjIhKHyPPdFfEEEFG.jpg'}, {'credit_id': '574f1240c3a3682e7300001c', 'department': 'Writing', 'gender': 2, 'id': 12890, 'job': 'Original Story', 'name': 'Pete Docter', 'profile_path': '/r6ngPgnReA3RHmKjmSoVsc6Awjp.jpg'}, {'credit_id': '574f12519251415c92000015', 'department': 'Writing', 'gender': 0, 'id': 7911, 'job': 'Original Story', 'name': 'Joe Ranft', 'profile_path': '/f1BoWC2JbCcfP1e5hKfGsxkHzVU.jpg'}, {'credit_id': '574f12cec3a3682e82000022', 'department': 'Crew', 'gender': 0, 'id': 1629419, 'job': 'Post Production Supervisor', 'name': 'Patsy Bouge', 'profile_path': None}, {'credit_id': '574f14f19251415ca1000082', 'department': 'Art', 'gender': 0, 'id': 7961, 'job': 'Sculptor', 'name': 'Norm DeCarlo', 'profile_path': None}, {'credit_id': '5751ae4bc3a3683772002b7f', 'department': 'Visual Effects', 'gender': 2, 'id': 12905, 'job': 'Animation Director', 'name': 'Ash Brannon', 'profile_path': '/6ueWgPEEBHvS3De2BHYQnYjRTig.jpg'}, {'credit_id': '5891edbe9251412dc5007cd6', 'department': 'Sound', 'gender': 2, 'id': 7885, 'job': 'Music', 'name': 'Randy Newman', 'profile_path': '/w0JzfoiM25nrnxYOzosPHRq6mlE.jpg'}, {'credit_id': '589213d39251412dc8009832', 'department': 'Directing', 'gender': 0, 'id': 1748707, 'job': 'Layout', 'name': 'Roman Figun', 'profile_path': None}, {'credit_id': '5892173dc3a3680968009351', 'department': 'Sound', 'gender': 2, 'id': 4949, 'job': 'Orchestrator', 'name': 'Don Davis', 'profile_path': None}, {'credit_id': '589217cec3a3686b0a0052ba', 'department': 'Sound', 'gender': 0, 'id': 1372885, 'job': 'Music Editor', 'name': 'James Flamberg', 'profile_path': None}, {'credit_id': '58921831c3a3686348004a64', 'department': 'Editing', 'gender': 0, 'id': 1739962, 'job': 'Negative Cutter', 'name': 'Mary Beth Smith', 'profile_path': None}, {'credit_id': '58921838c3a36809700096c0', 'department': 'Editing', 'gender': 0, 'id': 1748513, 'job': 'Negative Cutter', 'name': 'Rick Mackay', 'profile_path': None}, {'credit_id': '589218429251412dd1009d1b', 'department': 'Art', 'gender': 0, 'id': 1458006, 'job': 'Title Designer', 'name': 'Susan Bradley', 'profile_path': None}, {'credit_id': '5891ed99c3a3680966007670', 'department': 'Crew', 'gender': 0, 'id': 1748557, 'job': 'Supervising Technical Director', 'name': 'William Reeves', 'profile_path': None}, {'credit_id': '5891edcec3a3686b0a002eb2', 'department': 'Sound', 'gender': 2, 'id': 7885, 'job': 'Songs', 'name': 'Randy Newman', 'profile_path': '/w0JzfoiM25nrnxYOzosPHRq6mlE.jpg'}, {'credit_id': '5891edf9c3a36809700075e6', 'department': 'Writing', 'gender': 2, 'id': 7, 'job': 'Original Story', 'name': 'Andrew Stanton', 'profile_path': '/pvQWsu0qc8JFQhMVJkTHuexUAa1.jpg'}, {'credit_id': '58920f0b9251412dd7009104', 'department': 'Crew', 'gender': 2, 'id': 12890, 'job': 'Supervising Animator', 'name': 'Pete Docter', 'profile_path': '/r6ngPgnReA3RHmKjmSoVsc6Awjp.jpg'}, {'credit_id': '58920f1fc3a3680977009021', 'department': 'Sound', 'gender': 2, 'id': 2216, 'job': 'Sound Designer', 'name': 'Gary Rydstrom', 'profile_path': '/jZpr1nVfO7lldWI0YtmP1FGw7Rj.jpg'}, {'credit_id': '58920f389251412dd700912d', 'department': 'Production', 'gender': 0, 'id': 12909, 'job': 'Production Supervisor', 'name': 'Karen Robert Jackson', 'profile_path': None}, {'credit_id': '58920fbd9251412dcb00969c', 'department': 'Crew', 'gender': 0, 'id': 953331, 'job': 'Executive Music Producer', 'name': 'Chris Montan', 'profile_path': None}, {'credit_id': '589210069251412dd7009219', 'department': 'Visual Effects', 'gender': 0, 'id': 7893, 'job': 'Animation Director', 'name': 'Rich Quade', 'profile_path': None}, {'credit_id': '589210329251412dcd00943b', 'department': 'Visual Effects', 'gender': 0, 'id': 8025, 'job': 'Animation', 'name': 'Michael Berenstein', 'profile_path': None}, {'credit_id': '5892103bc3a368096a009180', 'department': 'Visual Effects', 'gender': 0, 'id': 78009, 'job': 'Animation', 'name': 'Colin Brady', 'profile_path': None}, {'credit_id': '5892105dc3a3680968008db2', 'department': 'Visual Effects', 'gender': 0, 'id': 1748682, 'job': 'Animation', 'name': 'Davey Crockett Feiten', 'profile_path': None}, {'credit_id': '589210669251412dcd009466', 'department': 'Visual Effects', 'gender': 0, 'id': 1454030, 'job': 'Animation', 'name': 'Angie Glocka', 'profile_path': None}, {'credit_id': '5892107c9251412dd1009613', 'department': 'Visual Effects', 'gender': 0, 'id': 1748683, 'job': 'Animation', 'name': 'Rex Grignon', 'profile_path': None}, {'credit_id': '5892108ac3a3680973008d3f', 'department': 'Visual Effects', 'gender': 0, 'id': 1748684, 'job': 'Animation', 'name': 'Tom K. Gurney', 'profile_path': None}, {'credit_id': '58921093c3a3686348004477', 'department': 'Visual Effects', 'gender': 2, 'id': 8029, 'job': 'Animation', 'name': 'Jimmy Hayward', 'profile_path': '/lTDRpudEY7BDwTefXbXzMlmb0ui.jpg'}, {'credit_id': '5892109b9251412dcd0094b0', 'department': 'Visual Effects', 'gender': 0, 'id': 1426773, 'job': 'Animation', 'name': 'Hal T. Hickel', 'profile_path': None}, {'credit_id': '589210a29251412dc5009a29', 'department': 'Visual Effects', 'gender': 0, 'id': 8035, 'job': 'Animation', 'name': 'Karen Kiser', 'profile_path': None}, {'credit_id': '589210ccc3a3680977009191', 'department': 'Visual Effects', 'gender': 0, 'id': 1748688, 'job': 'Animation', 'name': 'Anthony B. LaMolinara', 'profile_path': None}, {'credit_id': '589210d7c3a3686b0a004c1f', 'department': 'Visual Effects', 'gender': 0, 'id': 587314, 'job': 'Animation', 'name': 'Guionne Leroy', 'profile_path': None}, {'credit_id': '589210e1c3a36809770091a7', 'department': 'Visual Effects', 'gender': 2, 'id': 7918, 'job': 'Animation', 'name': 'Bud Luckey', 'profile_path': '/pcCh7G19FKMNijmPQg1PMH1btic.jpg'}, {'credit_id': '589210ee9251412dc200978a', 'department': 'Visual Effects', 'gender': 0, 'id': 1748689, 'job': 'Animation', 'name': 'Les Major', 'profile_path': None}, {'credit_id': '589210fa9251412dc8009595', 'department': 'Visual Effects', 'gender': 2, 'id': 7892, 'job': 'Animation', 'name': 'Glenn McQueen', 'profile_path': None}, {'credit_id': '589211029251412dc8009598', 'department': 'Visual Effects', 'gender': 0, 'id': 555795, 'job': 'Animation', 'name': 'Mark Oftedal', 'profile_path': None}, {'credit_id': '5892110b9251412dc800959d', 'department': 'Visual Effects', 'gender': 2, 'id': 7882, 'job': 'Animation', 'name': 'Jeff Pidgeon', 'profile_path': '/yLddkg5HcgbJg00cS13GVBnP0HY.jpg'}, {'credit_id': '58921113c3a36863480044e4', 'department': 'Visual Effects', 'gender': 0, 'id': 8017, 'job': 'Animation', 'name': 'Jeff Pratt', 'profile_path': None}, {'credit_id': '5892111c9251412dcb0097e9', 'department': 'Visual Effects', 'gender': 0, 'id': 1184140, 'job': 'Animation', 'name': 'Steve Rabatich', 'profile_path': None}, {'credit_id': '58921123c3a36809700090f6', 'department': 'Visual Effects', 'gender': 0, 'id': 8049, 'job': 'Animation', 'name': 'Roger Rose', 'profile_path': None}, {'credit_id': '5892112b9251412dcb0097fb', 'department': 'Visual Effects', 'gender': 0, 'id': 1509559, 'job': 'Animation', 'name': 'Steve Segal', 'profile_path': None}, {'credit_id': '589211349251412dc80095c3', 'department': 'Visual Effects', 'gender': 0, 'id': 1748691, 'job': 'Animation', 'name': 'Doug Sheppeck', 'profile_path': None}, {'credit_id': '5892113cc3a3680970009106', 'department': 'Visual Effects', 'gender': 0, 'id': 8050, 'job': 'Animation', 'name': 'Alan Sperling', 'profile_path': None}, {'credit_id': '58921148c3a3686b0a004c99', 'department': 'Visual Effects', 'gender': 0, 'id': 8010, 'job': 'Animation', 'name': 'Doug Sweetland', 'profile_path': None}, {'credit_id': '58921150c3a3680966009125', 'department': 'Visual Effects', 'gender': 0, 'id': 8044, 'job': 'Animation', 'name': 'David Tart', 'profile_path': None}, {'credit_id': '589211629251412dc5009b00', 'department': 'Visual Effects', 'gender': 0, 'id': 1454034, 'job': 'Animation', 'name': 'Ken Willard', 'profile_path': None}, {'credit_id': '589211c1c3a3686b0a004d28', 'department': 'Visual Effects', 'gender': 0, 'id': 7887, 'job': 'Visual Effects Supervisor', 'name': 'Thomas Porter', 'profile_path': None}, {'credit_id': '589211d4c3a3680968008ed9', 'department': 'Visual Effects', 'gender': 0, 'id': 1406878, 'job': 'Visual Effects', 'name': 'Mark Thomas Henne', 'profile_path': None}, {'credit_id': '589211f59251412dd4008e65', 'department': 'Visual Effects', 'gender': 0, 'id': 1748698, 'job': 'Visual Effects', 'name': 'Oren Jacob', 'profile_path': None}, {'credit_id': '58921242c3a368096a00939b', 'department': 'Visual Effects', 'gender': 0, 'id': 1748699, 'job': 'Visual Effects', 'name': 'Darwyn Peachey', 'profile_path': None}, {'credit_id': '5892124b9251412dc5009bd2', 'department': 'Visual Effects', 'gender': 0, 'id': 1748701, 'job': 'Visual Effects', 'name': 'Mitch Prater', 'profile_path': None}, {'credit_id': '58921264c3a3686b0a004dbf', 'department': 'Visual Effects', 'gender': 0, 'id': 1748703, 'job': 'Visual Effects', 'name': 'Brian M. Rosen', 'profile_path': None}, {'credit_id': '589212709251412dcd009676', 'department': 'Lighting', 'gender': 1, 'id': 12912, 'job': 'Lighting Supervisor', 'name': 'Sharon Calahan', 'profile_path': None}, {'credit_id': '5892127fc3a3686b0a004de5', 'department': 'Lighting', 'gender': 0, 'id': 7899, 'job': 'Lighting Supervisor', 'name': 'Galyn Susman', 'profile_path': None}, {'credit_id': '589212cdc3a3680970009268', 'department': 'Visual Effects', 'gender': 0, 'id': 12915, 'job': 'CG Painter', 'name': 'William Cone', 'profile_path': None}, {'credit_id': '5892130f9251412dc8009791', 'department': 'Art', 'gender': 0, 'id': 1748705, 'job': 'Sculptor', 'name': 'Shelley Daniels Lekven', 'profile_path': None}, {'credit_id': '5892131c9251412dd4008f4c', 'department': 'Visual Effects', 'gender': 2, 'id': 7889, 'job': 'Character Designer', 'name': 'Bob Pauley', 'profile_path': None}, {'credit_id': '589213249251412dd100987b', 'department': 'Visual Effects', 'gender': 2, 'id': 7918, 'job': 'Character Designer', 'name': 'Bud Luckey', 'profile_path': '/pcCh7G19FKMNijmPQg1PMH1btic.jpg'}, {'credit_id': '5892132b9251412dc80097b1', 'department': 'Visual Effects', 'gender': 2, 'id': 7, 'job': 'Character Designer', 'name': 'Andrew Stanton', 'profile_path': '/pvQWsu0qc8JFQhMVJkTHuexUAa1.jpg'}, {'credit_id': '58921332c3a368634800467b', 'department': 'Visual Effects', 'gender': 0, 'id': 12915, 'job': 'Character Designer', 'name': 'William Cone', 'profile_path': None}, {'credit_id': '5892135f9251412dd4008f90', 'department': 'Visual Effects', 'gender': 0, 'id': 1748706, 'job': 'Character Designer', 'name': 'Steve Johnson', 'profile_path': None}, {'credit_id': '58921384c3a3680973008fd4', 'department': 'Visual Effects', 'gender': 0, 'id': 1176752, 'job': 'Character Designer', 'name': 'Dan Haskett', 'profile_path': None}, {'credit_id': '5892138e9251412dc20099fc', 'department': 'Visual Effects', 'gender': 0, 'id': 1088034, 'job': 'Character Designer', 'name': 'Tom Holloway', 'profile_path': '/a0r0T2usTBpgMI5aZbRBDW1fTl8.jpg'}, {'credit_id': '58921395c3a368097700942f', 'department': 'Visual Effects', 'gender': 0, 'id': 1447465, 'job': 'Character Designer', 'name': 'Jean Gillmore', 'profile_path': None}, {'credit_id': '589213e2c3a3680973009026', 'department': 'Directing', 'gender': 0, 'id': 1748709, 'job': 'Layout', 'name': 'Desirée Mourad', 'profile_path': None}, {'credit_id': '589214099251412dc5009d57', 'department': 'Art', 'gender': 0, 'id': 1748710, 'job': 'Set Dresser', 'name': \"Kelly O'Connell\", 'profile_path': None}, {'credit_id': '58921411c3a3686b0a004f70', 'department': 'Art', 'gender': 0, 'id': 1443471, 'job': 'Set Dresser', 'name': 'Sonoko Konishi', 'profile_path': None}, {'credit_id': '58921434c3a368096a00956e', 'department': 'Art', 'gender': 0, 'id': 1748711, 'job': 'Set Dresser', 'name': 'Ann M. Rockwell', 'profile_path': None}, {'credit_id': '5892144ac3a36809680090de', 'department': 'Editing', 'gender': 0, 'id': 1748712, 'job': 'Editorial Manager', 'name': 'Julie M. McDonald', 'profile_path': None}, {'credit_id': '58921479c3a368096800910f', 'department': 'Editing', 'gender': 0, 'id': 1589729, 'job': 'Assistant Editor', 'name': 'Robin Lee', 'profile_path': None}, {'credit_id': '5892148b9251412dd10099cc', 'department': 'Editing', 'gender': 0, 'id': 1748716, 'job': 'Assistant Editor', 'name': 'Tom Freeman', 'profile_path': None}, {'credit_id': '589214959251412dcb009b1f', 'department': 'Editing', 'gender': 0, 'id': 1748717, 'job': 'Assistant Editor', 'name': 'Ada Cochavi', 'profile_path': None}, {'credit_id': '5892149ec3a3686348004798', 'department': 'Editing', 'gender': 0, 'id': 1336438, 'job': 'Assistant Editor', 'name': 'Dana Mulligan', 'profile_path': None}, {'credit_id': '589214adc3a368096a0095db', 'department': 'Editing', 'gender': 0, 'id': 1748718, 'job': 'Editorial Coordinator', 'name': 'Deirdre Morrison', 'profile_path': None}, {'credit_id': '589214c7c3a368097700952b', 'department': 'Production', 'gender': 0, 'id': 1748719, 'job': 'Production Coordinator', 'name': 'Lori Lombardo', 'profile_path': None}, {'credit_id': '589214cec3a368096a009603', 'department': 'Production', 'gender': 0, 'id': 1748720, 'job': 'Production Coordinator', 'name': 'Ellen Devine', 'profile_path': None}, {'credit_id': '589214e39251412dc8009904', 'department': 'Crew', 'gender': 0, 'id': 1468014, 'job': 'Unit Publicist', 'name': 'Lauren Beth Strogoff', 'profile_path': None}, {'credit_id': '58921544c3a3686b0a00507d', 'department': 'Sound', 'gender': 2, 'id': 2216, 'job': 'Sound Re-Recording Mixer', 'name': 'Gary Rydstrom', 'profile_path': '/jZpr1nVfO7lldWI0YtmP1FGw7Rj.jpg'}, {'credit_id': '5892154c9251412dd1009a56', 'department': 'Sound', 'gender': 0, 'id': 1425978, 'job': 'Sound Re-Recording Mixer', 'name': 'Gary Summers', 'profile_path': None}, {'credit_id': '58921555c3a36809680091bd', 'department': 'Sound', 'gender': 2, 'id': 8276, 'job': 'Supervising Sound Editor', 'name': 'Tim Holland', 'profile_path': None}, {'credit_id': '589215c39251412dcb009c12', 'department': 'Sound', 'gender': 0, 'id': 7069, 'job': 'Sound Effects Editor', 'name': 'Pat Jackson', 'profile_path': None}, {'credit_id': '58921698c3a368096a009788', 'department': 'Crew', 'gender': 2, 'id': 15894, 'job': 'Sound Design Assistant', 'name': 'Tom Myers', 'profile_path': None}, {'credit_id': '589216a89251412dc2009ca4', 'department': 'Sound', 'gender': 0, 'id': 1414177, 'job': 'Assistant Sound Editor', 'name': 'J.R. Grubbs', 'profile_path': None}, {'credit_id': '589216c19251412dc2009cb9', 'department': 'Sound', 'gender': 1, 'id': 1748724, 'job': 'Assistant Sound Editor', 'name': 'Susan Sanford', 'profile_path': None}, {'credit_id': '589216ccc3a3680973009274', 'department': 'Sound', 'gender': 0, 'id': 1748725, 'job': 'Assistant Sound Editor', 'name': 'Susan Popovic', 'profile_path': None}, {'credit_id': '589216d79251412dc8009aa0', 'department': 'Sound', 'gender': 0, 'id': 8067, 'job': 'Assistant Sound Editor', 'name': 'Dan Engstrom', 'profile_path': None}, {'credit_id': '589216e49251412dcd009a4f', 'department': 'Production', 'gender': 1, 'id': 7902, 'job': 'Casting Consultant', 'name': 'Ruth Lambert', 'profile_path': None}, {'credit_id': '589216f39251412dc2009cf3', 'department': 'Production', 'gender': 0, 'id': 84493, 'job': 'ADR Voice Casting', 'name': 'Mickie McGowan', 'profile_path': '/k7TjJBfINsg8vLQxJwos6XObAD6.jpg'}]|862  |\n",
            "|[{'cast_id': 1, 'character': 'Alan Parrish', 'credit_id': '52fe44bfc3a36847f80a7c73', 'gender': 2, 'id': 2157, 'name': 'Robin Williams', 'order': 0, 'profile_path': '/sojtJyIV3lkUeThD7A2oHNm8183.jpg'}, {'cast_id': 8, 'character': 'Samuel Alan Parrish / Van Pelt', 'credit_id': '52fe44bfc3a36847f80a7c99', 'gender': 2, 'id': 8537, 'name': 'Jonathan Hyde', 'order': 1, 'profile_path': '/7il5D76vx6QVRVlpVvBPEC40MBi.jpg'}, {'cast_id': 2, 'character': 'Judy Sheperd', 'credit_id': '52fe44bfc3a36847f80a7c77', 'gender': 1, 'id': 205, 'name': 'Kirsten Dunst', 'order': 2, 'profile_path': '/wBXvh6PJd0IUVNpvatPC1kzuHtm.jpg'}, {'cast_id': 24, 'character': 'Peter Shepherd', 'credit_id': '52fe44c0c3a36847f80a7ce7', 'gender': 0, 'id': 145151, 'name': 'Bradley Pierce', 'order': 3, 'profile_path': '/j6iW0vVA23GQniAPSYI6mi4hiEW.jpg'}, {'cast_id': 10, 'character': 'Sarah Whittle', 'credit_id': '52fe44bfc3a36847f80a7c9d', 'gender': 1, 'id': 5149, 'name': 'Bonnie Hunt', 'order': 4, 'profile_path': '/7spiVQwmr8siw5QCcvvdRG3c7Lf.jpg'}, {'cast_id': 25, 'character': 'Nora Shepherd', 'credit_id': '52fe44c0c3a36847f80a7ceb', 'gender': 1, 'id': 10739, 'name': 'Bebe Neuwirth', 'order': 5, 'profile_path': '/xm58rpMRVDHS0IGttw1pTlqGwkN.jpg'}, {'cast_id': 26, 'character': 'Carl Bentley', 'credit_id': '52fe44c0c3a36847f80a7cef', 'gender': 2, 'id': 58563, 'name': 'David Alan Grier', 'order': 6, 'profile_path': '/5tkt3qRZTco4sz604aTIarQ0m8W.jpg'}, {'cast_id': 11, 'character': 'Carol Anne Parrish', 'credit_id': '52fe44bfc3a36847f80a7ca1', 'gender': 1, 'id': 1276, 'name': 'Patricia Clarkson', 'order': 7, 'profile_path': '/10ZSyaUqzUlKTd60HmeiGhlytZG.jpg'}, {'cast_id': 14, 'character': 'Alan Parrish (young)', 'credit_id': '52fe44bfc3a36847f80a7cad', 'gender': 0, 'id': 46530, 'name': 'Adam Hann-Byrd', 'order': 8, 'profile_path': '/hEoqDqtMO91hYWD5iDrDesnLDlt.jpg'}, {'cast_id': 13, 'character': 'Sarah Whittle (young)', 'credit_id': '52fe44bfc3a36847f80a7ca9', 'gender': 1, 'id': 56523, 'name': 'Laura Bell Bundy', 'order': 9, 'profile_path': '/8tAVDBRoZPjKfCbBDyh4iK9JNEp.jpg'}, {'cast_id': 31, 'character': 'Exterminator', 'credit_id': '52fe44c0c3a36847f80a7cff', 'gender': 2, 'id': 51551, 'name': 'James Handy', 'order': 10, 'profile_path': '/vm0WQmuP8jEGgFTd3VCcJe7zpUi.jpg'}, {'cast_id': 12, 'character': 'Mrs. Thomas the Realtor', 'credit_id': '52fe44bfc3a36847f80a7ca5', 'gender': 1, 'id': 56522, 'name': 'Gillian Barber', 'order': 11, 'profile_path': '/qoqPX15J5jh6Sy0A9JvvRJIuw64.jpg'}, {'cast_id': 28, 'character': 'Benjamin', 'credit_id': '52fe44c0c3a36847f80a7cf3', 'gender': 2, 'id': 1000304, 'name': 'Brandon Obray', 'order': 12, 'profile_path': None}, {'cast_id': 29, 'character': 'Caleb', 'credit_id': '52fe44c0c3a36847f80a7cf7', 'gender': 0, 'id': 188949, 'name': 'Cyrus Thiedeke', 'order': 13, 'profile_path': None}, {'cast_id': 30, 'character': 'Billy Jessup', 'credit_id': '52fe44c0c3a36847f80a7cfb', 'gender': 0, 'id': 1076551, 'name': 'Gary Joseph Thorup', 'order': 14, 'profile_path': None}, {'cast_id': 32, 'character': 'Cop', 'credit_id': '5588053fc3a36838530063f5', 'gender': 0, 'id': 1480246, 'name': 'Leonard Zola', 'order': 15, 'profile_path': None}, {'cast_id': 33, 'character': 'Bum', 'credit_id': '55935687925141645a002097', 'gender': 2, 'id': 25024, 'name': 'Lloyd Berry', 'order': 16, 'profile_path': '/s7SVCOtvcuQ9wRQPZfUdahb5x88.jpg'}, {'cast_id': 34, 'character': 'Jim Shepherd', 'credit_id': '559356d09251415df8002cb7', 'gender': 2, 'id': 27110, 'name': 'Malcolm Stewart', 'order': 17, 'profile_path': '/l2vgzkLR7GRr8ugjZCILA0OiliI.jpg'}, {'cast_id': 35, 'character': 'Martha Shepherd', 'credit_id': '55935730925141645a0020ad', 'gender': 0, 'id': 53715, 'name': 'Annabel Kershaw', 'order': 18, 'profile_path': '/1VqbvAohBwFhETZtDe76JXQcxKm.jpg'}, {'cast_id': 36, 'character': 'Gun Salesman', 'credit_id': '5593576992514167fd000610', 'gender': 2, 'id': 1379424, 'name': 'Darryl Henriques', 'order': 19, 'profile_path': '/7QMHooY9ewNQlE24WKAOdwW0evU.jpg'}, {'cast_id': 37, 'character': 'Paramedic', 'credit_id': '559357ae92514152de002f42', 'gender': 0, 'id': 1235504, 'name': 'Robyn Driscoll', 'order': 20, 'profile_path': None}, {'cast_id': 50, 'character': 'Paramedic', 'credit_id': '5657803b925141018f00a5dc', 'gender': 2, 'id': 25389, 'name': 'Peter Bryant', 'order': 21, 'profile_path': '/fkcx9Tnp25UC5HlI2eW3nGvumsZ.jpg'}, {'cast_id': 39, 'character': 'Girl', 'credit_id': '559358e292514152de002f63', 'gender': 0, 'id': 1483449, 'name': 'Sarah Gilson', 'order': 22, 'profile_path': None}, {'cast_id': 40, 'character': 'Girl', 'credit_id': '5593590d92514152db002df3', 'gender': 0, 'id': 1483450, 'name': 'Florica Vlad', 'order': 23, 'profile_path': None}, {'cast_id': 41, 'character': 'Baker', 'credit_id': '55935946c3a36869d1001b4d', 'gender': 0, 'id': 1483451, 'name': 'June Lion', 'order': 24, 'profile_path': None}, {'cast_id': 42, 'character': 'Pianist', 'credit_id': '5593597692514167fd000644', 'gender': 0, 'id': 1483452, 'name': 'Brenda Lockmuller', 'order': 25, 'profile_path': None}]|[{'credit_id': '52fe44bfc3a36847f80a7cd1', 'department': 'Production', 'gender': 2, 'id': 511, 'job': 'Executive Producer', 'name': 'Larry J. Franco', 'profile_path': None}, {'credit_id': '52fe44bfc3a36847f80a7c89', 'department': 'Writing', 'gender': 2, 'id': 876, 'job': 'Screenplay', 'name': 'Jonathan Hensleigh', 'profile_path': '/l1c4UFD3g0HVWj5f0CxXAvMAGiT.jpg'}, {'credit_id': '52fe44bfc3a36847f80a7cdd', 'department': 'Sound', 'gender': 2, 'id': 1729, 'job': 'Original Music Composer', 'name': 'James Horner', 'profile_path': '/oLOtXxXsYk8X4qq0ud4xVypXudi.jpg'}, {'credit_id': '52fe44bfc3a36847f80a7c7d', 'department': 'Directing', 'gender': 2, 'id': 4945, 'job': 'Director', 'name': 'Joe Johnston', 'profile_path': '/fok4jaO62v5IP6hkpaaAcXuw2H.jpg'}, {'credit_id': '52fe44bfc3a36847f80a7cd7', 'department': 'Editing', 'gender': 2, 'id': 4951, 'job': 'Editor', 'name': 'Robert Dalva', 'profile_path': None}, {'credit_id': '573523bec3a368025100062c', 'department': 'Production', 'gender': 0, 'id': 4952, 'job': 'Casting', 'name': 'Nancy Foy', 'profile_path': '/blCkmS4dqNsbPGuQfozHE6wgWBw.jpg'}, {'credit_id': '5722a924c3a3682d1e000b41', 'department': 'Visual Effects', 'gender': 0, 'id': 8023, 'job': 'Animation Supervisor', 'name': 'Kyle Balda', 'profile_path': '/jR8iAP6uC0V42KbUG87qBIUO3Hj.jpg'}, {'credit_id': '52fe44c0c3a36847f80a7ce3', 'department': 'Art', 'gender': 2, 'id': 9967, 'job': 'Production Design', 'name': 'James D. Bissell', 'profile_path': None}, {'credit_id': '52fe44bfc3a36847f80a7cb9', 'department': 'Production', 'gender': 2, 'id': 9184, 'job': 'Producer', 'name': 'Scott Kroopf', 'profile_path': None}, {'credit_id': '52fe44bfc3a36847f80a7ccb', 'department': 'Production', 'gender': 2, 'id': 9196, 'job': 'Executive Producer', 'name': 'Ted Field', 'profile_path': '/qmB7sZcgRUq7mRFBSTlSsVXh7sH.jpg'}, {'credit_id': '52fe44bfc3a36847f80a7cc5', 'department': 'Production', 'gender': 2, 'id': 18389, 'job': 'Executive Producer', 'name': 'Robert W. Cort', 'profile_path': None}, {'credit_id': '52fe44bfc3a36847f80a7cbf', 'department': 'Camera', 'gender': 2, 'id': 11371, 'job': 'Director of Photography', 'name': 'Thomas E. Ackerman', 'profile_path': '/xFDbxk53icM1ofL4iCIwB4GkUxN.jpg'}, {'credit_id': '52fe44bfc3a36847f80a7c83', 'department': 'Writing', 'gender': 2, 'id': 42356, 'job': 'Novel', 'name': 'Chris van Allsburg', 'profile_path': None}, {'credit_id': '52fe44bfc3a36847f80a7cb3', 'department': 'Production', 'gender': 2, 'id': 42357, 'job': 'Producer', 'name': 'William Teitler', 'profile_path': None}, {'credit_id': '52fe44bfc3a36847f80a7c8f', 'department': 'Writing', 'gender': 2, 'id': 56520, 'job': 'Screenplay', 'name': 'Greg Taylor', 'profile_path': None}, {'credit_id': '52fe44bfc3a36847f80a7c95', 'department': 'Writing', 'gender': 2, 'id': 56521, 'job': 'Screenplay', 'name': 'Jim Strain', 'profile_path': None}]                                                                                                                                                                                                                                                                                                                                                                                                                                                                                                                                                                                                                                                                                                                                                                                                                                                                                                                                                                                                                                                                                                                                                                                                                                                                                                                                                                                                                                                                                                                                                                                                                                                                                                                                                                                                                                                                                                                                                                                                                                                                                                                                                                                                                                                                                                                                                                                                                                                                                                                                                                                                                                                                                                                                                                                                                                                                                                                                                                                                                                                                                                                                                                                                                                                                                                                                                                                                                                                                                                                                                                                                                                                                                                                                                                                                                                                                                                                                                                                                                                                                                                                                                                                                                                                                                                                                                                                                                                                                                                                                                                                                                                                                                                                                                                                                                                                                                                                                                                                                                                                                                                                                                                                                                                                                                                                                                                                                                                                                                                                                                                                                                                                                                                                                                                                                                                                                                                                                                                                                                                                                                                                                                                                                                                                                                                                                                                                                                                                                                                                                                                                                                                                                                                                                                                                                                                                                                                                                                                                                                                                                                                                                                                                                                                                                                                                                                                                                                                                                                                                                                                                                                                                                                                                                                                                                                                                                                                                                                                                                                                                                                                                                                                                                                                                                                                                                                                                                                                                                                                                                                                                                                                                                                                                                                                                                                                                                                                                                                                                                                                                                                                                                                                                                                                                                                                                                                                                                                                                                                                                                                                                                                                                                                                                                                                                                                                                                                                                                                                                                                                                                                                                                                                                                                                                                                                                                                                                                                                                                                                                                                                                                                                                                                                                                                                                                                                                                                                                                                                                                                                                                                                                                                                                                                                                                                                                                                                                                                                                                                                                                                                                                                                                                                                                                                                                                                                                                                                                                                                                                                                                                                                                                                                                                                                                                                                                                                                                                                                                                                                                                                                                                                                                                                                                                                                                                                                                                                                                                                                                                                                                                                                                                                                                                                                                                                                                                                                                                                                                                                                                                                                                                                                                                                                                                                                                                                                                                                                                                                                                                                                                                                                                                                                                                                                                                                                                                                                                                                                                                                                                                                                                                                                                                                                                                                                                                                                                                                                                                                                                                                                                                                                                                                                                                                                                                                                                                                                                                                                                                                                                                                                                                                                                                                                                                                                                                                                                                                                                                                                                                                                                                                                                                                                                                                                                                                                                                                                                                                                                 |8844 |\n",
            "|[{'cast_id': 2, 'character': 'Max Goldman', 'credit_id': '52fe466a9251416c75077a8d', 'gender': 2, 'id': 6837, 'name': 'Walter Matthau', 'order': 0, 'profile_path': '/xJVkvprOnzP5Zdh5y63y8HHniDZ.jpg'}, {'cast_id': 3, 'character': 'John Gustafson', 'credit_id': '52fe466a9251416c75077a91', 'gender': 2, 'id': 3151, 'name': 'Jack Lemmon', 'order': 1, 'profile_path': '/chZmNRYMtqkiDlatprGDH4BzGqG.jpg'}, {'cast_id': 4, 'character': 'Ariel Gustafson', 'credit_id': '52fe466a9251416c75077a95', 'gender': 1, 'id': 13567, 'name': 'Ann-Margret', 'order': 2, 'profile_path': '/jx5lTaJ5VXZHYB52gaOTAZ9STZk.jpg'}, {'cast_id': 5, 'character': 'Maria Sophia Coletta Ragetti', 'credit_id': '52fe466a9251416c75077a99', 'gender': 1, 'id': 16757, 'name': 'Sophia Loren', 'order': 3, 'profile_path': '/emKLhbji1c7BjcA2DdbWf0EP9zH.jpg'}, {'cast_id': 6, 'character': 'Melanie Gustafson', 'credit_id': '52fe466a9251416c75077a9d', 'gender': 1, 'id': 589, 'name': 'Daryl Hannah', 'order': 4, 'profile_path': '/4LLmp6AQdlj6ueGCRbVRSGvvFSt.jpg'}, {'cast_id': 9, 'character': 'Grandpa Gustafson', 'credit_id': '53e5fcc2c3a3684430000d65', 'gender': 2, 'id': 16523, 'name': 'Burgess Meredith', 'order': 5, 'profile_path': '/lm98oKloU33Q7QDIIMSyc4Pr2jA.jpg'}, {'cast_id': 10, 'character': 'Jacob Goldman', 'credit_id': '53e5fcd4c3a3684433000e1a', 'gender': 2, 'id': 7166, 'name': 'Kevin Pollak', 'order': 6, 'profile_path': '/kwu2T8CDnThZTzE88uiSgJ5eHXf.jpg'}]                                                                                                                                                                                                                                                                                                                                                                                                                                                                                                                                                                                                                                                                                                                                                                                                                                                                                                                                                                                                                                                                                                                                                                                                                                                                                                                                                                                                                                                                                                                                                                                                                                                                                                                                                                                                                                                                                                                                                                                                                                                                                                                                                                                                                                                                                                                                                                                                                                                                                                                                                                                                                                                                                                                                                                                                                                                                                                                                                                                                                                                                                                                                                                                                                                                                                                                                                                                                                                                                                                                                                                                                                                                                                                                                        |[{'credit_id': '52fe466a9251416c75077a89', 'department': 'Directing', 'gender': 2, 'id': 26502, 'job': 'Director', 'name': 'Howard Deutch', 'profile_path': '/68Vae1HkU1NxQZ6KEmuxIpno7c9.jpg'}, {'credit_id': '52fe466b9251416c75077aa3', 'department': 'Writing', 'gender': 2, 'id': 16837, 'job': 'Characters', 'name': 'Mark Steven Johnson', 'profile_path': '/6trChNn3o2bi4i2ipgMEAytwmZp.jpg'}, {'credit_id': '52fe466b9251416c75077aa9', 'department': 'Writing', 'gender': 2, 'id': 16837, 'job': 'Writer', 'name': 'Mark Steven Johnson', 'profile_path': '/6trChNn3o2bi4i2ipgMEAytwmZp.jpg'}, {'credit_id': '5675eb4b92514179dd003933', 'department': 'Crew', 'gender': 2, 'id': 1551320, 'job': 'Sound Recordist', 'name': 'Jack Keller', 'profile_path': None}]                                                                                                                                                                                                                                                                                                                                                                                                                                                                                                                                                                                                                                                                                                                                                                                                                                                                                                                                                                                                                                                                                                                                                                                                                                                                                                                                                                                                                                                                                                                                                                                                                                                                                                                                                                                                                                                                                                                                                                                                                                                                                                                                                                                                                                                                                                                                                                                                                                                                                                                                                                                                                                                                                                                                                                                                                                                                                                                                                                                                                                                                                                                                                                                                                                                                                                                                                                                                                                                                                                                                                                                                                                                                                                                                                                                                                                                                                                                                                                                                                                                                                                                                                                                                                                                                                                                                                                                                                                                                                                                                                                                                                                                                                                                                                                                                                                                                                                                                                                                                                                                                                                                                                                                                                                                                                                                                                                                                                                                                                                                                                                                                                                                                                                                                                                                                                                                                                                                                                                                                                                                                                                                                                                                                                                                                                                                                                                                                                                                                                                                                                                                                                                                                                                                                                                                                                                                                                                                                                                                                                                                                                                                                                                                                                                                                                                                                                                                                                                                                                                                                                                                                                                                                                                                                                                                                                                                                                                                                                                                                                                                                                                                                                                                                                                                                                                                                                                                                                                                                                                                                                                                                                                                                                                                                                                                                                                                                                                                                                                                                                                                                                                                                                                                                                                                                                                                                                                                                                                                                                                                                                                                                                                                                                                                                                                                                                                                                                                                                                                                                                                                                                                                                                                                                                                                                                                                                                                                                                                                                                                                                                                                                                                                                                                                                                                                                                                                                                                                                                                                                                                                                                                                                                                                                                                                                                                                                                                                                                                                                                                                                                                                                                                                                                                                                                                                                                                                                                                                                                                                                                                                                                                                                                                                                                                                                                                                                                                                                                                                                                                                                                                                                                                                                                                                                                                                                                                                                                                                                                                                                                                                                                                                                                                                                                                                                                                                                                                                                                                                                                                                                                                                                                                                                                                                                                                                                                                                                                                                                                                                                                                                                                                                                                                                                                                                                                                                                                                                                                                                                                                                                                                                                                                                                                                                                                                                                                                                                                                                                                                                                                                                                                                                                                                                                                                                                                                                                                                                                                                                                                                                                                                                                                                                                                                                                                                                                                                                                                                                                                                                                                                                                                                                                                                                                                                                                                                                                                                                                                                                                                                                                                                                                                                                                                                                                                                                                                                                                                                                                                                                                                                                                                                                                                                                                                                                                                                                                                                                                                                                                                                                                                                                                                                                                                                                                                                                                                                                                                                                                                                                                                                                                                                                                                                                                                                                                                                                                                                                                                                                                                                                                                                                                                                                  |15602|\n",
            "|[{'cast_id': 1, 'character': \"Savannah 'Vannah' Jackson\", 'credit_id': '52fe44779251416c91011aad', 'gender': 1, 'id': 8851, 'name': 'Whitney Houston', 'order': 0, 'profile_path': '/69ouDnXnmklYPr4sMJXWKYz81AL.jpg'}, {'cast_id': 2, 'character': \"Bernadine 'Bernie' Harris\", 'credit_id': '52fe44779251416c91011ab1', 'gender': 1, 'id': 9780, 'name': 'Angela Bassett', 'order': 1, 'profile_path': '/tHkgSzhEuJKp5hqp0DZLad8HNZ9.jpg'}, {'cast_id': 3, 'character': \"Gloria 'Glo' Matthews\", 'credit_id': '52fe44779251416c91011ab5', 'gender': 1, 'id': 18284, 'name': 'Loretta Devine', 'order': 2, 'profile_path': '/zLQFwQTFtHkb8sbFdkPNamFI7jv.jpg'}, {'cast_id': 4, 'character': 'Robin Stokes', 'credit_id': '52fe44779251416c91011ab9', 'gender': 1, 'id': 51359, 'name': 'Lela Rochon', 'order': 3, 'profile_path': '/9DBu3r5O4fBosSS4FnSzFCVpm0O.jpg'}, {'cast_id': 5, 'character': 'Marvin King', 'credit_id': '52fe44779251416c91011abd', 'gender': 2, 'id': 66804, 'name': 'Gregory Hines', 'order': 4, 'profile_path': '/rvvQWFQGeGR14WFVNe0Qg1J7uVY.jpg'}, {'cast_id': 6, 'character': 'Kenneth Dawkins', 'credit_id': '52fe44779251416c91011ac1', 'gender': 2, 'id': 352, 'name': 'Dennis Haysbert', 'order': 5, 'profile_path': '/mn5Nc5Q31GslpVVWs8p41W4TBma.jpg'}, {'cast_id': 8, 'character': 'John Harris, Sr.', 'credit_id': '52fe44779251416c91011ac5', 'gender': 2, 'id': 87118, 'name': 'Michael Beach', 'order': 6, 'profile_path': '/lOlWhURNKyZHn71dvq7qC7fiwN6.jpg'}, {'cast_id': 10, 'character': 'Troy', 'credit_id': '52fe44779251416c91011acf', 'gender': 2, 'id': 34, 'name': 'Mykelti Williamson', 'order': 7, 'profile_path': '/8TTxzpuvvpw2tB8xZBCDslYupNU.jpg'}, {'cast_id': 20, 'character': 'Joseph', 'credit_id': '56d1b15fc3a3681e4a008b6b', 'gender': 2, 'id': 1276777, 'name': 'Lamont Johnson', 'order': 8, 'profile_path': '/wfZzRPJBdsx62GbkUimc1PShxyC.jpg'}, {'cast_id': 21, 'character': 'James Wheeler', 'credit_id': '56f8a929c3a36816e80084f3', 'gender': 2, 'id': 10814, 'name': 'Wesley Snipes', 'order': 9, 'profile_path': '/hQ6EBa6vgu7HoZpzms8Y10VL5Iw.jpg'}]                                                                                                                                                                                                                                                                                                                                                                                                                                                                                                                                                                                                                                                                                                                                                                                                                                                                                                                                                                                                                                                                                                                                                                                                                                                                                                                                                                                                                                                                                                                                                                                                                                                                                                                                                                                                                                                                                                                                                                                                                                                                                                                                                                                                                                                                                                                                                                                                                                                                                                                                                                                                                                                                                                                                                                                                                                                                                                                                                                                                                                                                                                 |[{'credit_id': '52fe44779251416c91011acb', 'department': 'Directing', 'gender': 2, 'id': 2178, 'job': 'Director', 'name': 'Forest Whitaker', 'profile_path': '/4pMQkelS5lK661m9Kz3oIxLYiyS.jpg'}, {'credit_id': '52fe44779251416c91011ae1', 'department': 'Writing', 'gender': 0, 'id': 5144, 'job': 'Screenplay', 'name': 'Ronald Bass', 'profile_path': None}, {'credit_id': '52fe44779251416c91011ae7', 'department': 'Production', 'gender': 0, 'id': 5144, 'job': 'Producer', 'name': 'Ronald Bass', 'profile_path': None}, {'credit_id': '52fe44779251416c91011aff', 'department': 'Production', 'gender': 2, 'id': 21968, 'job': 'Producer', 'name': 'Ezra Swerdlow', 'profile_path': None}, {'credit_id': '52fe44779251416c91011af9', 'department': 'Production', 'gender': 1, 'id': 70592, 'job': 'Producer', 'name': 'Deborah Schindler', 'profile_path': '/2vFzdHxcB8cEtvPlNSs2VGZ7WG3.jpg'}, {'credit_id': '52fe44779251416c91011adb', 'department': 'Writing', 'gender': 0, 'id': 111118, 'job': 'Screenplay', 'name': 'Terry McMillan', 'profile_path': None}, {'credit_id': '52fe44779251416c91011af3', 'department': 'Production', 'gender': 0, 'id': 111118, 'job': 'Executive Producer', 'name': 'Terry McMillan', 'profile_path': None}, {'credit_id': '52fe44779251416c91011ad5', 'department': 'Writing', 'gender': 0, 'id': 111118, 'job': 'Novel', 'name': 'Terry McMillan', 'profile_path': None}, {'credit_id': '52fe44779251416c91011b05', 'department': 'Sound', 'gender': 2, 'id': 1079697, 'job': 'Original Music Composer', 'name': 'Kenneth Edmonds', 'profile_path': '/2EqVBaDGRA0sHkEKagu2NxfP1Nm.jpg'}, {'credit_id': '52fe44779251416c91011aed', 'department': 'Production', 'gender': 0, 'id': 1087695, 'job': 'Producer', 'name': 'Caron K', 'profile_path': None}]                                                                                                                                                                                                                                                                                                                                                                                                                                                                                                                                                                                                                                                                                                                                                                                                                                                                                                                                                                                                                                                                                                                                                                                                                                                                                                                                                                                                                                                                                                                                                                                                                                                                                                                                                                                                                                                                                                                                                                                                                                                                                                                                                                                                                                                                                                                                                                                                                                                                                                                                                                                                                                                                                                                                                                                                                                                                                                                                                                                                                                                                                                                                                                                                                                                                                                                                                                                                                                                                                                                                                                                                                                                                                                                                                                                                                                                                                                                                                                                                                                                                                                                                                                                                                                                                                                                                                                                                                                                                                                                                                                                                                                                                                                                                                                                                                                                                                                                                                                                                                                                                                                                                                                                                                                                                                                                                                                                                                                                                                                                                                                                                                                                                                                                                                                                                                                                                                                                                                                                                                                                                                                                                                                                                                                                                                                                                                                                                                                                                                                                                                                                                                                                                                                                                                                                                                                                                                                                                                                                                                                                                                                                                                                                                                                                                                                                                                                                                                                                                                                                                                                                                                                                                                                                                                                                                                                                                                                                                                                                                                                                                                                                                                                                                                                                                                                                                                                                                                                                                                                                                                                                                                                                                                                                                                                                                                                                                                                                                                                                                                                                                                                                                                                                                                                                                                                                                                                                                                                                                                                                                                                                                                                                                                                                                                                                                                                                                                                                                                                                                                                                                                                                                                                                                                                                                                                                                                                                                                                                                                                                                                                                                                                                                                                                                                                                                                                                                                                                                                                                                                                                                                                                                                                                                                                                                                                                                                                                                                                                                                                                                                                                                                                                                                                                                                                                                                                                                                                                                                                                                                                                                                                                                                                                                                                                                                                                                                                                                                                                                                                                                                                                                                                                                                                                                                                                                                                                                                                                                                                                                                                                                                                                                                                                                                                                                                                                                                                                                                                                                                                                                                                                                                                                                                                                                                                                                                                                                                                                                                                                                                                                                                                                                                                                                                                                                                                                                                                                                                                                                                                                                                                                                                                                                                                                                                                                                                                                                                                                                                                                                                                                                                                                                                                                                                                                                                                                                                                                                                                                                                                                                                                                                                                                                                                                                                                                                                                                                                                                                                                                                                                                                                                                                                                                                                                                                                                                                                                                                                                                                                                                                                                                                                                                                                                                                                                                                                                                                                                                                                                                                                                                                                                                                                                                                                                                                                                                                                                                                                                                                                                                                                                                                                      |31357|\n",
            "|[{'cast_id': 1, 'character': 'George Banks', 'credit_id': '52fe44959251416c75039eb9', 'gender': 2, 'id': 67773, 'name': 'Steve Martin', 'order': 0, 'profile_path': '/rI2EMvkfKKPKa5z0nM2pFVBtUyO.jpg'}, {'cast_id': 2, 'character': 'Nina Banks', 'credit_id': '52fe44959251416c75039ebd', 'gender': 1, 'id': 3092, 'name': 'Diane Keaton', 'order': 1, 'profile_path': '/fzgUMnbOkxC6E3EFcYHWHFaiKyp.jpg'}, {'cast_id': 3, 'character': 'Franck Eggelhoffer', 'credit_id': '52fe44959251416c75039ec1', 'gender': 2, 'id': 519, 'name': 'Martin Short', 'order': 2, 'profile_path': '/oZQorXBjTxrdkTJFpoDwOcQ91ji.jpg'}, {'cast_id': 4, 'character': 'Annie Banks-MacKenzie', 'credit_id': '52fe44959251416c75039ec5', 'gender': 1, 'id': 70696, 'name': 'Kimberly Williams-Paisley', 'order': 3, 'profile_path': '/nVp4F4VFqVvjh6huOULUQoiAguY.jpg'}, {'cast_id': 13, 'character': 'Bryan MacKenzie', 'credit_id': '52fe44959251416c75039ef3', 'gender': 2, 'id': 59222, 'name': 'George Newbern', 'order': 4, 'profile_path': '/48Ouqe1g8QrZ6qjvap5NvhfKuly.jpg'}, {'cast_id': 14, 'character': 'Matty Banks', 'credit_id': '52fe44959251416c75039ef7', 'gender': 0, 'id': 18793, 'name': 'Kieran Culkin', 'order': 5, 'profile_path': '/swcqQCMREeGCk6FAxIfczGpFBys.jpg'}, {'cast_id': 15, 'character': 'Howard Weinstein', 'credit_id': '52fe44959251416c75039efb', 'gender': 2, 'id': 14592, 'name': 'BD Wong', 'order': 6, 'profile_path': '/o8JUV37KWNorHOabp3zyD756oE3.jpg'}, {'cast_id': 16, 'character': 'John MacKenzie', 'credit_id': '52fe44959251416c75039eff', 'gender': 2, 'id': 20906, 'name': 'Peter Michael Goetz', 'order': 7, 'profile_path': '/a2hLcCidETgwlVyQnYy4kXVKUcn.jpg'}, {'cast_id': 17, 'character': 'Joanna MacKenzie', 'credit_id': '52fe44959251416c75039f03', 'gender': 1, 'id': 54348, 'name': 'Kate McGregor-Stewart', 'order': 8, 'profile_path': '/vsvdAmMZgX85AvnVFd4jigOUipZ.jpg'}, {'cast_id': 18, 'character': 'Dr. Megan Eisenberg', 'credit_id': '52fe44959251416c75039f07', 'gender': 1, 'id': 209, 'name': 'Jane Adams', 'order': 9, 'profile_path': '/HbQfL01xmV1psnh0WvldIBzDg3.jpg'}, {'cast_id': 19, 'character': 'Mr. Habib', 'credit_id': '52fe44959251416c75039f0b', 'gender': 2, 'id': 26510, 'name': 'Eugene Levy', 'order': 10, 'profile_path': '/69IBiDjU1gSqtrcGOA7PA7aEYsc.jpg'}, {'cast_id': 20, 'character': 'Wife Mrs. Habib', 'credit_id': '57ffa654c3a3681552000277', 'gender': 1, 'id': 24358, 'name': 'Lori Alan', 'order': 11, 'profile_path': '/mNfJWzuaKgkIaK7CuirXOMosd2h.jpg'}]                                                                                                                                                                                                                                                                                                                                                                                                                                                                                                                                                                                                                                                                                                                                                                                                                                                                                                                                                                                                                                                                                                                                                                                                                                                                                                                                                                                                                                                                                                                                                                                                                                                                                                                                                                                                                                                                                                                                                                                                                                                                                                                                                                                                                                                                                                                                                                                                                                                                                                                                                                                                                                                                      |[{'credit_id': '52fe44959251416c75039ed7', 'department': 'Sound', 'gender': 2, 'id': 37, 'job': 'Original Music Composer', 'name': 'Alan Silvestri', 'profile_path': '/chEsfnDEtRmv1bfOaNAoVEzhCc6.jpg'}, {'credit_id': '52fe44959251416c75039ee9', 'department': 'Camera', 'gender': 2, 'id': 5506, 'job': 'Director of Photography', 'name': 'Elliot Davis', 'profile_path': None}, {'credit_id': '52fe44959251416c75039ecb', 'department': 'Writing', 'gender': 1, 'id': 17698, 'job': 'Screenplay', 'name': 'Nancy Meyers', 'profile_path': '/nMPHU06dnvVxEjjcnPCPUQgQ2Mp.jpg'}, {'credit_id': '52fe44959251416c75039edd', 'department': 'Production', 'gender': 1, 'id': 17698, 'job': 'Producer', 'name': 'Nancy Meyers', 'profile_path': '/nMPHU06dnvVxEjjcnPCPUQgQ2Mp.jpg'}, {'credit_id': '52fe44959251416c75039ed1', 'department': 'Writing', 'gender': 2, 'id': 26160, 'job': 'Screenplay', 'name': 'Albert Hackett', 'profile_path': None}, {'credit_id': '52fe44959251416c75039eef', 'department': 'Directing', 'gender': 2, 'id': 56106, 'job': 'Director', 'name': 'Charles Shyer', 'profile_path': '/hnWGd74CbmTcDCFQiJ8SYLazIXW.jpg'}, {'credit_id': '52fe44959251416c75039ee3', 'department': 'Editing', 'gender': 2, 'id': 68755, 'job': 'Editor', 'name': 'Adam Bernardi', 'profile_path': None}]                                                                                                                                                                                                                                                                                                                                                                                                                                                                                                                                                                                                                                                                                                                                                                                                                                                                                                                                                                                                                                                                                                                                                                                                                                                                                                                                                                                                                                                                                                                                                                                                                                                                                                                                                                                                                                                                                                                                                                                                                                                                                                                                                                                                                                                                                                                                                                                                                                                                                                                                                                                                                                                                                                                                                                                                                                                                                                                                                                                                                                                                                                                                                                                                                                                                                                                                                                                                                                                                                                                                                                                                                                                                                                                                                                                                                                                                                                                                                                                                                                                                                                                                                                                                                                                                                                                                                                                                                                                                                                                                                                                                                                                                                                                                                                                                                                                                                                                                                                                                                                                                                                                                                                                                                                                                                                                                                                                                                                                                                                                                                                                                                                                                                                                                                                                                                                                                                                                                                                                                                                                                                                                                                                                                                                                                                                                                                                                                                                                                                                                                                                                                                                                                                                                                                                                                                                                                                                                                                                                                                                                                                                                                                                                                                                                                                                                                                                                                                                                                                                                                                                                                                                                                                                                                                                                                                                                                                                                                                                                                                                                                                                                                                                                                                                                                                                                                                                                                                                                                                                                                                                                                                                                                                                                                                                                                                                                                                                                                                                                                                                                                                                                                                                                                                                                                                                                                                                                                                                                                                                                                                                                                                                                                                                                                                                                                                                                                                                                                                                                                                                                                                                                                                                                                                                                                                                                                                                                                                                                                                                                                                                                                                                                                                                                                                                                                                                                                                                                                                                                                                                                                                                                                                                                                                                                                                                                                                                                                                                                                                                                                                                                                                                                                                                                                                                                                                                                                                                                                                                                                                                                                                                                                                                                                                                                                                                                                                                                                                                                                                                                                                                                                                                                                                                                                                                                                                                                                                                                                                                                                                                                                                                                                                                                                                                                                                                                                                                                                                                                                                                                                                                                                                                                                                                                                                                                                                                                                                                                                                                                                                                                                                                                                                                                                                                                                                                                                                                                                                                                                                                                                                                                                                                                                                                                                                                                                                                                                                                                                                                                                                                                                                                                                                                                                                                                                                                                                                                                                                                                                                                                                                                                                                                                                                                                                                                                                                                                                                                                                                                                                                                                                                                                                                                                                                                                                                                                                                                                                                                                                                                                                                                                                                                                                                                                                                                                                                                                                                                                                                                                                                                                                                                                                                                                                                                                                                                                                                                                                                                                                                                                                                                                                                                                                                                                                                                                                                                                                                                                                                                                                                                                                                                         |11862|\n",
            "+-------------------------------------------------------------------------------------------------------------------------------------------------------------------------------------------------------------------------------------------------------------------------------------------------------------------------------------------------------------------------------------------------------------------------------------------------------------------------------------------------------------------------------------------------------------------------------------------------------------------------------------------------------------------------------------------------------------------------------------------------------------------------------------------------------------------------------------------------------------------------------------------------------------------------------------------------------------------------------------------------------------------------------------------------------------------------------------------------------------------------------------------------------------------------------------------------------------------------------------------------------------------------------------------------------------------------------------------------------------------------------------------------------------------------------------------------------------------------------------------------------------------------------------------------------------------------------------------------------------------------------------------------------------------------------------------------------------------------------------------------------------------------------------------------------------------------------------------------------------------------------------------------------------------------------------------------------------------------------------------------------------------------------------------------------------------------------------------------------------------------------------------------------------------------------------------------------------------------------------------------------------------------------------------------------------------------------------------------------------------------------------------------------------------------------------------------------------------------------------------------------------------------------------------------------------------------------------------------------------------------------------------------------------------------------------------------------------------------------------------------------------------------------------------------------------------------------------------------------------------------------------------------------------------------------------------------------------------------------------------------------------------------------------------------------------------------------------------------------------------------------------------------------------------------------------------------------------------------------------------------------------------------------------------------------------------------------------------------------------------------------------------------------------------------------------------------------------------------------------------------------------------------------------------------------------------------------------------------------------------------------------------------------------------------------------------------------------------------------------------------------------------------------------------------------------------------------------------------------------------------------------------------------------------------------------------------------------------------------------------------------------------------------------------------------------------------------------------------------------------------------------------------------------------------------------------------------------------------------------------------------------------------------------------------------------------------------------------------------------------------------------------------------------------------------------------------------------------------------------------------------------------------------------------------------------------------------------------------------------------------------------------------------------------------------------------------------------------------------------------------------------------------------------------------------------------------------------------------------------------------------------------------------------------------------------------------------------------------------------------------------------------------------------------------------------------------------------------------------------------------------------------------------------------------------------------------------------------------------+------------------------------------------------------------------------------------------------------------------------------------------------------------------------------------------------------------------------------------------------------------------------------------------------------------------------------------------------------------------------------------------------------------------------------------------------------------------------------------------------------------------------------------------------------------------------------------------------------------------------------------------------------------------------------------------------------------------------------------------------------------------------------------------------------------------------------------------------------------------------------------------------------------------------------------------------------------------------------------------------------------------------------------------------------------------------------------------------------------------------------------------------------------------------------------------------------------------------------------------------------------------------------------------------------------------------------------------------------------------------------------------------------------------------------------------------------------------------------------------------------------------------------------------------------------------------------------------------------------------------------------------------------------------------------------------------------------------------------------------------------------------------------------------------------------------------------------------------------------------------------------------------------------------------------------------------------------------------------------------------------------------------------------------------------------------------------------------------------------------------------------------------------------------------------------------------------------------------------------------------------------------------------------------------------------------------------------------------------------------------------------------------------------------------------------------------------------------------------------------------------------------------------------------------------------------------------------------------------------------------------------------------------------------------------------------------------------------------------------------------------------------------------------------------------------------------------------------------------------------------------------------------------------------------------------------------------------------------------------------------------------------------------------------------------------------------------------------------------------------------------------------------------------------------------------------------------------------------------------------------------------------------------------------------------------------------------------------------------------------------------------------------------------------------------------------------------------------------------------------------------------------------------------------------------------------------------------------------------------------------------------------------------------------------------------------------------------------------------------------------------------------------------------------------------------------------------------------------------------------------------------------------------------------------------------------------------------------------------------------------------------------------------------------------------------------------------------------------------------------------------------------------------------------------------------------------------------------------------------------------------------------------------------------------------------------------------------------------------------------------------------------------------------------------------------------------------------------------------------------------------------------------------------------------------------------------------------------------------------------------------------------------------------------------------------------------------------------------------------------------------------------------------------------------------------------------------------------------------------------------------------------------------------------------------------------------------------------------------------------------------------------------------------------------------------------------------------------------------------------------------------------------------------------------------------------------------------------------------------------------------------------------------------------------------------------------------------------------------------------------------------------------------------------------------------------------------------------------------------------------------------------------------------------------------------------------------------------------------------------------------------------------------------------------------------------------------------------------------------------------------------------------------------------------------------------------------------------------------------------------------------------------------------------------------------------------------------------------------------------------------------------------------------------------------------------------------------------------------------------------------------------------------------------------------------------------------------------------------------------------------------------------------------------------------------------------------------------------------------------------------------------------------------------------------------------------------------------------------------------------------------------------------------------------------------------------------------------------------------------------------------------------------------------------------------------------------------------------------------------------------------------------------------------------------------------------------------------------------------------------------------------------------------------------------------------------------------------------------------------------------------------------------------------------------------------------------------------------------------------------------------------------------------------------------------------------------------------------------------------------------------------------------------------------------------------------------------------------------------------------------------------------------------------------------------------------------------------------------------------------------------------------------------------------------------------------------------------------------------------------------------------------------------------------------------------------------------------------------------------------------------------------------------------------------------------------------------------------------------------------------------------------------------------------------------------------------------------------------------------------------------------------------------------------------------------------------------------------------------------------------------------------------------------------------------------------------------------------------------------------------------------------------------------------------------------------------------------------------------------------------------------------------------------------------------------------------------------------------------------------------------------------------------------------------------------------------------------------------------------------------------------------------------------------------------------------------------------------------------------------------------------------------------------------------------------------------------------------------------------------------------------------------------------------------------------------------------------------------------------------------------------------------------------------------------------------------------------------------------------------------------------------------------------------------------------------------------------------------------------------------------------------------------------------------------------------------------------------------------------------------------------------------------------------------------------------------------------------------------------------------------------------------------------------------------------------------------------------------------------------------------------------------------------------------------------------------------------------------------------------------------------------------------------------------------------------------------------------------------------------------------------------------------------------------------------------------------------------------------------------------------------------------------------------------------------------------------------------------------------------------------------------------------------------------------------------------------------------------------------------------------------------------------------------------------------------------------------------------------------------------------------------------------------------------------------------------------------------------------------------------------------------------------------------------------------------------------------------------------------------------------------------------------------------------------------------------------------------------------------------------------------------------------------------------------------------------------------------------------------------------------------------------------------------------------------------------------------------------------------------------------------------------------------------------------------------------------------------------------------------------------------------------------------------------------------------------------------------------------------------------------------------------------------------------------------------------------------------------------------------------------------------------------------------------------------------------------------------------------------------------------------------------------------------------------------------------------------------------------------------------------------------------------------------------------------------------------------------------------------------------------------------------------------------------------------------------------------------------------------------------------------------------------------------------------------------------------------------------------------------------------------------------------------------------------------------------------------------------------------------------------------------------------------------------------------------------------------------------------------------------------------------------------------------------------------------------------------------------------------------------------------------------------------------------------------------------------------------------------------------------------------------------------------------------------------------------------------------------------------------------------------------------------------------------------------------------------------------------------------------------------------------------------------------------------------------------------------------------------------------------------------------------------------------------------------------------------------------------------------------------------------------------------------------------------------------------------------------------------------------------------------------------------------------------------------------------------------------------------------------------------------------------------------------------------------------------------------------------------------------------------------------------------------------------------------------------------------------------------------------------------------------------------------------------------------------------------------------------------------------------------------------------------------------------------------------------------------------------------------------------------------------------------------------------------------------------------------------------------------------------------------------------------------------------------------------------------------------------------------------------------------------------------------------------------------------------------------------------------------------------------------------------------------------------------------------------------------------------------------------------------------------------------------------------------------------------------------------------------------------------------------------------------------------------------------------------------------------------------------------------------------------------------------------------------------------------------------------------------------------------------------------------------------------------------------------------------------------------------------------------------------------------------------------------------------------------------------------------------------------------------------------------------------------------------------------------------------------------------------------------------------------------------------------------------------------------------------------------------------------------------------------------------------------------------------------------------------------------------------------------------------------------------------------------------------------------------------------------------------------------------------------------------------------------------------------------------------------------------------------------------------------------------------------------------------------------------------------------------------------------------------------------------------------------------------------------------------------------------------------------------------------------------------------------------------------------------------------------------------------------------------------------------------------------------------------------------------------------------------------------------------------------------------------------------------------------------------------------------------------------------------------------------------------------------------------------------------------------------------------------------------------------------------------------------------------------------------------------------------------------------------------------------------------------------------------------------------------------------------------------------------------------------------------------------------------------------------------------------------------------------------------------------------------------------------------------------------------------------------------------------------------------------------------------------------------------------------------------------------------------------------------------------------------------------------------------------------------------------------------------------------------------------------------------------------------------------------------------------------------------------------------------------------------------------------------------------------------------------------------------------------------------------------------------------------------------------------------------------------------------------------------------------------------------------------------------------------------------------------------------------------------------------------------------------------------------------------------------------------------------------------------------------------------------------------------------------------------------------------------------------------------------------------------------------------------------------------------------------------------------------------------------------------------------------------------------------------------------------------------------------------------------------------------------------------------------------------------------------------------------------------------------------------------------------------------------------------------------------------------------------------------------------------------------------------------------------------------------------------------------------------------------------------------------------------------------------------------------------------------------------------------------------------------------------------------------------------------------------------------------------------------------------------------------------------------------------------------------------------------------------------------------------------------------------------------------------------------------------------------------------------------------------------------------------------------------------------------------------------------------------------------------------------------------------------------------------------------------------------------------------------------------------------------------------------------------------------------------------------------------------------------------------------------------------------------------------------------------------------------------------------------------------------------------+-----+\n",
            "only showing top 5 rows\n",
            "\n"
          ]
        }
      ]
    },
    {
      "cell_type": "code",
      "source": [
        "# column 'cast' has values in Json string array\n",
        "# schema definition does not recognize key if None\n",
        "\n",
        "def parse_cast(value):\n",
        "  '''\n",
        "  Parse the profile_path column\n",
        "  '''\n",
        "  value = value.replace(\"'profile_path': None\", \"'profile_path': null\")\n",
        "  return value\n",
        "\n",
        "convertCast= udf(lambda x: parse_cast(x)) \n",
        "\n",
        "# Define the schemas of json array type for the columns of interest\n",
        "schema=ArrayType(StructType([\n",
        "  StructField('cast_id',IntegerType(),nullable=True),\n",
        "  StructField('character',StringType(),nullable=True),\n",
        "  StructField('credit_id',StringType(),nullable=True),\n",
        "  StructField('gender',IntegerType(),nullable=True),\n",
        "  StructField('id',IntegerType(),nullable=True),\n",
        "  StructField('name',StringType(),nullable=True),\n",
        "  StructField('order',IntegerType(),nullable=True),\n",
        "  StructField('profile_path',StringType(),nullable=True)\n",
        "]))\n",
        "\n",
        "\n",
        "#apply transformations to cast column\n",
        "credits_ml = credits.withColumn(\"cast\", convertCast(col(\"cast\")))\n",
        "credits_ml = credits_ml.withColumn('actors',from_json(col('cast'), schema).getField(\"name\").alias('actors'))\\\n",
        "        .withColumn('director',regexp_extract(col('crew'),\"(.)('job': 'Director', 'name': ')((\\w+)(\\s+)(\\w+))(')\",3))\n",
        "\n",
        "credits_ml.select([\"id\", \"actors\", \"director\"]).show(5)"
      ],
      "metadata": {
        "colab": {
          "base_uri": "https://localhost:8080/"
        },
        "id": "EFg1Tt-KsjVX",
        "outputId": "328be9b0-9b46-4161-e129-df7c8a87dc0a"
      },
      "execution_count": null,
      "outputs": [
        {
          "output_type": "stream",
          "name": "stdout",
          "text": [
            "+-----+--------------------+---------------+\n",
            "|   id|              actors|       director|\n",
            "+-----+--------------------+---------------+\n",
            "|  862|[Tom Hanks, Tim A...|  John Lasseter|\n",
            "| 8844|[Robin Williams, ...|   Joe Johnston|\n",
            "|15602|[Walter Matthau, ...|  Howard Deutch|\n",
            "|31357|[Whitney Houston,...|Forest Whitaker|\n",
            "|11862|[Steve Martin, Di...|  Charles Shyer|\n",
            "+-----+--------------------+---------------+\n",
            "only showing top 5 rows\n",
            "\n"
          ]
        }
      ]
    },
    {
      "cell_type": "code",
      "source": [
        "# new actors / directors cols\n",
        "credits_ml = credits_ml.select([\"id\", \"actors\", \"director\"])\n",
        "\n",
        "split_col = credits_ml['actors']\n",
        "credits_ml = credits_ml.withColumn('actor_1', split_col.getItem(0)) \\\n",
        "  .withColumn('actor_2', split_col.getItem(1)) \\\n",
        "  .withColumn('actor_3', split_col.getItem(2)) \\\n",
        "  .withColumn('actor_4', split_col.getItem(2)) \n",
        "  \n",
        "credits_ml = credits_ml.select([\"id\", \"director\", 'actor_1', 'actor_2', 'actor_3'])\n",
        "credits_ml.show(5)"
      ],
      "metadata": {
        "colab": {
          "base_uri": "https://localhost:8080/"
        },
        "id": "1Zy-iMvQ_zVc",
        "outputId": "226cf22e-aedc-4fb6-9d8b-96bc99e51c70"
      },
      "execution_count": null,
      "outputs": [
        {
          "output_type": "stream",
          "name": "stdout",
          "text": [
            "+-----+---------------+---------------+--------------+--------------+\n",
            "|   id|       director|        actor_1|       actor_2|       actor_3|\n",
            "+-----+---------------+---------------+--------------+--------------+\n",
            "|  862|  John Lasseter|      Tom Hanks|     Tim Allen|   Don Rickles|\n",
            "| 8844|   Joe Johnston| Robin Williams| Jonathan Hyde| Kirsten Dunst|\n",
            "|15602|  Howard Deutch| Walter Matthau|   Jack Lemmon|   Ann-Margret|\n",
            "|31357|Forest Whitaker|Whitney Houston|Angela Bassett|Loretta Devine|\n",
            "|11862|  Charles Shyer|   Steve Martin|  Diane Keaton|  Martin Short|\n",
            "+-----+---------------+---------------+--------------+--------------+\n",
            "only showing top 5 rows\n",
            "\n"
          ]
        }
      ]
    },
    {
      "cell_type": "markdown",
      "source": [
        "## Building the machine learning dataset by joining original dfs"
      ],
      "metadata": {
        "id": "IM-jA9LCE9Gb"
      }
    },
    {
      "cell_type": "code",
      "source": [
        "credits_ml = credits_ml.withColumn(\"creditsId\",col(\"id\").cast(StringType())).drop('id')"
      ],
      "metadata": {
        "id": "j2EOO6gRIgMQ"
      },
      "execution_count": null,
      "outputs": []
    },
    {
      "cell_type": "code",
      "source": [
        "df = metadata_ml.join(credits_ml, metadata_ml.id==credits_ml.creditsId, how='inner')"
      ],
      "metadata": {
        "id": "P7OUwEtICGTX"
      },
      "execution_count": null,
      "outputs": []
    },
    {
      "cell_type": "code",
      "source": [
        "print((df.count(), len(df.columns)))\n",
        "df.show(5, truncate=False)"
      ],
      "metadata": {
        "colab": {
          "base_uri": "https://localhost:8080/"
        },
        "id": "uvbpHQcUAxrf",
        "outputId": "ecc98c9f-da11-47ce-c6b3-3a0943c946c4"
      },
      "execution_count": null,
      "outputs": [
        {
          "output_type": "stream",
          "name": "stdout",
          "text": [
            "(45119, 21)\n",
            "+--------+------+-----------------+----------+--------+-------+--------------------+------------+----------+--------+---------+--------+-------+------------------------+--------------------+---+---------------+----------------+-----------------+--------------+---------+\n",
            "|budget  |id    |original_language|popularity|revenue |runtime|title               |vote_average|vote_count|genre_1 |genre_2  |genre_3 |genre_4|production_country_1    |production_country_2|age|director       |actor_1         |actor_2          |actor_3       |creditsId|\n",
            "+--------+------+-----------------+----------+--------+-------+--------------------+------------+----------+--------+---------+--------+-------+------------------------+--------------------+---+---------------+----------------+-----------------+--------------+---------+\n",
            "|0       |100010|en               |0.769266  |0       |116.0  |Flight Command      |6.0         |1         |Drama   | War     |null    |null   |United States of America|null                |82 |Frank Borzage  |Robert Taylor   |Ruth Hussey      |Walter Pidgeon|100010   |\n",
            "|37000000|10096 |en               |12.632595 |96455697|98.0   |13 Going on 30      |6.3         |1260      |Comedy  | Fantasy | Romance|null   |United States of America|null                |18 |Gary Winick    |Jennifer Garner |Mark Ruffalo     |Judy Greer    |10096    |\n",
            "|0       |103432|en               |0.109861  |0       |74.0   |Outrage             |5.2         |3         |TV Movie| Thriller| Crime  | Drama |United States of America|null                |49 |               |Robert Culp     |Marlyn Mason     |Beah Richards |103432   |\n",
            "|5000000 |10351 |en               |5.215107  |15719109|90.0   |Wishmaster          |5.6         |114       |Horror  |null     |null    |null   |United States of America|null                |25 |Robert Kurtzman|Andrew Divoff   |Tammy Lauren     |Robert Englund|10351    |\n",
            "|34000000|10436 |en               |8.013617  |32255440|139.0  |The Age of Innocence|7.0         |172       |Drama   | Romance |null    |null   |United States of America|null                |29 |Martin Scorsese|Daniel Day-Lewis|Michelle Pfeiffer|Winona Ryder  |10436    |\n",
            "+--------+------+-----------------+----------+--------+-------+--------------------+------------+----------+--------+---------+--------+-------+------------------------+--------------------+---+---------------+----------------+-----------------+--------------+---------+\n",
            "only showing top 5 rows\n",
            "\n"
          ]
        }
      ]
    },
    {
      "cell_type": "code",
      "source": [
        "df.toPandas().to_csv(\"/content/drive/MyDrive/Colab Notebooks/archive/cleaned_df.csv\", index=False, sep=\",\")"
      ],
      "metadata": {
        "id": "4hd6B6NlxyD9"
      },
      "execution_count": null,
      "outputs": []
    },
    {
      "cell_type": "markdown",
      "source": [
        "## Build regression models to predict movie revenue and vote averages."
      ],
      "metadata": {
        "id": "ex6FAaIjNtFY"
      }
    },
    {
      "cell_type": "code",
      "source": [
        "df = spark.read.options(multiline=\"True\", header=\"True\", inferSchema=\"True\", delimiter=',', escape=\"\\\"\") \\\n",
        "                      .csv(\"/content/drive/MyDrive/Colab Notebooks/archive/cleaned_df.csv\")\n",
        "\n",
        "print((df.count(), len(df.columns)))\n",
        "df.show(5, truncate=False)"
      ],
      "metadata": {
        "id": "wnEB4mnMKS_o",
        "colab": {
          "base_uri": "https://localhost:8080/"
        },
        "outputId": "fcd6e282-ce66-4c15-b74a-96dea0e7e1a3"
      },
      "execution_count": null,
      "outputs": [
        {
          "output_type": "stream",
          "name": "stdout",
          "text": [
            "(45119, 21)\n",
            "+--------+------+-----------------+----------+--------+-------+--------------------+------------+----------+--------+---------+--------+-------+------------------------+--------------------+---+---------------+----------------+-----------------+--------------+---------+\n",
            "|budget  |id    |original_language|popularity|revenue |runtime|title               |vote_average|vote_count|genre_1 |genre_2  |genre_3 |genre_4|production_country_1    |production_country_2|age|director       |actor_1         |actor_2          |actor_3       |creditsId|\n",
            "+--------+------+-----------------+----------+--------+-------+--------------------+------------+----------+--------+---------+--------+-------+------------------------+--------------------+---+---------------+----------------+-----------------+--------------+---------+\n",
            "|0       |100010|en               |0.769266  |0       |116.0  |Flight Command      |6.0         |1         |Drama   | War     |null    |null   |United States of America|null                |82 |Frank Borzage  |Robert Taylor   |Ruth Hussey      |Walter Pidgeon|100010   |\n",
            "|37000000|10096 |en               |12.632595 |96455697|98.0   |13 Going on 30      |6.3         |1260      |Comedy  | Fantasy | Romance|null   |United States of America|null                |18 |Gary Winick    |Jennifer Garner |Mark Ruffalo     |Judy Greer    |10096    |\n",
            "|0       |103432|en               |0.109861  |0       |74.0   |Outrage             |5.2         |3         |TV Movie| Thriller| Crime  | Drama |United States of America|null                |49 |null           |Robert Culp     |Marlyn Mason     |Beah Richards |103432   |\n",
            "|5000000 |10351 |en               |5.215107  |15719109|90.0   |Wishmaster          |5.6         |114       |Horror  |null     |null    |null   |United States of America|null                |25 |Robert Kurtzman|Andrew Divoff   |Tammy Lauren     |Robert Englund|10351    |\n",
            "|34000000|10436 |en               |8.013617  |32255440|139.0  |The Age of Innocence|7.0         |172       |Drama   | Romance |null    |null   |United States of America|null                |29 |Martin Scorsese|Daniel Day-Lewis|Michelle Pfeiffer|Winona Ryder  |10436    |\n",
            "+--------+------+-----------------+----------+--------+-------+--------------------+------------+----------+--------+---------+--------+-------+------------------------+--------------------+---+---------------+----------------+-----------------+--------------+---------+\n",
            "only showing top 5 rows\n",
            "\n"
          ]
        }
      ]
    },
    {
      "cell_type": "markdown",
      "source": [
        "### 2.1 To predict vote_average\n",
        "\n",
        "#### Separating categorical from numerical columns"
      ],
      "metadata": {
        "id": "4xXNnm4e1qTv"
      }
    },
    {
      "cell_type": "code",
      "source": [
        "# drop useless cols for machine learning \n",
        "\n",
        "df = df.drop('id', 'creditsId', 'title')\n",
        "print((df.count(), len(df.columns)))\n",
        "df.printSchema()"
      ],
      "metadata": {
        "colab": {
          "base_uri": "https://localhost:8080/"
        },
        "id": "BpUXl3AS4gX8",
        "outputId": "64e6a570-3401-42e0-8c09-a7d5aafcbaa9"
      },
      "execution_count": null,
      "outputs": [
        {
          "output_type": "stream",
          "name": "stdout",
          "text": [
            "(45119, 18)\n",
            "root\n",
            " |-- budget: integer (nullable = true)\n",
            " |-- original_language: string (nullable = true)\n",
            " |-- popularity: double (nullable = true)\n",
            " |-- revenue: integer (nullable = true)\n",
            " |-- runtime: double (nullable = true)\n",
            " |-- vote_average: double (nullable = true)\n",
            " |-- vote_count: integer (nullable = true)\n",
            " |-- genre_1: string (nullable = true)\n",
            " |-- genre_2: string (nullable = true)\n",
            " |-- genre_3: string (nullable = true)\n",
            " |-- genre_4: string (nullable = true)\n",
            " |-- production_country_1: string (nullable = true)\n",
            " |-- production_country_2: string (nullable = true)\n",
            " |-- age: integer (nullable = true)\n",
            " |-- director: string (nullable = true)\n",
            " |-- actor_1: string (nullable = true)\n",
            " |-- actor_2: string (nullable = true)\n",
            " |-- actor_3: string (nullable = true)\n",
            "\n"
          ]
        }
      ]
    },
    {
      "cell_type": "code",
      "source": [
        "from pyspark.sql.functions import col, countDistinct\n",
        "\n",
        "# checking the number of categories\n",
        "cat_cols = [item[0] for item in df.dtypes if item[1].startswith('string')]\n",
        "df.agg(*(countDistinct(col(c)).alias(c) for c in cat_cols)).show()"
      ],
      "metadata": {
        "colab": {
          "base_uri": "https://localhost:8080/"
        },
        "id": "Taqfe8E6bCGQ",
        "outputId": "b35bbafc-2523-4e90-bf68-d85ee3048f74"
      },
      "execution_count": null,
      "outputs": [
        {
          "output_type": "stream",
          "name": "stdout",
          "text": [
            "+-----------------+-------+-------+-------+-------+--------------------+--------------------+--------+-------+-------+-------+\n",
            "|original_language|genre_1|genre_2|genre_3|genre_4|production_country_1|production_country_2|director|actor_1|actor_2|actor_3|\n",
            "+-----------------+-------+-------+-------+-------+--------------------+--------------------+--------+-------+-------+-------+\n",
            "|               89|     21|     20|     20|     20|                 144|                 130|   13953|  18250|  22234|  24346|\n",
            "+-----------------+-------+-------+-------+-------+--------------------+--------------------+--------+-------+-------+-------+\n",
            "\n"
          ]
        }
      ]
    },
    {
      "cell_type": "markdown",
      "source": [
        "This time we choose to drop variables with to much categories because in pyspark binary, hash or target encoding are not yet implemented one hot encoding would create a huge matrix of 100000 cols and StringIndexer generate an error because of too many categories."
      ],
      "metadata": {
        "id": "mYURDy2gbLlQ"
      }
    },
    {
      "cell_type": "code",
      "source": [
        "df = df.drop('director', 'actor_1', 'actor_2', 'actor_3')"
      ],
      "metadata": {
        "id": "27JDnpdW5Zkh"
      },
      "execution_count": null,
      "outputs": []
    },
    {
      "cell_type": "code",
      "source": [
        "# usefull later\n",
        "\n",
        "cat_cols = [item[0] for item in df.dtypes if item[1].startswith('string')]\n",
        "num_cols = [item[0] for item in df.dtypes if item[0] not in cat_cols]\n",
        "num_cols"
      ],
      "metadata": {
        "colab": {
          "base_uri": "https://localhost:8080/"
        },
        "id": "JwiaxG12boPz",
        "outputId": "ccee8702-4084-4bcd-9717-e4e8196da0fe"
      },
      "execution_count": null,
      "outputs": [
        {
          "output_type": "execute_result",
          "data": {
            "text/plain": [
              "['budget',\n",
              " 'popularity',\n",
              " 'revenue',\n",
              " 'runtime',\n",
              " 'vote_average',\n",
              " 'vote_count',\n",
              " 'age']"
            ]
          },
          "metadata": {},
          "execution_count": 6
        }
      ]
    },
    {
      "cell_type": "code",
      "source": [
        "from pyspark.sql.functions import col\n",
        "\n",
        "for col_name in num_cols:\n",
        "    df = df.withColumn(col_name, col(col_name).cast('float'))"
      ],
      "metadata": {
        "id": "ROVPhJl2Nq1O"
      },
      "execution_count": null,
      "outputs": []
    },
    {
      "cell_type": "markdown",
      "source": [
        "#### Handling Null Values\n"
      ],
      "metadata": {
        "id": "Bj8etTfU6gZB"
      }
    },
    {
      "cell_type": "code",
      "source": [
        "# Number of missing values for each dataframe and column\n",
        "from pyspark.sql.functions import col,isnan, when, count\n",
        "\n",
        "def nb_nans(df):\n",
        "  df.select([count(when(isnan(c) | col(c).isNull(), c)).alias(c) for c in df.columns]).show()\n",
        "\n",
        "nb_nans(df)"
      ],
      "metadata": {
        "colab": {
          "base_uri": "https://localhost:8080/"
        },
        "id": "t9glqY8b509N",
        "outputId": "fa6263de-7fd1-4dec-948d-e02ac8dcdc30"
      },
      "execution_count": null,
      "outputs": [
        {
          "output_type": "stream",
          "name": "stdout",
          "text": [
            "+------+-----------------+----------+-------+-------+------------+----------+-------+-------+-------+-------+--------------------+--------------------+---+\n",
            "|budget|original_language|popularity|revenue|runtime|vote_average|vote_count|genre_1|genre_2|genre_3|genre_4|production_country_1|production_country_2|age|\n",
            "+------+-----------------+----------+-------+-------+------------+----------+-------+-------+-------+-------+--------------------+--------------------+---+\n",
            "|     0|                0|         0|      0|      0|           0|         0|      0|  16731|  31171|  40725|                   0|               38109|  0|\n",
            "+------+-----------------+----------+-------+-------+------------+----------+-------+-------+-------+-------+--------------------+--------------------+---+\n",
            "\n"
          ]
        }
      ]
    },
    {
      "cell_type": "code",
      "source": [
        "# there is only missing values in categorical variables \n",
        "df = df.fillna(value='Missing')\n",
        "df.show(5)"
      ],
      "metadata": {
        "colab": {
          "base_uri": "https://localhost:8080/"
        },
        "id": "F_1lKb1y6rpQ",
        "outputId": "7d2a3ee0-34dd-4115-9557-7a55eca9fe1c"
      },
      "execution_count": null,
      "outputs": [
        {
          "output_type": "stream",
          "name": "stdout",
          "text": [
            "+---------+-----------------+----------+-----------+-------+------------+----------+--------+---------+--------+-------+--------------------+--------------------+----+\n",
            "|   budget|original_language|popularity|    revenue|runtime|vote_average|vote_count| genre_1|  genre_2| genre_3|genre_4|production_country_1|production_country_2| age|\n",
            "+---------+-----------------+----------+-----------+-------+------------+----------+--------+---------+--------+-------+--------------------+--------------------+----+\n",
            "|      0.0|               en|  0.769266|        0.0|  116.0|         6.0|       1.0|   Drama|      War| Missing|Missing|United States of ...|             Missing|82.0|\n",
            "|    3.7E7|               en| 12.632595|9.6455696E7|   98.0|         6.3|    1260.0|  Comedy|  Fantasy| Romance|Missing|United States of ...|             Missing|18.0|\n",
            "|      0.0|               en|  0.109861|        0.0|   74.0|         5.2|       3.0|TV Movie| Thriller|   Crime|  Drama|United States of ...|             Missing|49.0|\n",
            "|5000000.0|               en|  5.215107|1.5719109E7|   90.0|         5.6|     114.0|  Horror|  Missing| Missing|Missing|United States of ...|             Missing|25.0|\n",
            "|    3.4E7|               en|  8.013617| 3.225544E7|  139.0|         7.0|     172.0|   Drama|  Romance| Missing|Missing|United States of ...|             Missing|29.0|\n",
            "+---------+-----------------+----------+-----------+-------+------------+----------+--------+---------+--------+-------+--------------------+--------------------+----+\n",
            "only showing top 5 rows\n",
            "\n"
          ]
        }
      ]
    },
    {
      "cell_type": "markdown",
      "source": [
        "#### Handling Categorical Variables and fitting the model\n"
      ],
      "metadata": {
        "id": "JGTJck3L9BSE"
      }
    },
    {
      "cell_type": "code",
      "source": [
        "from pyspark.sql.functions import col, countDistinct\n",
        "\n",
        "# checking the number of categories\n",
        "df.agg(*(countDistinct(col(c)).alias(c) for c in cat_cols)).show()"
      ],
      "metadata": {
        "colab": {
          "base_uri": "https://localhost:8080/"
        },
        "id": "D2jrcO94OZBY",
        "outputId": "8fd24216-f772-483b-bbb6-4342de098624"
      },
      "execution_count": null,
      "outputs": [
        {
          "output_type": "stream",
          "name": "stdout",
          "text": [
            "+-----------------+-------+-------+-------+-------+--------------------+--------------------+\n",
            "|original_language|genre_1|genre_2|genre_3|genre_4|production_country_1|production_country_2|\n",
            "+-----------------+-------+-------+-------+-------+--------------------+--------------------+\n",
            "|               89|     21|     21|     21|     21|                 144|                 131|\n",
            "+-----------------+-------+-------+-------+-------+--------------------+--------------------+\n",
            "\n"
          ]
        }
      ]
    },
    {
      "cell_type": "code",
      "source": [
        "num_cols.remove('vote_average')\n",
        "num_cols"
      ],
      "metadata": {
        "colab": {
          "base_uri": "https://localhost:8080/"
        },
        "id": "OqYQ6OmScEvz",
        "outputId": "4c06757b-d5e8-44ac-b4e7-10916b216b78"
      },
      "execution_count": null,
      "outputs": [
        {
          "output_type": "execute_result",
          "data": {
            "text/plain": [
              "['budget', 'popularity', 'revenue', 'runtime', 'vote_count', 'age']"
            ]
          },
          "metadata": {},
          "execution_count": 11
        }
      ]
    },
    {
      "cell_type": "code",
      "source": [
        "from pyspark.ml.feature import StringIndexer, VectorAssembler\n",
        "from pyspark.ml.regression import RandomForestRegressor\n",
        "from pyspark.ml import Pipeline\n",
        "\n",
        "\n",
        "# Create a StringIndexer for each categorical column\n",
        "indexers = [StringIndexer(inputCol=c, outputCol=\"{0}_indexed\".format(c)).setHandleInvalid(\"keep\") for c in cat_cols]\n",
        "\n",
        "# Create a VectorAssembler to combine the numerical and indexed categorical columns\n",
        "indexed_categorical_cols = [col + \"_indexed\" for col in cat_cols]\n",
        "assembler = VectorAssembler(inputCols=num_cols+indexed_categorical_cols, outputCol=\"features\")\n",
        "\n",
        "# Create a RandomForestRegressor\n",
        "rf = RandomForestRegressor(labelCol=\"vote_average\", featuresCol=\"features\", maxBins=150)\n",
        "\n",
        "# Create a pipeline\n",
        "pipeline = Pipeline(stages=indexers+[assembler, rf])\n",
        "\n",
        "# Split the data into training and test sets (20% held out for testing)\n",
        "(trainingData, testData) = df.randomSplit([0.8, 0.2])\n",
        "\n",
        "# Fit the pipeline on the data\n",
        "model = pipeline.fit(trainingData)\n",
        "\n"
      ],
      "metadata": {
        "id": "F7vEELVp8AC6"
      },
      "execution_count": null,
      "outputs": []
    },
    {
      "cell_type": "code",
      "source": [
        "from pyspark.ml.evaluation import RegressionEvaluator\n",
        "\n",
        "# Make predictions.\n",
        "predictions = model.transform(testData)\n",
        "\n",
        "# Select example rows to display.\n",
        "predictions.show(5)\n",
        "\n",
        "# Select (prediction, true label) and compute test error\n",
        "evaluator = RegressionEvaluator(labelCol=\"vote_average\", predictionCol=\"prediction\", metricName=\"rmse\")\n",
        "\n",
        "# Root Mean Square Error\n",
        "rmse = evaluator.evaluate(predictions) \n",
        "print('RMSE: %.3f' % rmse)\n",
        "\n",
        "# Mean Square Error\n",
        "mse = evaluator.evaluate(predictions, {evaluator.metricName: 'mse'}) \n",
        "print('MSE: %.3f' % mse)\n",
        "\n",
        "# Mean Absolute Error\n",
        "mae = evaluator.evaluate(predictions, {evaluator.metricName: 'mae'}) \n",
        "print('MAE: %.3f' % mae)\n",
        "\n",
        "# r2 - coefficient of determination\n",
        "r2 = evaluator.evaluate(predictions, {evaluator.metricName: 'r2'}) \n",
        "print('r2: %.3f' %r2)"
      ],
      "metadata": {
        "id": "IM72a5jFoTJ7",
        "colab": {
          "base_uri": "https://localhost:8080/"
        },
        "outputId": "0b90c29e-6d31-4a0c-c693-a14c5a327436"
      },
      "execution_count": null,
      "outputs": [
        {
          "output_type": "stream",
          "name": "stdout",
          "text": [
            "+------+-----------------+----------+-------+-------+------------+----------+---------+----------+-------+----------------+--------------------+--------------------+----+-------------------------+---------------+---------------+---------------+---------------+----------------------------+----------------------------+--------------------+-----------------+\n",
            "|budget|original_language|popularity|revenue|runtime|vote_average|vote_count|  genre_1|   genre_2|genre_3|         genre_4|production_country_1|production_country_2| age|original_language_indexed|genre_1_indexed|genre_2_indexed|genre_3_indexed|genre_4_indexed|production_country_1_indexed|production_country_2_indexed|            features|       prediction|\n",
            "+------+-----------------+----------+-------+-------+------------+----------+---------+----------+-------+----------------+--------------------+--------------------+----+-------------------------+---------------+---------------+---------------+---------------+----------------------------+----------------------------+--------------------+-----------------+\n",
            "|   0.0|               ab|  2.182797|    0.0|   73.0|         5.1|       5.0|Adventure| Animation| Family|         Missing|             Unknown|             Missing|18.0|                     46.0|            8.0|           16.0|            8.0|            0.0|                         1.0|                         0.0|[0.0,2.1827969551...| 5.87339392732964|\n",
            "|   0.0|               ab|  3.840024|    0.0|  109.0|         5.0|      77.0|  Fantasy|    Horror| Action| Science Fiction|           Australia|             Missing|15.0|                     46.0|           11.0|            8.0|           11.0|            3.0|                        11.0|                         0.0|[0.0,3.8400239944...| 6.28434579032989|\n",
            "|   0.0|               ar|   3.08E-4|    0.0|  100.0|         5.5|       4.0|    Drama|   Romance|Missing|         Missing|Palestinian Terri...|             Belgium|35.0|                     29.0|            0.0|            3.0|            0.0|            0.0|                        79.0|                        11.0|[0.0,3.0799998785...|6.269230173033653|\n",
            "|   0.0|               ar|  0.036572|    0.0|  133.0|         5.0|       1.0|    Drama|   Missing|Missing|         Missing|               Egypt|             Missing|43.0|                     29.0|            0.0|            0.0|            0.0|            0.0|                        55.0|                         0.0|(13,[1,3,4,5,6,11...|6.160847419301133|\n",
            "|   0.0|               ar|  0.155331|    0.0|  120.0|         8.5|       2.0|    Drama|   Foreign|Missing|         Missing|               Egypt|             Missing|11.0|                     29.0|            0.0|           11.0|            0.0|            0.0|                        55.0|                         0.0|(13,[1,3,4,5,6,8,...|6.160847419301133|\n",
            "+------+-----------------+----------+-------+-------+------------+----------+---------+----------+-------+----------------+--------------------+--------------------+----+-------------------------+---------------+---------------+---------------+---------------+----------------------------+----------------------------+--------------------+-----------------+\n",
            "only showing top 5 rows\n",
            "\n",
            "RMSE: 1.140\n",
            "MSE: 1.300\n",
            "MAE: 0.838\n",
            "r2: 0.641\n"
          ]
        }
      ]
    },
    {
      "cell_type": "code",
      "source": [
        "import matplotlib.pyplot as plt\n",
        "\n",
        "# Extract the model from the pipeline\n",
        "rfModel = model.stages[8]\n",
        "\n",
        "# Get feature importances\n",
        "importances = rfModel.featureImportances\n",
        "\n",
        "# Create a list of feature names\n",
        "feature_names = trainingData.columns\n",
        "feature_names.remove('vote_average')\n",
        "\n",
        "# Create a bar chart of feature importances\n",
        "plt.bar(feature_names, importances)\n",
        "plt.xlabel(\"Feature\")\n",
        "plt.ylabel(\"Importance\")\n",
        "plt.xticks(rotation=90)\n",
        "plt.title(\"Feature Importances of RF model\")\n",
        "plt.show()\n"
      ],
      "metadata": {
        "colab": {
          "base_uri": "https://localhost:8080/",
          "height": 393
        },
        "id": "9vkaYPr7SeUy",
        "outputId": "6a38c437-ee1f-46ca-c656-d6c47c5edf1d"
      },
      "execution_count": null,
      "outputs": [
        {
          "output_type": "display_data",
          "data": {
            "text/plain": [
              "<Figure size 432x288 with 1 Axes>"
            ],
            "image/png": "[encoded data removed]"
          },
          "metadata": {
            "needs_background": "light"
          }
        }
      ]
    },
    {
      "cell_type": "markdown",
      "source": [
        "### 2.2 To predict revenue\n"
      ],
      "metadata": {
        "id": "Z3agYwSfSdJ_"
      }
    },
    {
      "cell_type": "code",
      "source": [
        "num_cols = [item[0] for item in df.dtypes if item[0] not in cat_cols]\n",
        "num_cols.remove('revenue')\n",
        "num_cols"
      ],
      "metadata": {
        "id": "_1W_kw78edO9",
        "colab": {
          "base_uri": "https://localhost:8080/"
        },
        "outputId": "b1a967e7-2671-4f33-d262-e4205aec9962"
      },
      "execution_count": null,
      "outputs": [
        {
          "output_type": "execute_result",
          "data": {
            "text/plain": [
              "['budget', 'popularity', 'runtime', 'vote_average', 'vote_count', 'age']"
            ]
          },
          "metadata": {},
          "execution_count": 45
        }
      ]
    },
    {
      "cell_type": "code",
      "source": [
        "from pyspark.sql.functions import col\n",
        "\n",
        "# Remove rows where revenue (target) is <= 0\n",
        "df_filtered = df.filter(col(\"revenue\") > 0)\n",
        "\n",
        "print((df_filtered.count(), len(df_filtered.columns)))\n",
        "df_filtered.show(5, truncate=False)"
      ],
      "metadata": {
        "colab": {
          "base_uri": "https://localhost:8080/"
        },
        "id": "kOCoKKzpYv3u",
        "outputId": "3e753c57-aac3-40fb-a439-e2e38917a014"
      },
      "execution_count": null,
      "outputs": [
        {
          "output_type": "stream",
          "name": "stdout",
          "text": [
            "(7400, 14)\n",
            "+---------+-----------------+----------+-----------+-------+------------+----------+--------+----------------+--------+---------+------------------------+--------------------+----+\n",
            "|budget   |original_language|popularity|revenue    |runtime|vote_average|vote_count|genre_1 |genre_2         |genre_3 |genre_4  |production_country_1    |production_country_2|age |\n",
            "+---------+-----------------+----------+-----------+-------+------------+----------+--------+----------------+--------+---------+------------------------+--------------------+----+\n",
            "|3.7E7    |en               |12.632595 |9.6455696E7|98.0   |6.3         |1260.0    |Comedy  | Fantasy        | Romance|Missing  |United States of America|Missing             |18.0|\n",
            "|5000000.0|en               |5.215107  |1.5719109E7|90.0   |5.6         |114.0     |Horror  |Missing         |Missing |Missing  |United States of America|Missing             |25.0|\n",
            "|3.4E7    |en               |8.013617  |3.225544E7 |139.0  |7.0         |172.0     |Drama   | Romance        |Missing |Missing  |United States of America|Missing             |29.0|\n",
            "|1.6E7    |en               |9.356587  |1.8564088E7|100.0  |6.8         |381.0     |Thriller| Science Fiction| Mystery|Missing  |United States of America|Missing             |23.0|\n",
            "|0.0      |en               |6.409297  |5.0097948E7|88.0   |5.5         |244.0     |Action  | Comedy         | Crime  | Thriller|United States of America|Missing             |20.0|\n",
            "+---------+-----------------+----------+-----------+-------+------------+----------+--------+----------------+--------+---------+------------------------+--------------------+----+\n",
            "only showing top 5 rows\n",
            "\n"
          ]
        }
      ]
    },
    {
      "cell_type": "code",
      "source": [
        "from pyspark.sql.functions import mean, stddev\n",
        "\n",
        "# Here we remove outliers from the revenue columns in order to get decent predictions\n",
        "# Calculate mean and standard deviation of the revenue column\n",
        "col_mean = df.agg(mean(df.revenue)).first()[0]\n",
        "col_stddev = df.agg(stddev(df.revenue)).first()[0]\n",
        "print(f'Mean of the revenue column is {col_mean}')\n",
        "print(f'STD of the revenue column is {col_stddev}')\n",
        "\n",
        "# Define lower and upper bounds for outliers\n",
        "lower_bound = col_mean - 3 * col_stddev\n",
        "upper_bound = col_mean + 3 * col_stddev\n",
        "print(f'Lower bound is {lower_bound}')\n",
        "print(f'Upper bound is {upper_bound}')\n",
        "\n",
        "# Filter out rows that have revenue outside of the bounds\n",
        "df_filtered = df_filtered.filter((df_filtered.revenue > lower_bound) & (df_filtered.revenue < upper_bound))\n",
        "print((df_filtered.count(), len(df_filtered.columns)))\n",
        "df_filtered.show(5, truncate=False)"
      ],
      "metadata": {
        "colab": {
          "base_uri": "https://localhost:8080/"
        },
        "id": "w20RW7J1couj",
        "outputId": "3ab58f28-0b77-4227-c31b-2839d6de7419"
      },
      "execution_count": null,
      "outputs": [
        {
          "output_type": "stream",
          "name": "stdout",
          "text": [
            "Mean of the revenue column is 11198793.2043485\n",
            "STD of the revenue column is 63633038.32037429\n",
            "Lower bound is -179700321.75677437\n",
            "Upper bound is 202097908.16547137\n",
            "(6737, 14)\n",
            "+---------+-----------------+----------+-----------+-------+------------+----------+--------+----------------+--------+---------+------------------------+--------------------+----+\n",
            "|budget   |original_language|popularity|revenue    |runtime|vote_average|vote_count|genre_1 |genre_2         |genre_3 |genre_4  |production_country_1    |production_country_2|age |\n",
            "+---------+-----------------+----------+-----------+-------+------------+----------+--------+----------------+--------+---------+------------------------+--------------------+----+\n",
            "|3.7E7    |en               |12.632595 |9.6455696E7|98.0   |6.3         |1260.0    |Comedy  | Fantasy        | Romance|Missing  |United States of America|Missing             |18.0|\n",
            "|5000000.0|en               |5.215107  |1.5719109E7|90.0   |5.6         |114.0     |Horror  |Missing         |Missing |Missing  |United States of America|Missing             |25.0|\n",
            "|3.4E7    |en               |8.013617  |3.225544E7 |139.0  |7.0         |172.0     |Drama   | Romance        |Missing |Missing  |United States of America|Missing             |29.0|\n",
            "|1.6E7    |en               |9.356587  |1.8564088E7|100.0  |6.8         |381.0     |Thriller| Science Fiction| Mystery|Missing  |United States of America|Missing             |23.0|\n",
            "|0.0      |en               |6.409297  |5.0097948E7|88.0   |5.5         |244.0     |Action  | Comedy         | Crime  | Thriller|United States of America|Missing             |20.0|\n",
            "+---------+-----------------+----------+-----------+-------+------------+----------+--------+----------------+--------+---------+------------------------+--------------------+----+\n",
            "only showing top 5 rows\n",
            "\n"
          ]
        }
      ]
    },
    {
      "cell_type": "code",
      "source": [
        "from pyspark.ml.feature import StringIndexer, VectorAssembler\n",
        "from pyspark.ml.regression import GBTRegressor\n",
        "from pyspark.ml import Pipeline\n",
        "\n",
        "\n",
        "# Create a StringIndexer for each categorical column\n",
        "indexers = [StringIndexer(inputCol=c, outputCol=\"{0}_indexed\".format(c)).setHandleInvalid(\"keep\") for c in cat_cols]\n",
        "\n",
        "# Create a VectorAssembler to combine the numerical and indexed categorical columns\n",
        "indexed_categorical_cols = [col + \"_indexed\" for col in cat_cols]\n",
        "assembler = VectorAssembler(inputCols=num_cols+indexed_categorical_cols, outputCol=\"features\")\n",
        "\n",
        "# Create a RandomForestRegressor\n",
        "gbt = GBTRegressor(labelCol=\"revenue\", featuresCol=\"features\", maxBins=150)\n",
        "\n",
        "# Create a pipeline\n",
        "pipeline = Pipeline(stages=indexers+[assembler, gbt])\n",
        "\n",
        "# Split the data into training and test sets (20% held out for testing)\n",
        "(trainingData, testData) = df_filtered.randomSplit([0.8, 0.2])\n",
        "\n",
        "# Fit the pipeline on the data\n",
        "model = pipeline.fit(trainingData)"
      ],
      "metadata": {
        "id": "6xOKy5r6Zb9V"
      },
      "execution_count": null,
      "outputs": []
    },
    {
      "cell_type": "code",
      "source": [
        "from pyspark.ml.evaluation import RegressionEvaluator\n",
        "\n",
        "# Make predictions.\n",
        "predictions = model.transform(testData)\n",
        "\n",
        "# Select example rows to display.\n",
        "predictions.show(5)\n",
        "\n",
        "# Select (prediction, true label) and compute test error\n",
        "evaluator = RegressionEvaluator(labelCol=\"revenue\", predictionCol=\"prediction\", metricName=\"rmse\")\n",
        "\n",
        "# Root Mean Square Error\n",
        "rmse = evaluator.evaluate(predictions) \n",
        "print('RMSE: %.3f' % rmse)\n",
        "\n",
        "# Mean Absolute Error\n",
        "mae = evaluator.evaluate(predictions, {evaluator.metricName: 'mae'}) \n",
        "print('MAE: %.3f' % mae)\n",
        "\n",
        "# r2 - coefficient of determination\n",
        "r2 = evaluator.evaluate(predictions, {evaluator.metricName: 'r2'}) \n",
        "print('r2: %.3f' %r2)"
      ],
      "metadata": {
        "colab": {
          "base_uri": "https://localhost:8080/"
        },
        "id": "0_dry8vGbZxM",
        "outputId": "d1147621-fd29-44aa-e3ce-bc6986eea320"
      },
      "execution_count": null,
      "outputs": [
        {
          "output_type": "stream",
          "name": "stdout",
          "text": [
            "+------+-----------------+----------+---------+-------+------------+----------+-------+----------+-------+-------+--------------------+--------------------+----+-------------------------+---------------+---------------+---------------+---------------+----------------------------+----------------------------+--------------------+-------------------+\n",
            "|budget|original_language|popularity|  revenue|runtime|vote_average|vote_count|genre_1|   genre_2|genre_3|genre_4|production_country_1|production_country_2| age|original_language_indexed|genre_1_indexed|genre_2_indexed|genre_3_indexed|genre_4_indexed|production_country_1_indexed|production_country_2_indexed|            features|         prediction|\n",
            "+------+-----------------+----------+---------+-------+------------+----------+-------+----------+-------+-------+--------------------+--------------------+----+-------------------------+---------------+---------------+---------------+---------------+----------------------------+----------------------------+--------------------+-------------------+\n",
            "|   0.0|               ar|  5.451273|1347747.0|   98.0|         7.2|     125.0|  Drama|   Missing|Missing|Missing|        Saudi Arabia|             Germany|10.0|                     40.0|            0.0|            0.0|            0.0|            0.0|                        73.0|                         4.0|[0.0,5.4512729644...|8.138011914269887E7|\n",
            "|   0.0|               bm|  0.759538| 214605.0|  124.0|         5.9|      16.0|  Drama|   Missing|Missing|Missing|        Burkina Faso|            Cameroon|18.0|                     34.0|            0.0|            0.0|            0.0|            0.0|                        55.0|                        62.0|[0.0,0.7595379948...|  7483655.861071487|\n",
            "|   0.0|               bn|  3.900709| 536364.0|  125.0|         7.9|      63.0|  Drama|   Missing|Missing|Missing|               India|             Missing|67.0|                     28.0|            0.0|            0.0|            0.0|            0.0|                         5.0|                         0.0|(13,[1,2,3,4,5,6,...|  9707989.034446439|\n",
            "|   0.0|               cn|  0.424794| 496000.0|   95.0|         6.5|       2.0|Fantasy|    Horror|Missing|Missing|           Hong Kong|             Missing| 8.0|                     10.0|            9.0|            9.0|            0.0|            0.0|                        13.0|                         0.0|[0.0,0.4247939884...|  4983690.578288031|\n",
            "|   0.0|               cn|  1.824275| 396003.0|   99.0|         5.8|      11.0|  Drama| Adventure| Comedy|Missing|           Hong Kong|             Missing|31.0|                     10.0|            0.0|            6.0|            4.0|            0.0|                        13.0|                         0.0|[0.0,1.8242750167...|  9055433.311911803|\n",
            "+------+-----------------+----------+---------+-------+------------+----------+-------+----------+-------+-------+--------------------+--------------------+----+-------------------------+---------------+---------------+---------------+---------------+----------------------------+----------------------------+--------------------+-------------------+\n",
            "only showing top 5 rows\n",
            "\n",
            "RMSE: 29759685.615\n",
            "MAE: 19324797.388\n",
            "r2: 0.605\n"
          ]
        }
      ]
    },
    {
      "cell_type": "code",
      "source": [
        "import matplotlib.pyplot as plt\n",
        "\n",
        "# Extract the model from the pipeline\n",
        "rfModel = model.stages[8]\n",
        "\n",
        "# Get feature importances\n",
        "importances = rfModel.featureImportances\n",
        "\n",
        "# Create a list of feature names\n",
        "feature_names = trainingData.columns\n",
        "feature_names.remove('revenue')\n",
        "\n",
        "# Create a bar chart of feature importances\n",
        "plt.bar(feature_names, importances)\n",
        "plt.xlabel(\"Feature\")\n",
        "plt.ylabel(\"Importance\")\n",
        "plt.xticks(rotation=90)\n",
        "plt.title(\"Feature Importances of RF model\")\n",
        "plt.show()\n"
      ],
      "metadata": {
        "colab": {
          "base_uri": "https://localhost:8080/",
          "height": 393
        },
        "id": "rfsMD2Ndbq_U",
        "outputId": "6ac91c47-1c18-4ed9-ec00-b38a517dc62f"
      },
      "execution_count": null,
      "outputs": [
        {
          "output_type": "display_data",
          "data": {
            "text/plain": [
              "<Figure size 432x288 with 1 Axes>"
            ],
            "image/png": "[encoded data removed]"
          },
          "metadata": {
            "needs_background": "light"
          }
        }
      ]
    },
    {
      "cell_type": "code",
      "source": [],
      "metadata": {
        "id": "GByw_eeXfhwj"
      },
      "execution_count": null,
      "outputs": []
    }
  ]
}
